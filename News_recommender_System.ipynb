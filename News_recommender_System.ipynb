{
 "cells": [
  {
   "cell_type": "code",
   "execution_count": 1,
   "metadata": {},
   "outputs": [],
   "source": [
    "import pandas as pd\n",
    "import numpy as np"
   ]
  },
  {
   "cell_type": "code",
   "execution_count": 2,
   "metadata": {},
   "outputs": [],
   "source": [
    "import warnings\n",
    "warnings.filterwarnings('ignore')"
   ]
  },
  {
   "cell_type": "markdown",
   "metadata": {},
   "source": [
    "## Exploring the customer transactions dataset"
   ]
  },
  {
   "cell_type": "code",
   "execution_count": 3,
   "metadata": {},
   "outputs": [],
   "source": [
    "df_one = pd.read_csv('consumer_transanctions.csv')"
   ]
  },
  {
   "cell_type": "code",
   "execution_count": 4,
   "metadata": {},
   "outputs": [
    {
     "data": {
      "text/plain": [
       "(72312, 8)"
      ]
     },
     "execution_count": 4,
     "metadata": {},
     "output_type": "execute_result"
    }
   ],
   "source": [
    "df_one.shape"
   ]
  },
  {
   "cell_type": "code",
   "execution_count": 5,
   "metadata": {},
   "outputs": [
    {
     "name": "stdout",
     "output_type": "stream",
     "text": [
      "<class 'pandas.core.frame.DataFrame'>\n",
      "RangeIndex: 72312 entries, 0 to 72311\n",
      "Data columns (total 8 columns):\n",
      " #   Column                Non-Null Count  Dtype \n",
      "---  ------                --------------  ----- \n",
      " 0   event_timestamp       72312 non-null  int64 \n",
      " 1   interaction_type      72312 non-null  object\n",
      " 2   item_id               72312 non-null  int64 \n",
      " 3   consumer_id           72312 non-null  int64 \n",
      " 4   consumer_session_id   72312 non-null  object\n",
      " 5   consumer_device_info  56918 non-null  object\n",
      " 6   consumer_location     56907 non-null  object\n",
      " 7   country               56918 non-null  object\n",
      "dtypes: int64(3), object(5)\n",
      "memory usage: 4.4+ MB\n"
     ]
    }
   ],
   "source": [
    "df_one.info()"
   ]
  },
  {
   "cell_type": "code",
   "execution_count": 6,
   "metadata": {},
   "outputs": [
    {
     "data": {
      "text/html": [
       "<div>\n",
       "<style scoped>\n",
       "    .dataframe tbody tr th:only-of-type {\n",
       "        vertical-align: middle;\n",
       "    }\n",
       "\n",
       "    .dataframe tbody tr th {\n",
       "        vertical-align: top;\n",
       "    }\n",
       "\n",
       "    .dataframe thead th {\n",
       "        text-align: right;\n",
       "    }\n",
       "</style>\n",
       "<table border=\"1\" class=\"dataframe\">\n",
       "  <thead>\n",
       "    <tr style=\"text-align: right;\">\n",
       "      <th></th>\n",
       "      <th>event_timestamp</th>\n",
       "      <th>interaction_type</th>\n",
       "      <th>item_id</th>\n",
       "      <th>consumer_id</th>\n",
       "      <th>consumer_session_id</th>\n",
       "      <th>consumer_device_info</th>\n",
       "      <th>consumer_location</th>\n",
       "      <th>country</th>\n",
       "    </tr>\n",
       "  </thead>\n",
       "  <tbody>\n",
       "    <tr>\n",
       "      <th>0</th>\n",
       "      <td>1465413032</td>\n",
       "      <td>content_watched</td>\n",
       "      <td>-3499919498720038879</td>\n",
       "      <td>-8845298781299428018</td>\n",
       "      <td>1264196770339959068</td>\n",
       "      <td>NaN</td>\n",
       "      <td>NaN</td>\n",
       "      <td>NaN</td>\n",
       "    </tr>\n",
       "    <tr>\n",
       "      <th>1</th>\n",
       "      <td>1465412560</td>\n",
       "      <td>content_watched</td>\n",
       "      <td>8890720798209849691</td>\n",
       "      <td>-1032019229384696495</td>\n",
       "      <td>3621737643587579081</td>\n",
       "      <td>Mozilla/5.0 (Macintosh; Intel Mac OS X 10_11_2...</td>\n",
       "      <td>NY</td>\n",
       "      <td>US</td>\n",
       "    </tr>\n",
       "    <tr>\n",
       "      <th>2</th>\n",
       "      <td>1465416190</td>\n",
       "      <td>content_watched</td>\n",
       "      <td>310515487419366995</td>\n",
       "      <td>-1130272294246983140</td>\n",
       "      <td>2631864456530402479</td>\n",
       "      <td>NaN</td>\n",
       "      <td>NaN</td>\n",
       "      <td>NaN</td>\n",
       "    </tr>\n",
       "    <tr>\n",
       "      <th>3</th>\n",
       "      <td>1465413895</td>\n",
       "      <td>content_followed</td>\n",
       "      <td>310515487419366995</td>\n",
       "      <td>344280948527967603</td>\n",
       "      <td>-3167637573980064150</td>\n",
       "      <td>NaN</td>\n",
       "      <td>NaN</td>\n",
       "      <td>NaN</td>\n",
       "    </tr>\n",
       "    <tr>\n",
       "      <th>4</th>\n",
       "      <td>1465412290</td>\n",
       "      <td>content_watched</td>\n",
       "      <td>-7820640624231356730</td>\n",
       "      <td>-445337111692715325</td>\n",
       "      <td>561148 1178424124714</td>\n",
       "      <td>NaN</td>\n",
       "      <td>NaN</td>\n",
       "      <td>NaN</td>\n",
       "    </tr>\n",
       "  </tbody>\n",
       "</table>\n",
       "</div>"
      ],
      "text/plain": [
       "   event_timestamp  interaction_type              item_id  \\\n",
       "0       1465413032   content_watched -3499919498720038879   \n",
       "1       1465412560   content_watched  8890720798209849691   \n",
       "2       1465416190   content_watched   310515487419366995   \n",
       "3       1465413895  content_followed   310515487419366995   \n",
       "4       1465412290   content_watched -7820640624231356730   \n",
       "\n",
       "           consumer_id   consumer_session_id  \\\n",
       "0 -8845298781299428018   1264196770339959068   \n",
       "1 -1032019229384696495   3621737643587579081   \n",
       "2 -1130272294246983140   2631864456530402479   \n",
       "3   344280948527967603  -3167637573980064150   \n",
       "4  -445337111692715325  561148 1178424124714   \n",
       "\n",
       "                                consumer_device_info consumer_location country  \n",
       "0                                                NaN               NaN     NaN  \n",
       "1  Mozilla/5.0 (Macintosh; Intel Mac OS X 10_11_2...                NY      US  \n",
       "2                                                NaN               NaN     NaN  \n",
       "3                                                NaN               NaN     NaN  \n",
       "4                                                NaN               NaN     NaN  "
      ]
     },
     "execution_count": 6,
     "metadata": {},
     "output_type": "execute_result"
    }
   ],
   "source": [
    "df_one.head()"
   ]
  },
  {
   "cell_type": "code",
   "execution_count": 7,
   "metadata": {},
   "outputs": [
    {
     "data": {
      "text/plain": [
       "content_watched         61086\n",
       "content_liked            5745\n",
       "content_saved            2463\n",
       "content_commented_on     1611\n",
       "content_followed         1407\n",
       "Name: interaction_type, dtype: int64"
      ]
     },
     "execution_count": 7,
     "metadata": {},
     "output_type": "execute_result"
    }
   ],
   "source": [
    "df_one['interaction_type'].value_counts()"
   ]
  },
  {
   "cell_type": "code",
   "execution_count": 8,
   "metadata": {},
   "outputs": [],
   "source": [
    "# dropping columns that are not relevant for the model \n",
    "df_one = df_one.drop(['event_timestamp','consumer_session_id','consumer_device_info','consumer_location','country'], axis =1)"
   ]
  },
  {
   "cell_type": "code",
   "execution_count": 9,
   "metadata": {},
   "outputs": [
    {
     "data": {
      "text/html": [
       "<div>\n",
       "<style scoped>\n",
       "    .dataframe tbody tr th:only-of-type {\n",
       "        vertical-align: middle;\n",
       "    }\n",
       "\n",
       "    .dataframe tbody tr th {\n",
       "        vertical-align: top;\n",
       "    }\n",
       "\n",
       "    .dataframe thead th {\n",
       "        text-align: right;\n",
       "    }\n",
       "</style>\n",
       "<table border=\"1\" class=\"dataframe\">\n",
       "  <thead>\n",
       "    <tr style=\"text-align: right;\">\n",
       "      <th></th>\n",
       "      <th>interaction_type</th>\n",
       "      <th>item_id</th>\n",
       "      <th>consumer_id</th>\n",
       "    </tr>\n",
       "  </thead>\n",
       "  <tbody>\n",
       "    <tr>\n",
       "      <th>0</th>\n",
       "      <td>content_watched</td>\n",
       "      <td>-3499919498720038879</td>\n",
       "      <td>-8845298781299428018</td>\n",
       "    </tr>\n",
       "    <tr>\n",
       "      <th>1</th>\n",
       "      <td>content_watched</td>\n",
       "      <td>8890720798209849691</td>\n",
       "      <td>-1032019229384696495</td>\n",
       "    </tr>\n",
       "    <tr>\n",
       "      <th>2</th>\n",
       "      <td>content_watched</td>\n",
       "      <td>310515487419366995</td>\n",
       "      <td>-1130272294246983140</td>\n",
       "    </tr>\n",
       "    <tr>\n",
       "      <th>3</th>\n",
       "      <td>content_followed</td>\n",
       "      <td>310515487419366995</td>\n",
       "      <td>344280948527967603</td>\n",
       "    </tr>\n",
       "    <tr>\n",
       "      <th>4</th>\n",
       "      <td>content_watched</td>\n",
       "      <td>-7820640624231356730</td>\n",
       "      <td>-445337111692715325</td>\n",
       "    </tr>\n",
       "  </tbody>\n",
       "</table>\n",
       "</div>"
      ],
      "text/plain": [
       "   interaction_type              item_id          consumer_id\n",
       "0   content_watched -3499919498720038879 -8845298781299428018\n",
       "1   content_watched  8890720798209849691 -1032019229384696495\n",
       "2   content_watched   310515487419366995 -1130272294246983140\n",
       "3  content_followed   310515487419366995   344280948527967603\n",
       "4   content_watched -7820640624231356730  -445337111692715325"
      ]
     },
     "execution_count": 9,
     "metadata": {},
     "output_type": "execute_result"
    }
   ],
   "source": [
    "df_one.head()"
   ]
  },
  {
   "cell_type": "code",
   "execution_count": 10,
   "metadata": {},
   "outputs": [],
   "source": [
    "# creating a function to convert the 'column interaction_type' to numeric values \n",
    "\n",
    "def interaction(x):\n",
    "    if x =='content_liked':\n",
    "        return 1\n",
    "    elif x == 'content_saved':\n",
    "        return 2\n",
    "    elif x == 'content_commented_on':\n",
    "        return 3\n",
    "    elif x == 'content_followed':\n",
    "        return 4\n",
    "    else:\n",
    "        return 5"
   ]
  },
  {
   "cell_type": "code",
   "execution_count": 11,
   "metadata": {},
   "outputs": [],
   "source": [
    "df_one['interaction_type'] = df_one['interaction_type'].apply(lambda x:interaction(x))"
   ]
  },
  {
   "cell_type": "code",
   "execution_count": 12,
   "metadata": {},
   "outputs": [
    {
     "data": {
      "text/plain": [
       "5    61086\n",
       "1     5745\n",
       "2     2463\n",
       "3     1611\n",
       "4     1407\n",
       "Name: interaction_type, dtype: int64"
      ]
     },
     "execution_count": 12,
     "metadata": {},
     "output_type": "execute_result"
    }
   ],
   "source": [
    "df_one['interaction_type'].value_counts()"
   ]
  },
  {
   "cell_type": "code",
   "execution_count": 13,
   "metadata": {},
   "outputs": [
    {
     "data": {
      "text/html": [
       "<div>\n",
       "<style scoped>\n",
       "    .dataframe tbody tr th:only-of-type {\n",
       "        vertical-align: middle;\n",
       "    }\n",
       "\n",
       "    .dataframe tbody tr th {\n",
       "        vertical-align: top;\n",
       "    }\n",
       "\n",
       "    .dataframe thead th {\n",
       "        text-align: right;\n",
       "    }\n",
       "</style>\n",
       "<table border=\"1\" class=\"dataframe\">\n",
       "  <thead>\n",
       "    <tr style=\"text-align: right;\">\n",
       "      <th></th>\n",
       "      <th>interaction_type</th>\n",
       "      <th>item_id</th>\n",
       "      <th>consumer_id</th>\n",
       "    </tr>\n",
       "  </thead>\n",
       "  <tbody>\n",
       "    <tr>\n",
       "      <th>0</th>\n",
       "      <td>5</td>\n",
       "      <td>-3499919498720038879</td>\n",
       "      <td>-8845298781299428018</td>\n",
       "    </tr>\n",
       "    <tr>\n",
       "      <th>1</th>\n",
       "      <td>5</td>\n",
       "      <td>8890720798209849691</td>\n",
       "      <td>-1032019229384696495</td>\n",
       "    </tr>\n",
       "    <tr>\n",
       "      <th>2</th>\n",
       "      <td>5</td>\n",
       "      <td>310515487419366995</td>\n",
       "      <td>-1130272294246983140</td>\n",
       "    </tr>\n",
       "    <tr>\n",
       "      <th>3</th>\n",
       "      <td>4</td>\n",
       "      <td>310515487419366995</td>\n",
       "      <td>344280948527967603</td>\n",
       "    </tr>\n",
       "    <tr>\n",
       "      <th>4</th>\n",
       "      <td>5</td>\n",
       "      <td>-7820640624231356730</td>\n",
       "      <td>-445337111692715325</td>\n",
       "    </tr>\n",
       "  </tbody>\n",
       "</table>\n",
       "</div>"
      ],
      "text/plain": [
       "   interaction_type              item_id          consumer_id\n",
       "0                 5 -3499919498720038879 -8845298781299428018\n",
       "1                 5  8890720798209849691 -1032019229384696495\n",
       "2                 5   310515487419366995 -1130272294246983140\n",
       "3                 4   310515487419366995   344280948527967603\n",
       "4                 5 -7820640624231356730  -445337111692715325"
      ]
     },
     "execution_count": 13,
     "metadata": {},
     "output_type": "execute_result"
    }
   ],
   "source": [
    "df_one.head()"
   ]
  },
  {
   "cell_type": "markdown",
   "metadata": {},
   "source": [
    "## Exploring the Platform Content Dataframe"
   ]
  },
  {
   "cell_type": "code",
   "execution_count": 6,
   "metadata": {},
   "outputs": [],
   "source": [
    "df_two = pd.read_csv('platform_content.csv')"
   ]
  },
  {
   "cell_type": "code",
   "execution_count": 7,
   "metadata": {},
   "outputs": [
    {
     "data": {
      "text/plain": [
       "(3122, 13)"
      ]
     },
     "execution_count": 7,
     "metadata": {},
     "output_type": "execute_result"
    }
   ],
   "source": [
    "df_two.shape"
   ]
  },
  {
   "cell_type": "code",
   "execution_count": 8,
   "metadata": {},
   "outputs": [
    {
     "name": "stdout",
     "output_type": "stream",
     "text": [
      "<class 'pandas.core.frame.DataFrame'>\n",
      "RangeIndex: 3122 entries, 0 to 3121\n",
      "Data columns (total 13 columns):\n",
      " #   Column                Non-Null Count  Dtype \n",
      "---  ------                --------------  ----- \n",
      " 0   event_timestamp       3122 non-null   int64 \n",
      " 1   interaction_type      3122 non-null   object\n",
      " 2   item_id               3122 non-null   int64 \n",
      " 3   producer_id           3122 non-null   int64 \n",
      " 4   producer_session_id   3122 non-null   int64 \n",
      " 5   producer_device_info  680 non-null    object\n",
      " 6   producer_location     680 non-null    object\n",
      " 7   producer_country      680 non-null    object\n",
      " 8   item_type             3122 non-null   object\n",
      " 9   item_url              3122 non-null   object\n",
      " 10  title                 3122 non-null   object\n",
      " 11  text_description      3122 non-null   object\n",
      " 12  language              3122 non-null   object\n",
      "dtypes: int64(4), object(9)\n",
      "memory usage: 317.2+ KB\n"
     ]
    }
   ],
   "source": [
    "df_two.info()"
   ]
  },
  {
   "cell_type": "code",
   "execution_count": 9,
   "metadata": {},
   "outputs": [
    {
     "data": {
      "text/plain": [
       "en    2264\n",
       "pt     850\n",
       "la       4\n",
       "ja       2\n",
       "es       2\n",
       "Name: language, dtype: int64"
      ]
     },
     "execution_count": 9,
     "metadata": {},
     "output_type": "execute_result"
    }
   ],
   "source": [
    "df_two['language'].value_counts()"
   ]
  },
  {
   "cell_type": "code",
   "execution_count": 10,
   "metadata": {},
   "outputs": [
    {
     "data": {
      "text/plain": [
       "content_present       3047\n",
       "content_pulled_out      75\n",
       "Name: interaction_type, dtype: int64"
      ]
     },
     "execution_count": 10,
     "metadata": {},
     "output_type": "execute_result"
    }
   ],
   "source": [
    "df_two['interaction_type'].value_counts()"
   ]
  },
  {
   "cell_type": "code",
   "execution_count": 11,
   "metadata": {},
   "outputs": [],
   "source": [
    "# the column 'interaction_type' in df_two does not have any significance to our analysis "
   ]
  },
  {
   "cell_type": "code",
   "execution_count": 12,
   "metadata": {},
   "outputs": [],
   "source": [
    "df_two = df_two[['item_id', 'title','text_description','language']]"
   ]
  },
  {
   "cell_type": "markdown",
   "metadata": {},
   "source": [
    "### Creating a dataframe with unique item ids"
   ]
  },
  {
   "cell_type": "code",
   "execution_count": 13,
   "metadata": {},
   "outputs": [],
   "source": [
    "item_ids = df_two['item_id'].unique().tolist()"
   ]
  },
  {
   "cell_type": "code",
   "execution_count": 14,
   "metadata": {},
   "outputs": [],
   "source": [
    "unique_item = pd.DataFrame(item_ids)"
   ]
  },
  {
   "cell_type": "code",
   "execution_count": 15,
   "metadata": {},
   "outputs": [
    {
     "data": {
      "text/html": [
       "<div>\n",
       "<style scoped>\n",
       "    .dataframe tbody tr th:only-of-type {\n",
       "        vertical-align: middle;\n",
       "    }\n",
       "\n",
       "    .dataframe tbody tr th {\n",
       "        vertical-align: top;\n",
       "    }\n",
       "\n",
       "    .dataframe thead th {\n",
       "        text-align: right;\n",
       "    }\n",
       "</style>\n",
       "<table border=\"1\" class=\"dataframe\">\n",
       "  <thead>\n",
       "    <tr style=\"text-align: right;\">\n",
       "      <th></th>\n",
       "      <th>0</th>\n",
       "    </tr>\n",
       "  </thead>\n",
       "  <tbody>\n",
       "    <tr>\n",
       "      <th>0</th>\n",
       "      <td>-6451309518266745024</td>\n",
       "    </tr>\n",
       "    <tr>\n",
       "      <th>1</th>\n",
       "      <td>-4110354420726924665</td>\n",
       "    </tr>\n",
       "    <tr>\n",
       "      <th>2</th>\n",
       "      <td>-7292285110016212249</td>\n",
       "    </tr>\n",
       "    <tr>\n",
       "      <th>3</th>\n",
       "      <td>-6151852268067518688</td>\n",
       "    </tr>\n",
       "    <tr>\n",
       "      <th>4</th>\n",
       "      <td>2448026894306402386</td>\n",
       "    </tr>\n",
       "  </tbody>\n",
       "</table>\n",
       "</div>"
      ],
      "text/plain": [
       "                     0\n",
       "0 -6451309518266745024\n",
       "1 -4110354420726924665\n",
       "2 -7292285110016212249\n",
       "3 -6151852268067518688\n",
       "4  2448026894306402386"
      ]
     },
     "execution_count": 15,
     "metadata": {},
     "output_type": "execute_result"
    }
   ],
   "source": [
    "unique_item.head()"
   ]
  },
  {
   "cell_type": "code",
   "execution_count": 16,
   "metadata": {},
   "outputs": [],
   "source": [
    "unique_item.reset_index(inplace = True)"
   ]
  },
  {
   "cell_type": "code",
   "execution_count": 17,
   "metadata": {},
   "outputs": [
    {
     "data": {
      "text/html": [
       "<div>\n",
       "<style scoped>\n",
       "    .dataframe tbody tr th:only-of-type {\n",
       "        vertical-align: middle;\n",
       "    }\n",
       "\n",
       "    .dataframe tbody tr th {\n",
       "        vertical-align: top;\n",
       "    }\n",
       "\n",
       "    .dataframe thead th {\n",
       "        text-align: right;\n",
       "    }\n",
       "</style>\n",
       "<table border=\"1\" class=\"dataframe\">\n",
       "  <thead>\n",
       "    <tr style=\"text-align: right;\">\n",
       "      <th></th>\n",
       "      <th>index</th>\n",
       "      <th>0</th>\n",
       "    </tr>\n",
       "  </thead>\n",
       "  <tbody>\n",
       "    <tr>\n",
       "      <th>0</th>\n",
       "      <td>0</td>\n",
       "      <td>-6451309518266745024</td>\n",
       "    </tr>\n",
       "    <tr>\n",
       "      <th>1</th>\n",
       "      <td>1</td>\n",
       "      <td>-4110354420726924665</td>\n",
       "    </tr>\n",
       "    <tr>\n",
       "      <th>2</th>\n",
       "      <td>2</td>\n",
       "      <td>-7292285110016212249</td>\n",
       "    </tr>\n",
       "    <tr>\n",
       "      <th>3</th>\n",
       "      <td>3</td>\n",
       "      <td>-6151852268067518688</td>\n",
       "    </tr>\n",
       "    <tr>\n",
       "      <th>4</th>\n",
       "      <td>4</td>\n",
       "      <td>2448026894306402386</td>\n",
       "    </tr>\n",
       "  </tbody>\n",
       "</table>\n",
       "</div>"
      ],
      "text/plain": [
       "   index                    0\n",
       "0      0 -6451309518266745024\n",
       "1      1 -4110354420726924665\n",
       "2      2 -7292285110016212249\n",
       "3      3 -6151852268067518688\n",
       "4      4  2448026894306402386"
      ]
     },
     "execution_count": 17,
     "metadata": {},
     "output_type": "execute_result"
    }
   ],
   "source": [
    "unique_item.head()"
   ]
  },
  {
   "cell_type": "code",
   "execution_count": 18,
   "metadata": {},
   "outputs": [],
   "source": [
    "unique_item.columns = ['item_no','item_id']"
   ]
  },
  {
   "cell_type": "code",
   "execution_count": 19,
   "metadata": {},
   "outputs": [
    {
     "data": {
      "text/html": [
       "<div>\n",
       "<style scoped>\n",
       "    .dataframe tbody tr th:only-of-type {\n",
       "        vertical-align: middle;\n",
       "    }\n",
       "\n",
       "    .dataframe tbody tr th {\n",
       "        vertical-align: top;\n",
       "    }\n",
       "\n",
       "    .dataframe thead th {\n",
       "        text-align: right;\n",
       "    }\n",
       "</style>\n",
       "<table border=\"1\" class=\"dataframe\">\n",
       "  <thead>\n",
       "    <tr style=\"text-align: right;\">\n",
       "      <th></th>\n",
       "      <th>item_no</th>\n",
       "      <th>item_id</th>\n",
       "    </tr>\n",
       "  </thead>\n",
       "  <tbody>\n",
       "    <tr>\n",
       "      <th>0</th>\n",
       "      <td>0</td>\n",
       "      <td>-6451309518266745024</td>\n",
       "    </tr>\n",
       "    <tr>\n",
       "      <th>1</th>\n",
       "      <td>1</td>\n",
       "      <td>-4110354420726924665</td>\n",
       "    </tr>\n",
       "    <tr>\n",
       "      <th>2</th>\n",
       "      <td>2</td>\n",
       "      <td>-7292285110016212249</td>\n",
       "    </tr>\n",
       "    <tr>\n",
       "      <th>3</th>\n",
       "      <td>3</td>\n",
       "      <td>-6151852268067518688</td>\n",
       "    </tr>\n",
       "    <tr>\n",
       "      <th>4</th>\n",
       "      <td>4</td>\n",
       "      <td>2448026894306402386</td>\n",
       "    </tr>\n",
       "  </tbody>\n",
       "</table>\n",
       "</div>"
      ],
      "text/plain": [
       "   item_no              item_id\n",
       "0        0 -6451309518266745024\n",
       "1        1 -4110354420726924665\n",
       "2        2 -7292285110016212249\n",
       "3        3 -6151852268067518688\n",
       "4        4  2448026894306402386"
      ]
     },
     "execution_count": 19,
     "metadata": {},
     "output_type": "execute_result"
    }
   ],
   "source": [
    "unique_item.head()"
   ]
  },
  {
   "cell_type": "code",
   "execution_count": 20,
   "metadata": {},
   "outputs": [
    {
     "data": {
      "text/plain": [
       "(3057, 2)"
      ]
     },
     "execution_count": 20,
     "metadata": {},
     "output_type": "execute_result"
    }
   ],
   "source": [
    "unique_item.shape"
   ]
  },
  {
   "cell_type": "code",
   "execution_count": 21,
   "metadata": {},
   "outputs": [],
   "source": [
    "# Merging the dataframes : unique_item and df_two"
   ]
  },
  {
   "cell_type": "code",
   "execution_count": 22,
   "metadata": {},
   "outputs": [],
   "source": [
    "temp = pd.merge(unique_item, df_two, on='item_id', how='left')"
   ]
  },
  {
   "cell_type": "code",
   "execution_count": 24,
   "metadata": {
    "scrolled": true
   },
   "outputs": [
    {
     "data": {
      "text/html": [
       "<div>\n",
       "<style scoped>\n",
       "    .dataframe tbody tr th:only-of-type {\n",
       "        vertical-align: middle;\n",
       "    }\n",
       "\n",
       "    .dataframe tbody tr th {\n",
       "        vertical-align: top;\n",
       "    }\n",
       "\n",
       "    .dataframe thead th {\n",
       "        text-align: right;\n",
       "    }\n",
       "</style>\n",
       "<table border=\"1\" class=\"dataframe\">\n",
       "  <thead>\n",
       "    <tr style=\"text-align: right;\">\n",
       "      <th></th>\n",
       "      <th>item_no</th>\n",
       "      <th>item_id</th>\n",
       "      <th>title</th>\n",
       "      <th>text_description</th>\n",
       "      <th>language</th>\n",
       "    </tr>\n",
       "  </thead>\n",
       "  <tbody>\n",
       "    <tr>\n",
       "      <th>0</th>\n",
       "      <td>0</td>\n",
       "      <td>-6451309518266745024</td>\n",
       "      <td>Ethereum, a Virtual Currency, Enables Transact...</td>\n",
       "      <td>All of this work is still very early. The firs...</td>\n",
       "      <td>en</td>\n",
       "    </tr>\n",
       "    <tr>\n",
       "      <th>1</th>\n",
       "      <td>1</td>\n",
       "      <td>-4110354420726924665</td>\n",
       "      <td>Ethereum, a Virtual Currency, Enables Transact...</td>\n",
       "      <td>All of this work is still very early. The firs...</td>\n",
       "      <td>en</td>\n",
       "    </tr>\n",
       "    <tr>\n",
       "      <th>2</th>\n",
       "      <td>2</td>\n",
       "      <td>-7292285110016212249</td>\n",
       "      <td>Bitcoin Future: When GBPcoin of Branson Wins O...</td>\n",
       "      <td>The alarm clock wakes me at 8:00 with stream o...</td>\n",
       "      <td>en</td>\n",
       "    </tr>\n",
       "    <tr>\n",
       "      <th>3</th>\n",
       "      <td>3</td>\n",
       "      <td>-6151852268067518688</td>\n",
       "      <td>Google Data Center 360° Tour</td>\n",
       "      <td>We're excited to share the Google Data Center ...</td>\n",
       "      <td>en</td>\n",
       "    </tr>\n",
       "    <tr>\n",
       "      <th>4</th>\n",
       "      <td>4</td>\n",
       "      <td>2448026894306402386</td>\n",
       "      <td>IBM Wants to \"Evolve the Internet\" With Blockc...</td>\n",
       "      <td>The Aite Group projects the blockchain market ...</td>\n",
       "      <td>en</td>\n",
       "    </tr>\n",
       "    <tr>\n",
       "      <th>5</th>\n",
       "      <td>5</td>\n",
       "      <td>-2826566343807132236</td>\n",
       "      <td>IEEE to Talk Blockchain at Cloud Computing Oxf...</td>\n",
       "      <td>One of the largest and oldest organizations fo...</td>\n",
       "      <td>en</td>\n",
       "    </tr>\n",
       "    <tr>\n",
       "      <th>6</th>\n",
       "      <td>6</td>\n",
       "      <td>-2148899391355011268</td>\n",
       "      <td>Banks Need To Collaborate With Bitcoin and Fin...</td>\n",
       "      <td>It will take time until banks come around to t...</td>\n",
       "      <td>en</td>\n",
       "    </tr>\n",
       "    <tr>\n",
       "      <th>7</th>\n",
       "      <td>7</td>\n",
       "      <td>4119190424078847945</td>\n",
       "      <td>Blockchain Technology Could Put Bank Auditors ...</td>\n",
       "      <td>When most people think about computers and rob...</td>\n",
       "      <td>en</td>\n",
       "    </tr>\n",
       "    <tr>\n",
       "      <th>8</th>\n",
       "      <td>8</td>\n",
       "      <td>-7926018713416777892</td>\n",
       "      <td>Why Decentralized Conglomerates Will Scale Bet...</td>\n",
       "      <td>Bitcoin.com spoke with the OpenLedger CEO, Ron...</td>\n",
       "      <td>en</td>\n",
       "    </tr>\n",
       "    <tr>\n",
       "      <th>9</th>\n",
       "      <td>9</td>\n",
       "      <td>3353902017498793780</td>\n",
       "      <td>The Rise And Growth of Ethereum Gets Mainstrea...</td>\n",
       "      <td>Ethereum, considered by many to be the most pr...</td>\n",
       "      <td>en</td>\n",
       "    </tr>\n",
       "    <tr>\n",
       "      <th>10</th>\n",
       "      <td>10</td>\n",
       "      <td>-9157338616628196758</td>\n",
       "      <td>Situação financeira ruim de varejistas pressio...</td>\n",
       "      <td>A queda nas vendas e a deterioração na situaçã...</td>\n",
       "      <td>pt</td>\n",
       "    </tr>\n",
       "    <tr>\n",
       "      <th>11</th>\n",
       "      <td>11</td>\n",
       "      <td>1805789466376069146</td>\n",
       "      <td>Setting Up HTTP(S) Load Balancing</td>\n",
       "      <td>HTTP(S) load balancing provides global load ba...</td>\n",
       "      <td>en</td>\n",
       "    </tr>\n",
       "    <tr>\n",
       "      <th>12</th>\n",
       "      <td>12</td>\n",
       "      <td>-2081760549863309770</td>\n",
       "      <td>Setting Up SSL proxy for Google Cloud Load Bal...</td>\n",
       "      <td>Alpha This is an Alpha release of Setting Up S...</td>\n",
       "      <td>en</td>\n",
       "    </tr>\n",
       "    <tr>\n",
       "      <th>13</th>\n",
       "      <td>13</td>\n",
       "      <td>-5170198873410718233</td>\n",
       "      <td>NTT to buy Dell's services division for $3.05 ...</td>\n",
       "      <td>You may know Dell as a computer and server mak...</td>\n",
       "      <td>en</td>\n",
       "    </tr>\n",
       "    <tr>\n",
       "      <th>14</th>\n",
       "      <td>14</td>\n",
       "      <td>-3367778232969996503</td>\n",
       "      <td>Good riddance, gig economy: Uber, Ayn Rand and...</td>\n",
       "      <td>The Uber model just doesn't work for other ind...</td>\n",
       "      <td>en</td>\n",
       "    </tr>\n",
       "    <tr>\n",
       "      <th>15</th>\n",
       "      <td>15</td>\n",
       "      <td>4988225165850707692</td>\n",
       "      <td>The internet of a billion things | ET CIO</td>\n",
       "      <td>Industrial adoption of IoT dubbed as Industria...</td>\n",
       "      <td>en</td>\n",
       "    </tr>\n",
       "    <tr>\n",
       "      <th>16</th>\n",
       "      <td>16</td>\n",
       "      <td>-5917314377186856799</td>\n",
       "      <td>Artigos e Palestras - Programa Agricultura de ...</td>\n",
       "      <td>Artigos e Palestras ARTIGOS / 2015 12/08/2015 ...</td>\n",
       "      <td>pt</td>\n",
       "    </tr>\n",
       "    <tr>\n",
       "      <th>17</th>\n",
       "      <td>17</td>\n",
       "      <td>6157037646878010131</td>\n",
       "      <td>Rede Agricultura de Precisão II</td>\n",
       "      <td>Do Se Te Qu Qu Se Sa 27 28 29 30 31 Faça downl...</td>\n",
       "      <td>pt</td>\n",
       "    </tr>\n",
       "    <tr>\n",
       "      <th>18</th>\n",
       "      <td>18</td>\n",
       "      <td>6023609667389715259</td>\n",
       "      <td>Five Bitcoin and Ethereum Based Projects to Wa...</td>\n",
       "      <td>Five Bitcoin and Ethereum Based Projects to Wa...</td>\n",
       "      <td>en</td>\n",
       "    </tr>\n",
       "    <tr>\n",
       "      <th>19</th>\n",
       "      <td>19</td>\n",
       "      <td>7905485530310717815</td>\n",
       "      <td>Blockchain Smart Contracts Startup Selected By...</td>\n",
       "      <td>CommonAccord, a blockchain-based startup for l...</td>\n",
       "      <td>en</td>\n",
       "    </tr>\n",
       "  </tbody>\n",
       "</table>\n",
       "</div>"
      ],
      "text/plain": [
       "    item_no              item_id  \\\n",
       "0         0 -6451309518266745024   \n",
       "1         1 -4110354420726924665   \n",
       "2         2 -7292285110016212249   \n",
       "3         3 -6151852268067518688   \n",
       "4         4  2448026894306402386   \n",
       "5         5 -2826566343807132236   \n",
       "6         6 -2148899391355011268   \n",
       "7         7  4119190424078847945   \n",
       "8         8 -7926018713416777892   \n",
       "9         9  3353902017498793780   \n",
       "10       10 -9157338616628196758   \n",
       "11       11  1805789466376069146   \n",
       "12       12 -2081760549863309770   \n",
       "13       13 -5170198873410718233   \n",
       "14       14 -3367778232969996503   \n",
       "15       15  4988225165850707692   \n",
       "16       16 -5917314377186856799   \n",
       "17       17  6157037646878010131   \n",
       "18       18  6023609667389715259   \n",
       "19       19  7905485530310717815   \n",
       "\n",
       "                                                title  \\\n",
       "0   Ethereum, a Virtual Currency, Enables Transact...   \n",
       "1   Ethereum, a Virtual Currency, Enables Transact...   \n",
       "2   Bitcoin Future: When GBPcoin of Branson Wins O...   \n",
       "3                        Google Data Center 360° Tour   \n",
       "4   IBM Wants to \"Evolve the Internet\" With Blockc...   \n",
       "5   IEEE to Talk Blockchain at Cloud Computing Oxf...   \n",
       "6   Banks Need To Collaborate With Bitcoin and Fin...   \n",
       "7   Blockchain Technology Could Put Bank Auditors ...   \n",
       "8   Why Decentralized Conglomerates Will Scale Bet...   \n",
       "9   The Rise And Growth of Ethereum Gets Mainstrea...   \n",
       "10  Situação financeira ruim de varejistas pressio...   \n",
       "11                  Setting Up HTTP(S) Load Balancing   \n",
       "12  Setting Up SSL proxy for Google Cloud Load Bal...   \n",
       "13  NTT to buy Dell's services division for $3.05 ...   \n",
       "14  Good riddance, gig economy: Uber, Ayn Rand and...   \n",
       "15          The internet of a billion things | ET CIO   \n",
       "16  Artigos e Palestras - Programa Agricultura de ...   \n",
       "17                    Rede Agricultura de Precisão II   \n",
       "18  Five Bitcoin and Ethereum Based Projects to Wa...   \n",
       "19  Blockchain Smart Contracts Startup Selected By...   \n",
       "\n",
       "                                     text_description language  \n",
       "0   All of this work is still very early. The firs...       en  \n",
       "1   All of this work is still very early. The firs...       en  \n",
       "2   The alarm clock wakes me at 8:00 with stream o...       en  \n",
       "3   We're excited to share the Google Data Center ...       en  \n",
       "4   The Aite Group projects the blockchain market ...       en  \n",
       "5   One of the largest and oldest organizations fo...       en  \n",
       "6   It will take time until banks come around to t...       en  \n",
       "7   When most people think about computers and rob...       en  \n",
       "8   Bitcoin.com spoke with the OpenLedger CEO, Ron...       en  \n",
       "9   Ethereum, considered by many to be the most pr...       en  \n",
       "10  A queda nas vendas e a deterioração na situaçã...       pt  \n",
       "11  HTTP(S) load balancing provides global load ba...       en  \n",
       "12  Alpha This is an Alpha release of Setting Up S...       en  \n",
       "13  You may know Dell as a computer and server mak...       en  \n",
       "14  The Uber model just doesn't work for other ind...       en  \n",
       "15  Industrial adoption of IoT dubbed as Industria...       en  \n",
       "16  Artigos e Palestras ARTIGOS / 2015 12/08/2015 ...       pt  \n",
       "17  Do Se Te Qu Qu Se Sa 27 28 29 30 31 Faça downl...       pt  \n",
       "18  Five Bitcoin and Ethereum Based Projects to Wa...       en  \n",
       "19  CommonAccord, a blockchain-based startup for l...       en  "
      ]
     },
     "execution_count": 24,
     "metadata": {},
     "output_type": "execute_result"
    }
   ],
   "source": [
    "temp.head(20)"
   ]
  },
  {
   "cell_type": "code",
   "execution_count": 25,
   "metadata": {},
   "outputs": [
    {
     "data": {
      "text/plain": [
       "\"Ethereum, a Virtual Currency, Enables Transactions That Rival Bitcoin's\""
      ]
     },
     "execution_count": 25,
     "metadata": {},
     "output_type": "execute_result"
    }
   ],
   "source": [
    "temp.title[1]"
   ]
  },
  {
   "cell_type": "code",
   "execution_count": 27,
   "metadata": {},
   "outputs": [
    {
     "data": {
      "text/plain": [
       "'All of this work is still very early. The first full public version of the Ethereum software was recently released, and the system could face some of the same technical and legal problems that have tarnished Bitcoin. Many Bitcoin advocates say Ethereum will face more security problems than Bitcoin because of the greater complexity of the software. Thus far, Ethereum has faced much less testing, and many fewer attacks, than Bitcoin. The novel design of Ethereum may also invite intense scrutiny by authorities given that potentially fraudulent contracts, like the Ponzi schemes, can be written directly into the Ethereum system. But the sophisticated capabilities of the system have made it fascinating to some executives in corporate America. IBM said last year that it was experimenting with Ethereum as a way to control real world objects in the so-called Internet of things. Microsoft has been working on several projects that make it easier to use Ethereum on its computing cloud, Azure. \"Ethereum is a general platform where you can solve problems in many industries using a fairly elegant solution - the most elegant solution we have seen to date,\" said Marley Gray, a director of business development and strategy at Microsoft. Mr. Gray is responsible for Microsoft\\'s work with blockchains, the database concept that Bitcoin introduced. Blockchains are designed to store transactions and data without requiring any central authority or repository. Blockchain ledgers are generally maintained and updated by networks of computers working together - somewhat similar to the way that Wikipedia is updated and maintained by all its users. Many corporations, though, have created their own Ethereum networks with private blockchains, independent of the public system, and that could ultimately detract from the value of the individual unit in the Ethereum system - known as an Ether - that people have recently been buying. The interest in Ethereum is one sign of the corporate fascination with blockchains. Most major banks have expressed an interest in using them to make trading and money transfer faster and more efficient. On Tuesday, executives from the largest banks will gather for a conference, \"Blockchain: Tapping I nto the Real Potential , Cutting Through the Hype.\" Many of these banks have recently been looking at how some version of Ethereum might be put to use. JPMorgan, for instance, has created a specific tool, Masala, that allows some of its internal databases to interact with an Ethereum blockchain. Michael Novogratz, a former top executive at the private equity firm Fortress Investing Group, who helped lead Fortress\\'s investment in Bitcoin, has been looking at Ethereum since he left Fortress last fall. Mr. Novogratz said that he made a \"significant\" purchase of Ether in January. He has also heard how the financial industry\\'s chatter about the virtual currency has evolved. \"A lot of the more established players were thinking, \\'It\\'s still an experiment,\\' \" he said. \"It feels like in the last two to three months that experiment is at least getting a lot more validation.\" Since the beginning of the year, the value of an individual unit of Ether has soared as high as $12 from around $1. That has brought the value of all existing Ether to over $1 billion at times, significantly more than any virtual currency other than Bitcoin, which had over $6 billion in value outstanding last week. Since Bitcoin was invented, there have been many so-called alt-coins that have tried to improve on Bitcoin, but none have won the following of Ethereum. Unlike Bitcoin, which was released in 2009 by a mysterious creator known as Satoshi Nakamoto, Ethereum was created in a more transparent fashion by a 21-year-old Russian-Canadian, Vitalik Buterin, after he dropped out of Waterloo University in Ontario. The most basic aim of Ethereum was to make it possible to program binding agreements into the blockchain - the smart contract concept. Two people, for instance, could program a bet on a sports game directly into the Ethereum blockchain. Once the final score came in from a mutually agreed upon source - say, The Associated Press - the money would be automatically transferred to the winning party. Ether can be used as a currency in this system, but Ether are also necessary to pay for the network power needed to process the bet. The Ethereum system has sometimes been described as a single shared computer that is run by the network of users and on which resources are parceled out and paid for by Ether. A team of seven co-founders helped Mr. Buterin write up the software after he released the initial description of the system. Mr. Buterin\\'s team raised $18 million in 2014 through a presale of Ether, which helped fund the Ethereum Foundation, which supports the software\\'s development. Like Bitcoin, Ethereum has succeeded by attracting a dedicated network of followers who have helped support the software, partly in the hope that their Ether will increase in value if the system succeeds. Last week, there were 5,800 computers - or nodes - helping support the network around the world. The Bitcoin network had about 7,400 nodes. One of Mr. Buterin\\'s co-founders, Joseph Lubin, has set up ConsenSys, a company based in Brooklyn that has hired over 50 developers to build applications on the Ethereum system, including one that enables music distribution and another that allows for a new kind of financial auditing. The ConsenSys offices are in an old industrial building in the Bushwick section of Brooklyn. The office is essentially one large room, with all the messy trademarks of a start-up operation, including white boards on the walls and computer parts lying around. Mr. Lubin said he had thrown himself into Ethereum after starting to think that it delivered on some of the failed promise of Bitcoin, especially when it came to allowing new kinds of online contracts and markets. \"Bitcoin presented the broad strokes vision, and Ethereum presented the crystallization of how to deliver that vision,\" he said. Joseph Bonneau, a computer science researcher at Stanford who studies so-called crypto-currencies, said Ethereum was the first system that had really caught his interest since Bitcoin. It is far from a sure thing, he cautioned. \"Bitcoin is still probably the safest bet, but Ethereum is certainly No. 2, and some folks will say it is more likely to be around in 10 years,\" Mr. Bonneau said. \"It will depend if any real markets develop around it. If there is some actual application.\"'"
      ]
     },
     "execution_count": 27,
     "metadata": {},
     "output_type": "execute_result"
    }
   ],
   "source": [
    "temp.text_description[1]"
   ]
  },
  {
   "cell_type": "code",
   "execution_count": 32,
   "metadata": {},
   "outputs": [
    {
     "data": {
      "text/plain": [
       "(3122, 5)"
      ]
     },
     "execution_count": 32,
     "metadata": {},
     "output_type": "execute_result"
    }
   ],
   "source": [
    "temp.shape"
   ]
  },
  {
   "cell_type": "markdown",
   "metadata": {},
   "source": [
    "### Creating a dataframe with unique consumer ids"
   ]
  },
  {
   "cell_type": "code",
   "execution_count": 33,
   "metadata": {},
   "outputs": [],
   "source": [
    "con_ids = df_one['consumer_id'].unique().tolist()"
   ]
  },
  {
   "cell_type": "code",
   "execution_count": 34,
   "metadata": {},
   "outputs": [],
   "source": [
    "unique_con = pd.DataFrame(con_ids)"
   ]
  },
  {
   "cell_type": "code",
   "execution_count": 35,
   "metadata": {},
   "outputs": [
    {
     "data": {
      "text/html": [
       "<div>\n",
       "<style scoped>\n",
       "    .dataframe tbody tr th:only-of-type {\n",
       "        vertical-align: middle;\n",
       "    }\n",
       "\n",
       "    .dataframe tbody tr th {\n",
       "        vertical-align: top;\n",
       "    }\n",
       "\n",
       "    .dataframe thead th {\n",
       "        text-align: right;\n",
       "    }\n",
       "</style>\n",
       "<table border=\"1\" class=\"dataframe\">\n",
       "  <thead>\n",
       "    <tr style=\"text-align: right;\">\n",
       "      <th></th>\n",
       "      <th>0</th>\n",
       "    </tr>\n",
       "  </thead>\n",
       "  <tbody>\n",
       "    <tr>\n",
       "      <th>0</th>\n",
       "      <td>-8845298781299428018</td>\n",
       "    </tr>\n",
       "    <tr>\n",
       "      <th>1</th>\n",
       "      <td>-1032019229384696495</td>\n",
       "    </tr>\n",
       "    <tr>\n",
       "      <th>2</th>\n",
       "      <td>-1130272294246983140</td>\n",
       "    </tr>\n",
       "    <tr>\n",
       "      <th>3</th>\n",
       "      <td>344280948527967603</td>\n",
       "    </tr>\n",
       "    <tr>\n",
       "      <th>4</th>\n",
       "      <td>-445337111692715325</td>\n",
       "    </tr>\n",
       "  </tbody>\n",
       "</table>\n",
       "</div>"
      ],
      "text/plain": [
       "                     0\n",
       "0 -8845298781299428018\n",
       "1 -1032019229384696495\n",
       "2 -1130272294246983140\n",
       "3   344280948527967603\n",
       "4  -445337111692715325"
      ]
     },
     "execution_count": 35,
     "metadata": {},
     "output_type": "execute_result"
    }
   ],
   "source": [
    "unique_con.head()"
   ]
  },
  {
   "cell_type": "code",
   "execution_count": 36,
   "metadata": {},
   "outputs": [],
   "source": [
    "unique_con.reset_index(inplace = True)"
   ]
  },
  {
   "cell_type": "code",
   "execution_count": 37,
   "metadata": {},
   "outputs": [
    {
     "data": {
      "text/html": [
       "<div>\n",
       "<style scoped>\n",
       "    .dataframe tbody tr th:only-of-type {\n",
       "        vertical-align: middle;\n",
       "    }\n",
       "\n",
       "    .dataframe tbody tr th {\n",
       "        vertical-align: top;\n",
       "    }\n",
       "\n",
       "    .dataframe thead th {\n",
       "        text-align: right;\n",
       "    }\n",
       "</style>\n",
       "<table border=\"1\" class=\"dataframe\">\n",
       "  <thead>\n",
       "    <tr style=\"text-align: right;\">\n",
       "      <th></th>\n",
       "      <th>index</th>\n",
       "      <th>0</th>\n",
       "    </tr>\n",
       "  </thead>\n",
       "  <tbody>\n",
       "    <tr>\n",
       "      <th>0</th>\n",
       "      <td>0</td>\n",
       "      <td>-8845298781299428018</td>\n",
       "    </tr>\n",
       "    <tr>\n",
       "      <th>1</th>\n",
       "      <td>1</td>\n",
       "      <td>-1032019229384696495</td>\n",
       "    </tr>\n",
       "    <tr>\n",
       "      <th>2</th>\n",
       "      <td>2</td>\n",
       "      <td>-1130272294246983140</td>\n",
       "    </tr>\n",
       "    <tr>\n",
       "      <th>3</th>\n",
       "      <td>3</td>\n",
       "      <td>344280948527967603</td>\n",
       "    </tr>\n",
       "    <tr>\n",
       "      <th>4</th>\n",
       "      <td>4</td>\n",
       "      <td>-445337111692715325</td>\n",
       "    </tr>\n",
       "  </tbody>\n",
       "</table>\n",
       "</div>"
      ],
      "text/plain": [
       "   index                    0\n",
       "0      0 -8845298781299428018\n",
       "1      1 -1032019229384696495\n",
       "2      2 -1130272294246983140\n",
       "3      3   344280948527967603\n",
       "4      4  -445337111692715325"
      ]
     },
     "execution_count": 37,
     "metadata": {},
     "output_type": "execute_result"
    }
   ],
   "source": [
    "unique_con.head()"
   ]
  },
  {
   "cell_type": "code",
   "execution_count": 38,
   "metadata": {},
   "outputs": [],
   "source": [
    "unique_con.columns = ['consumer_no','consumer_id']"
   ]
  },
  {
   "cell_type": "code",
   "execution_count": 39,
   "metadata": {},
   "outputs": [
    {
     "data": {
      "text/html": [
       "<div>\n",
       "<style scoped>\n",
       "    .dataframe tbody tr th:only-of-type {\n",
       "        vertical-align: middle;\n",
       "    }\n",
       "\n",
       "    .dataframe tbody tr th {\n",
       "        vertical-align: top;\n",
       "    }\n",
       "\n",
       "    .dataframe thead th {\n",
       "        text-align: right;\n",
       "    }\n",
       "</style>\n",
       "<table border=\"1\" class=\"dataframe\">\n",
       "  <thead>\n",
       "    <tr style=\"text-align: right;\">\n",
       "      <th></th>\n",
       "      <th>consumer_no</th>\n",
       "      <th>consumer_id</th>\n",
       "    </tr>\n",
       "  </thead>\n",
       "  <tbody>\n",
       "    <tr>\n",
       "      <th>0</th>\n",
       "      <td>0</td>\n",
       "      <td>-8845298781299428018</td>\n",
       "    </tr>\n",
       "    <tr>\n",
       "      <th>1</th>\n",
       "      <td>1</td>\n",
       "      <td>-1032019229384696495</td>\n",
       "    </tr>\n",
       "    <tr>\n",
       "      <th>2</th>\n",
       "      <td>2</td>\n",
       "      <td>-1130272294246983140</td>\n",
       "    </tr>\n",
       "    <tr>\n",
       "      <th>3</th>\n",
       "      <td>3</td>\n",
       "      <td>344280948527967603</td>\n",
       "    </tr>\n",
       "    <tr>\n",
       "      <th>4</th>\n",
       "      <td>4</td>\n",
       "      <td>-445337111692715325</td>\n",
       "    </tr>\n",
       "  </tbody>\n",
       "</table>\n",
       "</div>"
      ],
      "text/plain": [
       "   consumer_no          consumer_id\n",
       "0            0 -8845298781299428018\n",
       "1            1 -1032019229384696495\n",
       "2            2 -1130272294246983140\n",
       "3            3   344280948527967603\n",
       "4            4  -445337111692715325"
      ]
     },
     "execution_count": 39,
     "metadata": {},
     "output_type": "execute_result"
    }
   ],
   "source": [
    "unique_con.head()"
   ]
  },
  {
   "cell_type": "code",
   "execution_count": 40,
   "metadata": {},
   "outputs": [
    {
     "name": "stdout",
     "output_type": "stream",
     "text": [
      "<class 'pandas.core.frame.DataFrame'>\n",
      "RangeIndex: 72312 entries, 0 to 72311\n",
      "Data columns (total 3 columns):\n",
      " #   Column            Non-Null Count  Dtype\n",
      "---  ------            --------------  -----\n",
      " 0   interaction_type  72312 non-null  int64\n",
      " 1   item_id           72312 non-null  int64\n",
      " 2   consumer_id       72312 non-null  int64\n",
      "dtypes: int64(3)\n",
      "memory usage: 1.7 MB\n"
     ]
    }
   ],
   "source": [
    "df_one.info()"
   ]
  },
  {
   "cell_type": "code",
   "execution_count": 41,
   "metadata": {},
   "outputs": [
    {
     "name": "stdout",
     "output_type": "stream",
     "text": [
      "<class 'pandas.core.frame.DataFrame'>\n",
      "RangeIndex: 3122 entries, 0 to 3121\n",
      "Data columns (total 4 columns):\n",
      " #   Column            Non-Null Count  Dtype \n",
      "---  ------            --------------  ----- \n",
      " 0   item_id           3122 non-null   int64 \n",
      " 1   title             3122 non-null   object\n",
      " 2   text_description  3122 non-null   object\n",
      " 3   language          3122 non-null   object\n",
      "dtypes: int64(1), object(3)\n",
      "memory usage: 97.7+ KB\n"
     ]
    }
   ],
   "source": [
    "df_two.info()"
   ]
  },
  {
   "cell_type": "code",
   "execution_count": 42,
   "metadata": {},
   "outputs": [],
   "source": [
    "# Merging the dataframes : temp and df_one\n",
    "merged_temp = pd.merge(df_one,unique_con, on ='consumer_id', how ='left')"
   ]
  },
  {
   "cell_type": "code",
   "execution_count": 43,
   "metadata": {},
   "outputs": [
    {
     "data": {
      "text/html": [
       "<div>\n",
       "<style scoped>\n",
       "    .dataframe tbody tr th:only-of-type {\n",
       "        vertical-align: middle;\n",
       "    }\n",
       "\n",
       "    .dataframe tbody tr th {\n",
       "        vertical-align: top;\n",
       "    }\n",
       "\n",
       "    .dataframe thead th {\n",
       "        text-align: right;\n",
       "    }\n",
       "</style>\n",
       "<table border=\"1\" class=\"dataframe\">\n",
       "  <thead>\n",
       "    <tr style=\"text-align: right;\">\n",
       "      <th></th>\n",
       "      <th>interaction_type</th>\n",
       "      <th>item_id</th>\n",
       "      <th>consumer_id</th>\n",
       "      <th>consumer_no</th>\n",
       "    </tr>\n",
       "  </thead>\n",
       "  <tbody>\n",
       "    <tr>\n",
       "      <th>0</th>\n",
       "      <td>5</td>\n",
       "      <td>-3499919498720038879</td>\n",
       "      <td>-8845298781299428018</td>\n",
       "      <td>0</td>\n",
       "    </tr>\n",
       "    <tr>\n",
       "      <th>1</th>\n",
       "      <td>5</td>\n",
       "      <td>8890720798209849691</td>\n",
       "      <td>-1032019229384696495</td>\n",
       "      <td>1</td>\n",
       "    </tr>\n",
       "    <tr>\n",
       "      <th>2</th>\n",
       "      <td>5</td>\n",
       "      <td>310515487419366995</td>\n",
       "      <td>-1130272294246983140</td>\n",
       "      <td>2</td>\n",
       "    </tr>\n",
       "    <tr>\n",
       "      <th>3</th>\n",
       "      <td>4</td>\n",
       "      <td>310515487419366995</td>\n",
       "      <td>344280948527967603</td>\n",
       "      <td>3</td>\n",
       "    </tr>\n",
       "    <tr>\n",
       "      <th>4</th>\n",
       "      <td>5</td>\n",
       "      <td>-7820640624231356730</td>\n",
       "      <td>-445337111692715325</td>\n",
       "      <td>4</td>\n",
       "    </tr>\n",
       "  </tbody>\n",
       "</table>\n",
       "</div>"
      ],
      "text/plain": [
       "   interaction_type              item_id          consumer_id  consumer_no\n",
       "0                 5 -3499919498720038879 -8845298781299428018            0\n",
       "1                 5  8890720798209849691 -1032019229384696495            1\n",
       "2                 5   310515487419366995 -1130272294246983140            2\n",
       "3                 4   310515487419366995   344280948527967603            3\n",
       "4                 5 -7820640624231356730  -445337111692715325            4"
      ]
     },
     "execution_count": 43,
     "metadata": {},
     "output_type": "execute_result"
    }
   ],
   "source": [
    "merged_temp.head()"
   ]
  },
  {
   "cell_type": "code",
   "execution_count": 44,
   "metadata": {},
   "outputs": [
    {
     "data": {
      "text/plain": [
       "(72312, 4)"
      ]
     },
     "execution_count": 44,
     "metadata": {},
     "output_type": "execute_result"
    }
   ],
   "source": [
    "merged_temp.shape"
   ]
  },
  {
   "cell_type": "code",
   "execution_count": 45,
   "metadata": {},
   "outputs": [],
   "source": [
    "merged_temp = merged_temp.drop('consumer_id', axis = 1)"
   ]
  },
  {
   "cell_type": "code",
   "execution_count": 46,
   "metadata": {},
   "outputs": [
    {
     "data": {
      "text/html": [
       "<div>\n",
       "<style scoped>\n",
       "    .dataframe tbody tr th:only-of-type {\n",
       "        vertical-align: middle;\n",
       "    }\n",
       "\n",
       "    .dataframe tbody tr th {\n",
       "        vertical-align: top;\n",
       "    }\n",
       "\n",
       "    .dataframe thead th {\n",
       "        text-align: right;\n",
       "    }\n",
       "</style>\n",
       "<table border=\"1\" class=\"dataframe\">\n",
       "  <thead>\n",
       "    <tr style=\"text-align: right;\">\n",
       "      <th></th>\n",
       "      <th>interaction_type</th>\n",
       "      <th>item_id</th>\n",
       "      <th>consumer_no</th>\n",
       "    </tr>\n",
       "  </thead>\n",
       "  <tbody>\n",
       "    <tr>\n",
       "      <th>0</th>\n",
       "      <td>5</td>\n",
       "      <td>-3499919498720038879</td>\n",
       "      <td>0</td>\n",
       "    </tr>\n",
       "    <tr>\n",
       "      <th>1</th>\n",
       "      <td>5</td>\n",
       "      <td>8890720798209849691</td>\n",
       "      <td>1</td>\n",
       "    </tr>\n",
       "    <tr>\n",
       "      <th>2</th>\n",
       "      <td>5</td>\n",
       "      <td>310515487419366995</td>\n",
       "      <td>2</td>\n",
       "    </tr>\n",
       "    <tr>\n",
       "      <th>3</th>\n",
       "      <td>4</td>\n",
       "      <td>310515487419366995</td>\n",
       "      <td>3</td>\n",
       "    </tr>\n",
       "    <tr>\n",
       "      <th>4</th>\n",
       "      <td>5</td>\n",
       "      <td>-7820640624231356730</td>\n",
       "      <td>4</td>\n",
       "    </tr>\n",
       "  </tbody>\n",
       "</table>\n",
       "</div>"
      ],
      "text/plain": [
       "   interaction_type              item_id  consumer_no\n",
       "0                 5 -3499919498720038879            0\n",
       "1                 5  8890720798209849691            1\n",
       "2                 5   310515487419366995            2\n",
       "3                 4   310515487419366995            3\n",
       "4                 5 -7820640624231356730            4"
      ]
     },
     "execution_count": 46,
     "metadata": {},
     "output_type": "execute_result"
    }
   ],
   "source": [
    "merged_temp.head()"
   ]
  },
  {
   "cell_type": "code",
   "execution_count": 47,
   "metadata": {},
   "outputs": [],
   "source": [
    "# creating the final dataframe by merging the the dataframes : merged_temp and temp\n",
    "merged = pd.merge(merged_temp,temp, on ='item_id', how ='left')"
   ]
  },
  {
   "cell_type": "code",
   "execution_count": 48,
   "metadata": {},
   "outputs": [
    {
     "data": {
      "text/html": [
       "<div>\n",
       "<style scoped>\n",
       "    .dataframe tbody tr th:only-of-type {\n",
       "        vertical-align: middle;\n",
       "    }\n",
       "\n",
       "    .dataframe tbody tr th {\n",
       "        vertical-align: top;\n",
       "    }\n",
       "\n",
       "    .dataframe thead th {\n",
       "        text-align: right;\n",
       "    }\n",
       "</style>\n",
       "<table border=\"1\" class=\"dataframe\">\n",
       "  <thead>\n",
       "    <tr style=\"text-align: right;\">\n",
       "      <th></th>\n",
       "      <th>interaction_type</th>\n",
       "      <th>item_id</th>\n",
       "      <th>consumer_no</th>\n",
       "      <th>item_no</th>\n",
       "      <th>title</th>\n",
       "      <th>text_description</th>\n",
       "      <th>language</th>\n",
       "    </tr>\n",
       "  </thead>\n",
       "  <tbody>\n",
       "    <tr>\n",
       "      <th>0</th>\n",
       "      <td>5</td>\n",
       "      <td>-3499919498720038879</td>\n",
       "      <td>0</td>\n",
       "      <td>1247</td>\n",
       "      <td>Hiri wants to fix the workplace email problem</td>\n",
       "      <td>Hiri is the latest startup trying to fix email...</td>\n",
       "      <td>en</td>\n",
       "    </tr>\n",
       "    <tr>\n",
       "      <th>1</th>\n",
       "      <td>5</td>\n",
       "      <td>8890720798209849691</td>\n",
       "      <td>1</td>\n",
       "      <td>1236</td>\n",
       "      <td>Top 10 Intranet Trends of 2016</td>\n",
       "      <td>Summary: Hero images, carousels, fat footers, ...</td>\n",
       "      <td>en</td>\n",
       "    </tr>\n",
       "    <tr>\n",
       "      <th>2</th>\n",
       "      <td>5</td>\n",
       "      <td>310515487419366995</td>\n",
       "      <td>2</td>\n",
       "      <td>1267</td>\n",
       "      <td>71 erros de português que precisam sumir dos s...</td>\n",
       "      <td>Escrever um e-mail não deveria ser uma coisa t...</td>\n",
       "      <td>pt</td>\n",
       "    </tr>\n",
       "    <tr>\n",
       "      <th>3</th>\n",
       "      <td>4</td>\n",
       "      <td>310515487419366995</td>\n",
       "      <td>3</td>\n",
       "      <td>1267</td>\n",
       "      <td>71 erros de português que precisam sumir dos s...</td>\n",
       "      <td>Escrever um e-mail não deveria ser uma coisa t...</td>\n",
       "      <td>pt</td>\n",
       "    </tr>\n",
       "    <tr>\n",
       "      <th>4</th>\n",
       "      <td>5</td>\n",
       "      <td>-7820640624231356730</td>\n",
       "      <td>4</td>\n",
       "      <td>1271</td>\n",
       "      <td>How This Googler Redesigned The Workweek</td>\n",
       "      <td>Jake Knapp has always been concerned about the...</td>\n",
       "      <td>en</td>\n",
       "    </tr>\n",
       "  </tbody>\n",
       "</table>\n",
       "</div>"
      ],
      "text/plain": [
       "   interaction_type              item_id  consumer_no  item_no  \\\n",
       "0                 5 -3499919498720038879            0     1247   \n",
       "1                 5  8890720798209849691            1     1236   \n",
       "2                 5   310515487419366995            2     1267   \n",
       "3                 4   310515487419366995            3     1267   \n",
       "4                 5 -7820640624231356730            4     1271   \n",
       "\n",
       "                                               title  \\\n",
       "0      Hiri wants to fix the workplace email problem   \n",
       "1                     Top 10 Intranet Trends of 2016   \n",
       "2  71 erros de português que precisam sumir dos s...   \n",
       "3  71 erros de português que precisam sumir dos s...   \n",
       "4           How This Googler Redesigned The Workweek   \n",
       "\n",
       "                                    text_description language  \n",
       "0  Hiri is the latest startup trying to fix email...       en  \n",
       "1  Summary: Hero images, carousels, fat footers, ...       en  \n",
       "2  Escrever um e-mail não deveria ser uma coisa t...       pt  \n",
       "3  Escrever um e-mail não deveria ser uma coisa t...       pt  \n",
       "4  Jake Knapp has always been concerned about the...       en  "
      ]
     },
     "execution_count": 48,
     "metadata": {},
     "output_type": "execute_result"
    }
   ],
   "source": [
    "merged.head()"
   ]
  },
  {
   "cell_type": "code",
   "execution_count": 49,
   "metadata": {},
   "outputs": [],
   "source": [
    "merged = merged.drop('item_id', axis =1)"
   ]
  },
  {
   "cell_type": "code",
   "execution_count": 50,
   "metadata": {},
   "outputs": [
    {
     "data": {
      "text/html": [
       "<div>\n",
       "<style scoped>\n",
       "    .dataframe tbody tr th:only-of-type {\n",
       "        vertical-align: middle;\n",
       "    }\n",
       "\n",
       "    .dataframe tbody tr th {\n",
       "        vertical-align: top;\n",
       "    }\n",
       "\n",
       "    .dataframe thead th {\n",
       "        text-align: right;\n",
       "    }\n",
       "</style>\n",
       "<table border=\"1\" class=\"dataframe\">\n",
       "  <thead>\n",
       "    <tr style=\"text-align: right;\">\n",
       "      <th></th>\n",
       "      <th>interaction_type</th>\n",
       "      <th>consumer_no</th>\n",
       "      <th>item_no</th>\n",
       "      <th>title</th>\n",
       "      <th>text_description</th>\n",
       "      <th>language</th>\n",
       "    </tr>\n",
       "  </thead>\n",
       "  <tbody>\n",
       "    <tr>\n",
       "      <th>0</th>\n",
       "      <td>5</td>\n",
       "      <td>0</td>\n",
       "      <td>1247</td>\n",
       "      <td>Hiri wants to fix the workplace email problem</td>\n",
       "      <td>Hiri is the latest startup trying to fix email...</td>\n",
       "      <td>en</td>\n",
       "    </tr>\n",
       "    <tr>\n",
       "      <th>1</th>\n",
       "      <td>5</td>\n",
       "      <td>1</td>\n",
       "      <td>1236</td>\n",
       "      <td>Top 10 Intranet Trends of 2016</td>\n",
       "      <td>Summary: Hero images, carousels, fat footers, ...</td>\n",
       "      <td>en</td>\n",
       "    </tr>\n",
       "    <tr>\n",
       "      <th>2</th>\n",
       "      <td>5</td>\n",
       "      <td>2</td>\n",
       "      <td>1267</td>\n",
       "      <td>71 erros de português que precisam sumir dos s...</td>\n",
       "      <td>Escrever um e-mail não deveria ser uma coisa t...</td>\n",
       "      <td>pt</td>\n",
       "    </tr>\n",
       "    <tr>\n",
       "      <th>3</th>\n",
       "      <td>4</td>\n",
       "      <td>3</td>\n",
       "      <td>1267</td>\n",
       "      <td>71 erros de português que precisam sumir dos s...</td>\n",
       "      <td>Escrever um e-mail não deveria ser uma coisa t...</td>\n",
       "      <td>pt</td>\n",
       "    </tr>\n",
       "    <tr>\n",
       "      <th>4</th>\n",
       "      <td>5</td>\n",
       "      <td>4</td>\n",
       "      <td>1271</td>\n",
       "      <td>How This Googler Redesigned The Workweek</td>\n",
       "      <td>Jake Knapp has always been concerned about the...</td>\n",
       "      <td>en</td>\n",
       "    </tr>\n",
       "  </tbody>\n",
       "</table>\n",
       "</div>"
      ],
      "text/plain": [
       "   interaction_type  consumer_no  item_no  \\\n",
       "0                 5            0     1247   \n",
       "1                 5            1     1236   \n",
       "2                 5            2     1267   \n",
       "3                 4            3     1267   \n",
       "4                 5            4     1271   \n",
       "\n",
       "                                               title  \\\n",
       "0      Hiri wants to fix the workplace email problem   \n",
       "1                     Top 10 Intranet Trends of 2016   \n",
       "2  71 erros de português que precisam sumir dos s...   \n",
       "3  71 erros de português que precisam sumir dos s...   \n",
       "4           How This Googler Redesigned The Workweek   \n",
       "\n",
       "                                    text_description language  \n",
       "0  Hiri is the latest startup trying to fix email...       en  \n",
       "1  Summary: Hero images, carousels, fat footers, ...       en  \n",
       "2  Escrever um e-mail não deveria ser uma coisa t...       pt  \n",
       "3  Escrever um e-mail não deveria ser uma coisa t...       pt  \n",
       "4  Jake Knapp has always been concerned about the...       en  "
      ]
     },
     "execution_count": 50,
     "metadata": {},
     "output_type": "execute_result"
    }
   ],
   "source": [
    "merged.head()"
   ]
  },
  {
   "cell_type": "code",
   "execution_count": 51,
   "metadata": {},
   "outputs": [
    {
     "data": {
      "text/plain": [
       "(72680, 6)"
      ]
     },
     "execution_count": 51,
     "metadata": {},
     "output_type": "execute_result"
    }
   ],
   "source": [
    "merged.shape"
   ]
  },
  {
   "cell_type": "markdown",
   "metadata": {},
   "source": [
    "### Checking Skewness in the Data"
   ]
  },
  {
   "cell_type": "code",
   "execution_count": 52,
   "metadata": {},
   "outputs": [
    {
     "data": {
      "text/plain": [
       "21731"
      ]
     },
     "execution_count": 52,
     "metadata": {},
     "output_type": "execute_result"
    }
   ],
   "source": [
    "# checking for the duplicate data in the dataframe : 'merged'\n",
    "merged.duplicated().sum()"
   ]
  },
  {
   "cell_type": "code",
   "execution_count": 53,
   "metadata": {},
   "outputs": [],
   "source": [
    "merged = merged.drop_duplicates()"
   ]
  },
  {
   "cell_type": "code",
   "execution_count": 54,
   "metadata": {},
   "outputs": [
    {
     "data": {
      "text/plain": [
       "0"
      ]
     },
     "execution_count": 54,
     "metadata": {},
     "output_type": "execute_result"
    }
   ],
   "source": [
    "merged.duplicated().sum()"
   ]
  },
  {
   "cell_type": "code",
   "execution_count": 55,
   "metadata": {},
   "outputs": [
    {
     "data": {
      "text/plain": [
       "(50949, 6)"
      ]
     },
     "execution_count": 55,
     "metadata": {},
     "output_type": "execute_result"
    }
   ],
   "source": [
    "merged.shape"
   ]
  },
  {
   "cell_type": "code",
   "execution_count": 56,
   "metadata": {},
   "outputs": [
    {
     "data": {
      "text/plain": [
       "5    40248\n",
       "1     5673\n",
       "2     2202\n",
       "3     1427\n",
       "4     1399\n",
       "Name: interaction_type, dtype: int64"
      ]
     },
     "execution_count": 56,
     "metadata": {},
     "output_type": "execute_result"
    }
   ],
   "source": [
    "merged['interaction_type'].value_counts()"
   ]
  },
  {
   "cell_type": "code",
   "execution_count": 57,
   "metadata": {},
   "outputs": [
    {
     "data": {
      "text/plain": [
       "3031    345\n",
       "1767    251\n",
       "1628    224\n",
       "1827    201\n",
       "1854    190\n",
       "       ... \n",
       "557       1\n",
       "247       1\n",
       "311       1\n",
       "1665      1\n",
       "2944      1\n",
       "Name: item_no, Length: 2987, dtype: int64"
      ]
     },
     "execution_count": 57,
     "metadata": {},
     "output_type": "execute_result"
    }
   ],
   "source": [
    "# checking the number of cosumers that have gone through different items\n",
    "merged['item_no'].value_counts(0)"
   ]
  },
  {
   "cell_type": "code",
   "execution_count": 58,
   "metadata": {},
   "outputs": [],
   "source": [
    "# creating articles that have been read by at least 5 users \n",
    "merged = merged.groupby('item_no').filter(lambda x: len(x) > 4)"
   ]
  },
  {
   "cell_type": "code",
   "execution_count": 59,
   "metadata": {},
   "outputs": [
    {
     "data": {
      "text/plain": [
       "3031    345\n",
       "1767    251\n",
       "1628    224\n",
       "1827    201\n",
       "1854    190\n",
       "       ... \n",
       "1597      5\n",
       "1335      5\n",
       "347       5\n",
       "1709      5\n",
       "1608      5\n",
       "Name: item_no, Length: 2241, dtype: int64"
      ]
     },
     "execution_count": 59,
     "metadata": {},
     "output_type": "execute_result"
    }
   ],
   "source": [
    "merged['item_no'].value_counts()"
   ]
  },
  {
   "cell_type": "code",
   "execution_count": 60,
   "metadata": {},
   "outputs": [
    {
     "data": {
      "text/plain": [
       "(49142, 6)"
      ]
     },
     "execution_count": 60,
     "metadata": {},
     "output_type": "execute_result"
    }
   ],
   "source": [
    "merged.shape"
   ]
  },
  {
   "cell_type": "code",
   "execution_count": 61,
   "metadata": {},
   "outputs": [
    {
     "data": {
      "text/plain": [
       "interaction_type       5\n",
       "consumer_no         1885\n",
       "item_no             2241\n",
       "title               2222\n",
       "text_description    2230\n",
       "language               4\n",
       "dtype: int64"
      ]
     },
     "execution_count": 61,
     "metadata": {},
     "output_type": "execute_result"
    }
   ],
   "source": [
    "merged.nunique()"
   ]
  },
  {
   "cell_type": "markdown",
   "metadata": {},
   "source": [
    "## Creating a Model Evaluator"
   ]
  },
  {
   "cell_type": "code",
   "execution_count": 62,
   "metadata": {},
   "outputs": [],
   "source": [
    "# storing all the item numbers in 'all_items'\n",
    "all_items = set(merged['item_no'])"
   ]
  },
  {
   "cell_type": "code",
   "execution_count": 63,
   "metadata": {},
   "outputs": [],
   "source": [
    "# storing all the consumer numbers in 'all_consumers'\n",
    "all_consumers = set(merged['consumer_no'])"
   ]
  },
  {
   "cell_type": "code",
   "execution_count": 64,
   "metadata": {},
   "outputs": [],
   "source": [
    "# creating a function to find the items consumed by a specifc consumer\n",
    "def consumed_items(no, df):\n",
    "    consumed_items = df.loc[df.consumer_no == no , 'item_no'].unique()\n",
    "    return set(consumed_items)"
   ]
  },
  {
   "cell_type": "code",
   "execution_count": 65,
   "metadata": {},
   "outputs": [],
   "source": [
    "# creating a function to find the items not consumed by a specific consumer\n",
    "def non_consumed_items(no,df):\n",
    "    temp = consumed_items(no, df)\n",
    "    non_consumed_items = all_items - temp\n",
    "    return set(non_consumed_items)"
   ]
  },
  {
   "cell_type": "code",
   "execution_count": 66,
   "metadata": {},
   "outputs": [],
   "source": [
    "# creating a function for evalutaion of model accuracy for each customer evaluation\n",
    "def evaluation(no, df):\n",
    "    temp = []\n",
    "    metrics = {}\n",
    "    one = consumed_items(no,df)\n",
    "    two = non_consumed_items(no,df)\n",
    "    remaining = two-one\n",
    "    \n",
    "    recall_top_five = 0\n",
    "    recall_top_ten = 0\n",
    "    \n",
    "    for i in df['item_no']:\n",
    "        if i in one:\n",
    "            temp.append(i)\n",
    "    \n",
    "    top_five = list(temp[:6])\n",
    "    top_ten = list(temp[:11])\n",
    "    \n",
    "    if len(one) != 0:\n",
    "        recall_top_five = len(top_five) / len(one)\n",
    "        recall_top_ten = len(top_ten) / len(one)\n",
    "\n",
    "    metrics = {'recall_top_five' :round(recall_top_five,2) ,'recall_top_ten' : round(recall_top_ten,2) }\n",
    "    \n",
    "    return metrics "
   ]
  },
  {
   "cell_type": "code",
   "execution_count": 67,
   "metadata": {},
   "outputs": [],
   "source": [
    "# creating a function for evaluation of the recommendations \n",
    "def model_evaluation(no,df):\n",
    "    \n",
    "    five = 0\n",
    "    ten = 0\n",
    "    \n",
    "    temp = []\n",
    "    metrics = {}\n",
    "    \n",
    "    for item in df['item_no']:\n",
    "        temp = list(df['consumer_no'])\n",
    "        \n",
    "    for consumer in temp:\n",
    "        model = evaluation(consumer,df)\n",
    "        five = five + model['recall_top_five']\n",
    "        ten = ten + model['recall_top_ten']\n",
    "        \n",
    "    final_five = five / len(temp)\n",
    "    final_ten = ten / len(temp)\n",
    "    \n",
    "    metrics = {'recall_top_five' :round(final_five,2) ,'recall_top_ten' : round(final_ten,2) }\n",
    "    \n",
    "    return metrics "
   ]
  },
  {
   "cell_type": "markdown",
   "metadata": {},
   "source": [
    "We are using recall for model evaluation as we are only concerned with the relevant results that should be appearing in our final output."
   ]
  },
  {
   "cell_type": "markdown",
   "metadata": {},
   "source": [
    "## Splitting in train and test data sets"
   ]
  },
  {
   "cell_type": "code",
   "execution_count": 68,
   "metadata": {},
   "outputs": [],
   "source": [
    "from sklearn.model_selection import train_test_split\n",
    "train, test = train_test_split(merged, test_size = 0.3, random_state = 30)"
   ]
  },
  {
   "cell_type": "code",
   "execution_count": 69,
   "metadata": {},
   "outputs": [
    {
     "name": "stdout",
     "output_type": "stream",
     "text": [
      "(34399, 6)\n",
      "(14743, 6)\n"
     ]
    }
   ],
   "source": [
    "print(train.shape)\n",
    "print(test.shape)"
   ]
  },
  {
   "cell_type": "markdown",
   "metadata": {},
   "source": [
    "## Content based Recommendation"
   ]
  },
  {
   "cell_type": "code",
   "execution_count": 70,
   "metadata": {},
   "outputs": [],
   "source": [
    "#importing relevant libraries\n",
    "from nltk.corpus import stopwords"
   ]
  },
  {
   "cell_type": "code",
   "execution_count": 71,
   "metadata": {},
   "outputs": [],
   "source": [
    "stopwords_list = stopwords.words('english') + stopwords.words('portuguese')"
   ]
  },
  {
   "cell_type": "code",
   "execution_count": 72,
   "metadata": {},
   "outputs": [
    {
     "data": {
      "text/plain": [
       "['i',\n",
       " 'me',\n",
       " 'my',\n",
       " 'myself',\n",
       " 'we',\n",
       " 'our',\n",
       " 'ours',\n",
       " 'ourselves',\n",
       " 'you',\n",
       " \"you're\",\n",
       " \"you've\",\n",
       " \"you'll\",\n",
       " \"you'd\",\n",
       " 'your',\n",
       " 'yours',\n",
       " 'yourself',\n",
       " 'yourselves',\n",
       " 'he',\n",
       " 'him',\n",
       " 'his',\n",
       " 'himself',\n",
       " 'she',\n",
       " \"she's\",\n",
       " 'her',\n",
       " 'hers',\n",
       " 'herself',\n",
       " 'it',\n",
       " \"it's\",\n",
       " 'its',\n",
       " 'itself',\n",
       " 'they',\n",
       " 'them',\n",
       " 'their',\n",
       " 'theirs',\n",
       " 'themselves',\n",
       " 'what',\n",
       " 'which',\n",
       " 'who',\n",
       " 'whom',\n",
       " 'this',\n",
       " 'that',\n",
       " \"that'll\",\n",
       " 'these',\n",
       " 'those',\n",
       " 'am',\n",
       " 'is',\n",
       " 'are',\n",
       " 'was',\n",
       " 'were',\n",
       " 'be',\n",
       " 'been',\n",
       " 'being',\n",
       " 'have',\n",
       " 'has',\n",
       " 'had',\n",
       " 'having',\n",
       " 'do',\n",
       " 'does',\n",
       " 'did',\n",
       " 'doing',\n",
       " 'a',\n",
       " 'an',\n",
       " 'the',\n",
       " 'and',\n",
       " 'but',\n",
       " 'if',\n",
       " 'or',\n",
       " 'because',\n",
       " 'as',\n",
       " 'until',\n",
       " 'while',\n",
       " 'of',\n",
       " 'at',\n",
       " 'by',\n",
       " 'for',\n",
       " 'with',\n",
       " 'about',\n",
       " 'against',\n",
       " 'between',\n",
       " 'into',\n",
       " 'through',\n",
       " 'during',\n",
       " 'before',\n",
       " 'after',\n",
       " 'above',\n",
       " 'below',\n",
       " 'to',\n",
       " 'from',\n",
       " 'up',\n",
       " 'down',\n",
       " 'in',\n",
       " 'out',\n",
       " 'on',\n",
       " 'off',\n",
       " 'over',\n",
       " 'under',\n",
       " 'again',\n",
       " 'further',\n",
       " 'then',\n",
       " 'once',\n",
       " 'here',\n",
       " 'there',\n",
       " 'when',\n",
       " 'where',\n",
       " 'why',\n",
       " 'how',\n",
       " 'all',\n",
       " 'any',\n",
       " 'both',\n",
       " 'each',\n",
       " 'few',\n",
       " 'more',\n",
       " 'most',\n",
       " 'other',\n",
       " 'some',\n",
       " 'such',\n",
       " 'no',\n",
       " 'nor',\n",
       " 'not',\n",
       " 'only',\n",
       " 'own',\n",
       " 'same',\n",
       " 'so',\n",
       " 'than',\n",
       " 'too',\n",
       " 'very',\n",
       " 's',\n",
       " 't',\n",
       " 'can',\n",
       " 'will',\n",
       " 'just',\n",
       " 'don',\n",
       " \"don't\",\n",
       " 'should',\n",
       " \"should've\",\n",
       " 'now',\n",
       " 'd',\n",
       " 'll',\n",
       " 'm',\n",
       " 'o',\n",
       " 're',\n",
       " 've',\n",
       " 'y',\n",
       " 'ain',\n",
       " 'aren',\n",
       " \"aren't\",\n",
       " 'couldn',\n",
       " \"couldn't\",\n",
       " 'didn',\n",
       " \"didn't\",\n",
       " 'doesn',\n",
       " \"doesn't\",\n",
       " 'hadn',\n",
       " \"hadn't\",\n",
       " 'hasn',\n",
       " \"hasn't\",\n",
       " 'haven',\n",
       " \"haven't\",\n",
       " 'isn',\n",
       " \"isn't\",\n",
       " 'ma',\n",
       " 'mightn',\n",
       " \"mightn't\",\n",
       " 'mustn',\n",
       " \"mustn't\",\n",
       " 'needn',\n",
       " \"needn't\",\n",
       " 'shan',\n",
       " \"shan't\",\n",
       " 'shouldn',\n",
       " \"shouldn't\",\n",
       " 'wasn',\n",
       " \"wasn't\",\n",
       " 'weren',\n",
       " \"weren't\",\n",
       " 'won',\n",
       " \"won't\",\n",
       " 'wouldn',\n",
       " \"wouldn't\",\n",
       " 'de',\n",
       " 'a',\n",
       " 'o',\n",
       " 'que',\n",
       " 'e',\n",
       " 'é',\n",
       " 'do',\n",
       " 'da',\n",
       " 'em',\n",
       " 'um',\n",
       " 'para',\n",
       " 'com',\n",
       " 'não',\n",
       " 'uma',\n",
       " 'os',\n",
       " 'no',\n",
       " 'se',\n",
       " 'na',\n",
       " 'por',\n",
       " 'mais',\n",
       " 'as',\n",
       " 'dos',\n",
       " 'como',\n",
       " 'mas',\n",
       " 'ao',\n",
       " 'ele',\n",
       " 'das',\n",
       " 'à',\n",
       " 'seu',\n",
       " 'sua',\n",
       " 'ou',\n",
       " 'quando',\n",
       " 'muito',\n",
       " 'nos',\n",
       " 'já',\n",
       " 'eu',\n",
       " 'também',\n",
       " 'só',\n",
       " 'pelo',\n",
       " 'pela',\n",
       " 'até',\n",
       " 'isso',\n",
       " 'ela',\n",
       " 'entre',\n",
       " 'depois',\n",
       " 'sem',\n",
       " 'mesmo',\n",
       " 'aos',\n",
       " 'seus',\n",
       " 'quem',\n",
       " 'nas',\n",
       " 'me',\n",
       " 'esse',\n",
       " 'eles',\n",
       " 'você',\n",
       " 'essa',\n",
       " 'num',\n",
       " 'nem',\n",
       " 'suas',\n",
       " 'meu',\n",
       " 'às',\n",
       " 'minha',\n",
       " 'numa',\n",
       " 'pelos',\n",
       " 'elas',\n",
       " 'qual',\n",
       " 'nós',\n",
       " 'lhe',\n",
       " 'deles',\n",
       " 'essas',\n",
       " 'esses',\n",
       " 'pelas',\n",
       " 'este',\n",
       " 'dele',\n",
       " 'tu',\n",
       " 'te',\n",
       " 'vocês',\n",
       " 'vos',\n",
       " 'lhes',\n",
       " 'meus',\n",
       " 'minhas',\n",
       " 'teu',\n",
       " 'tua',\n",
       " 'teus',\n",
       " 'tuas',\n",
       " 'nosso',\n",
       " 'nossa',\n",
       " 'nossos',\n",
       " 'nossas',\n",
       " 'dela',\n",
       " 'delas',\n",
       " 'esta',\n",
       " 'estes',\n",
       " 'estas',\n",
       " 'aquele',\n",
       " 'aquela',\n",
       " 'aqueles',\n",
       " 'aquelas',\n",
       " 'isto',\n",
       " 'aquilo',\n",
       " 'estou',\n",
       " 'está',\n",
       " 'estamos',\n",
       " 'estão',\n",
       " 'estive',\n",
       " 'esteve',\n",
       " 'estivemos',\n",
       " 'estiveram',\n",
       " 'estava',\n",
       " 'estávamos',\n",
       " 'estavam',\n",
       " 'estivera',\n",
       " 'estivéramos',\n",
       " 'esteja',\n",
       " 'estejamos',\n",
       " 'estejam',\n",
       " 'estivesse',\n",
       " 'estivéssemos',\n",
       " 'estivessem',\n",
       " 'estiver',\n",
       " 'estivermos',\n",
       " 'estiverem',\n",
       " 'hei',\n",
       " 'há',\n",
       " 'havemos',\n",
       " 'hão',\n",
       " 'houve',\n",
       " 'houvemos',\n",
       " 'houveram',\n",
       " 'houvera',\n",
       " 'houvéramos',\n",
       " 'haja',\n",
       " 'hajamos',\n",
       " 'hajam',\n",
       " 'houvesse',\n",
       " 'houvéssemos',\n",
       " 'houvessem',\n",
       " 'houver',\n",
       " 'houvermos',\n",
       " 'houverem',\n",
       " 'houverei',\n",
       " 'houverá',\n",
       " 'houveremos',\n",
       " 'houverão',\n",
       " 'houveria',\n",
       " 'houveríamos',\n",
       " 'houveriam',\n",
       " 'sou',\n",
       " 'somos',\n",
       " 'são',\n",
       " 'era',\n",
       " 'éramos',\n",
       " 'eram',\n",
       " 'fui',\n",
       " 'foi',\n",
       " 'fomos',\n",
       " 'foram',\n",
       " 'fora',\n",
       " 'fôramos',\n",
       " 'seja',\n",
       " 'sejamos',\n",
       " 'sejam',\n",
       " 'fosse',\n",
       " 'fôssemos',\n",
       " 'fossem',\n",
       " 'for',\n",
       " 'formos',\n",
       " 'forem',\n",
       " 'serei',\n",
       " 'será',\n",
       " 'seremos',\n",
       " 'serão',\n",
       " 'seria',\n",
       " 'seríamos',\n",
       " 'seriam',\n",
       " 'tenho',\n",
       " 'tem',\n",
       " 'temos',\n",
       " 'tém',\n",
       " 'tinha',\n",
       " 'tínhamos',\n",
       " 'tinham',\n",
       " 'tive',\n",
       " 'teve',\n",
       " 'tivemos',\n",
       " 'tiveram',\n",
       " 'tivera',\n",
       " 'tivéramos',\n",
       " 'tenha',\n",
       " 'tenhamos',\n",
       " 'tenham',\n",
       " 'tivesse',\n",
       " 'tivéssemos',\n",
       " 'tivessem',\n",
       " 'tiver',\n",
       " 'tivermos',\n",
       " 'tiverem',\n",
       " 'terei',\n",
       " 'terá',\n",
       " 'teremos',\n",
       " 'terão',\n",
       " 'teria',\n",
       " 'teríamos',\n",
       " 'teriam']"
      ]
     },
     "execution_count": 72,
     "metadata": {},
     "output_type": "execute_result"
    }
   ],
   "source": [
    "stopwords_list"
   ]
  },
  {
   "cell_type": "code",
   "execution_count": 73,
   "metadata": {},
   "outputs": [],
   "source": [
    "# creating an array of words from the column text_description \n",
    "keyword_array = (train['text_description'] + train ['title']).to_numpy()"
   ]
  },
  {
   "cell_type": "code",
   "execution_count": 74,
   "metadata": {},
   "outputs": [
    {
     "data": {
      "text/plain": [
       "array(['Toda vez que vemos alguma biblioteca nova de carregamento de imagem, nos perguntamos: outra? Com certeza não foi diferente com o Fresco que, por um tempo, sofreu bastante \"chacota\" da comunidade pelo simples motivo: Picasso\\'s API has 24 classes. . Fresco\\'s API has 24 packages. Mas, antes de rir, vamos entender o motivo de tudo isso. Nascimento Nós, usuários do Facebook e Instagram, exigimos exibição rápida e eficiente de imagem ao abrirmos nossos aplicativos. O Fresco nasceu exatamente com essa função: exibir a imagem de maneira eficiente, não importando o device ou conexão. Mas, qual exatamente é o problema? Bem, as imagens geralmente são grandes e os devices \" pequenos \". Precisamos exibir uma imagem com a resolução 2560 × 1600 , com 4mb de tamanho, em um device com resolução desconsiderável. Mesmo com todo o processamento de imagem disponível, nos parece bem caótico, não é? Isso significa, no universo Android, que um simples device de 480 x 800 pixels, pode ocupar 1.5mb da dentro da sua tão preciosa e \"suada\" memória. E nós já estamos cansados de saber o que acontece quando essa memória é excedida: Memória Falando em memória, o que torna o Fresco diferente das outras bibliotecas? Antes, vamos entender melhor as regiões de memória do nosso aparelho. A famosa Java heap é região de memória delimitada por aplicação (ou seja, cada aplicação tem seu limite, isoladamente) definida pelo fabricante, por exemplo: G1 = 16 Mb Droid = 24 Mb Xoom = 48 Mb GalaxyTab = 64 Mb. Sabe o famoso \" new \" dentro do nosso código? Pois bem, todo \" new \" vai dentro dessa região de memória que é considerada \"segura\", já que o garbage-collecto r controla tudo isso com transparência para nós. Mas, esse \" garbage-collecting \" é exatamente o problema. Isso por quê ao invés de apenas recuperar partes da memória, o Android deve \"travar\" a aplicação completamente ao mesmo tempo que realiza a \"coleta de lixo\". E esse é uma das causas mais comuns de uma aplicação que aparece para congelar ou parar momentaneamente enquanto o usuário está utilizando, e já estamos cansados de saber o que o usuário faz quando isso acontece. Por outro lado, temos o chamado native heap que é usado pelo \" new \" do C++ e temos muito mais memória disponível aqui. Na verdade, a única limitação é a memória física disponível no device. Não há garbage-collection e nada que nos dê a sensação de lentidão. Porém, quando utilizamos dessa memória, temos a responsabilidade de liberar cada byte que utilizamos lá dentro. Caso contrário, teremos coisas \" piores \" acontecerão. Por último, o Android tem uma região de memória chamado , que opera praticamente igual ao native heap , mas possui algumas chamadas de sistemas extras. O Android pode fazer \" unpin \" da memória ao invés de liberá-la. E ele só faz isso quando necessário: a memória é liberada apenas se o sistema realmente precisar de mais memória. Quando o Android faz o \" pin \" da memória novamente, os dados antigos ainda estarão lá se o mesmo não foi liberado. A memória não pode ser diretamente manipulada através do código Java. Ela pode ser utilizada apenas em algumas situações excepcionais, e é destas situações que o tira vantagem. Não irei entrar em detalhes da sua implementação, mas você pode entender seu funcionamento no link no final deste post. Pois bem, sabendo como lidar e como acessar essa região da memória, o Fresco , como disse, tem uma outra postura para carregar as imagens. Pipeline \"It\\'s more than a loader\\u200a-\\u200ait\\'s a pipeline\" , é seu mantra para carregar uma imagem eficientemente. Nessa representação que percebemos a diferença do para as outras bibliotecas: O motivo dela ter 24 packages ao invés de 24 classes é que cada passo é tratado de maneira mais isolada e independente possível, o que nos dá um poder muito grande quando se diz respeito de ter \"controle em cada passo\" do carregamento da imagem. Utilização Ok, já sabemos como o Fresco opera. Agora, vamos ver como uma imagem simples é carregada. Primeiro, quando carregamos uma imagem, nós precisamos de um placeholder para ela e, quando acontece alguma falha, precisamos de um placeholder que indique isso. Também, há situações de quando a imagem termina de ser carregada, queremos fazer alguma animação nela tal como um fade-in ou até aplicar alguma regra de redimensionamento para exibirmos no tamanho correto. Só de ler esse parágrafo, você provavelmente já assimilou alguma necessidade que você venha a ter no seu dia a dia, e que todos nós temos. Mas, para suportar esse tipo de \"funcionalidade\", tudo precisa ser rápido, suave e performático. Para fazer isso, o utiliza um esquema de \" Drawees \" (um MVP-like, só que voltado pra imagens), que separa as camadas da imagem em três etapas. A camada de \"modelo\" é chamada DraweeHierarchy , que implementa uma hierarquia de Drawables, que cada um se aplica a uma função diferente a imagem subjacente. Os DraweeControllers se conectam com o image pipeline (ou qualquer outro loader) e fica responsável pela parte de backend. É ele quem recebe as respostas do servidor e decide o que fazer com eles. Por último temos o DraweeViews , que tem um papel bem específico. Esses ficam \"ouvindo\" eventos do sistema que informa que aquela view não está mais sendo exibida na tela. Quando isso acontece, o DraweeView informa pro DraweeController que por sua vez \"fecha\" todos os usos daquela imagem, evitando qualquer perda de memória. Também, vai informar ao pipeline para cancelar o request da imagem, caso não tenha sido terminada ainda\\u200a-\\u200acomo por exemplo em listas. Criando uma galeria Para mostrar como tudo isso funciona, criei um projeto para e exibição das imagens dentro do device. É um ótimo caso de uso, já que dentro do device existem fotos de diversos tamanhos e tipos. Primeiramente, precisamos inicializar o através da nossa Application : Depois de criar nosso RecyclerView para exibição, precisamos criar cada item da imagem. Para isso, vamos utilizar o SimpleDraweeView , que já irá contemplar todas as ferramentas necessárias para fazer o carregamento da imagem. Aqui, podemos explorar a imagem já do XML. Cheque a documentação para saber até onde podemos customizar aqui. Feito isso, precisamos carregar nossa imagem. Para isso, precisamos definir qual o path (url ou local) da imagem. No , fazemos isso através do método setImageURI() ; Somente dessa maneira, se rodássemos nossa aplicação, já iremos ver nossa imagem sendo exibida (cacheada, otimizada etc etc etc). Mas, como estamos tratando de uma galeria, precisamos fazer algumas configurações a mais para garantir performance. Vamos alterar nosso DraweeController para adicionar algumas configurações: O resultado dessa implementação, é esse: Já está bom, não é? Mas, ainda não é um resultado desejado. Perceba que, ao fazermos o scroll , ainda há um engasgo para carregar as imagens, e também elas não estão sendo carregadas rapidamente. E é aqui que o Fresco se mostra poderoso: temos controle para diminuir a qualidade da imagem que irá ser exibida apenas com algumas linhas de código! Lembra na nossa Application ? Podemos colocar um \"configurador\" para o , que irá refletir em todas as imagens selecionadas: Resultado? Temos um scroll totalmente suave e performático. Faça o teste! Rode no seu próprio device e veja o resultado. Configurações extras OkHttp O tem suporte ao OkHttp como image pipeline ! Para isso, precisamos adicionar uma dependência extra: E, na nossa Application, adicionar o OkHttpClient: Outros formatos Uma grande reclamação era que você era obrigado a incluir todas as funcionalidades e funções que o tem para oferecer. Mas, a partir da versão , você consegue \"granular\" o que você quer usar: Conclusão O Fresco é uma biblioteca que, após seu entendimento e compreensão do que pode ser feito com ela, nos garante entregar uma experiência muito boa para o usuário visualizar suas imagens. Então, dê uma chance ao Fresco e comente nesse post suas impressões! LinksFresco, sim! - Android Dev BR',\n",
       "       'In November, we looked at the underdog browsers adopted by one in thirty web users . The StatCounter browser statistics for December 2016 records a more exciting and momentous event in the web\\'s history ... Worldwide Desktop & Tablet Browser Statistics, October to November 2016 The following table shows browser usage movements during the past month. Worldwide Desktop & Tablet Browser Statistics, November 2015 to November 2016 The following table shows browser usage movements during the past twelve months: (The tables show market share estimates for desktop browsers. The \\'change\\' column is the absolute increase or decrease in market share. The \\'relative\\' column indicates the proportional change, i.e. 6.7% of oldIE users migrated elsewhere last month. There are several caveats so I recommend you read How Browser Market Share is Calculated and StatCounter vs NetMarketShare .) Chrome experienced an uncharacteristic fall. I\\'m secretly pleased; I predicted Google\\'s browser wouldn\\'t reach 60% before the end of 2016 ! That said, -0.17% is hardly a major setback, and my predictions are notoriously awful. No doubt everyone will switch to Chrome during the next month just to prove me wrong! A fall for Chrome generally means good news for other applications. Firefox, Edge and even IE11 all rose but the changes are hardly dramatic. Let\\'s move on; there\\'s far more interesting news on mobile ... Worldwide Mobile Browser Statistics, November 2016 Mobile browser use increased by an impressive 1.78% during November. It smashed through the parity barrier and now accounts for 50.62% of all web activity . Mobile exceeds desktop usage for the first time since the web began. (Some sites were reporting this event last month and mobile usage did overtake desktop on certain days. However, the overall percentage for October 2016\\'s mobile use remained below 50%.) We\\'ve been waiting some time . The \"mobiles-will-overtake-desktop\" prediction was raised at least a decade ago, but took longer than most expected. Possible reasons include: It is difficult to do real work on a mobile device. That said, devices have grown exponentially in Asia and Africa in places where the PC revolution never occurred. Millions of people now work and trade on smartphones in ways which are troublesome in the western world. We still struggle with micro-payments and simple transactions regardless of age or financial status. Network bandwidth is slow, unreliable and costly in the majority of countries. There are only so many hours you can surf and a mobile connection will impede progress. There are exciting possibilities for future technologies, but fast, always-on and inexpensive networks remain a dream. The web has evolved from a predominantly desktop-based starting point. The situation has improved with Responsive Web Design and Progressive Web Apps, but many legacy sites are inoperable or impractical on a mobile device. Does the mobile explosion change our development lives? Probably not if you\\'ve been reading SitePoint and watching industry trends: you\\'re already mobile aware. Fortunately, it will be a wake-up call for any client or boss who doubted the growth of the mobile platform or didn\\'t think it would affect their business. Be prepared for several \"how can we make our digital experience better on a smartphone\" conversations very soon. From a technical perspective, I recommend a mobile-first approach: Design your site/application to work on smaller, narrow screens. Use media queries to progressively enhance your layout as the screen size increases. Take a simple, pragmatic approach. If you\\'re removing a feature because it doesn\\'t fit on a mobile screen, consider whether it\\'s necessary to offer it on the desktop. The top mobile browsing applications for the month were: Chrome continues its meteoric rise at the expense of all others (especially Android Mobile, which it supersedes). While I don\\'t use Chrome as my default desktop browser, I have no hesitation in recommending it on mobile. I\\'m yet to find an alternative which offers a better experience. The iPhone edition of Safari and UC Browser continue to dance round each other. Following a month at the coveted #2 spot, UC Browser has been knocked back once again. However, the dominance of mobile usage will encourage people to look for better smartphone applications. Take note, Apple: your lacklustre attitude to Safari and the web could hit profitability sooner than you think. The biggest faller was the \"others\" group. More than 40% of those users migrated to a mainstream browser. Perhaps it\\'s a statistical blip, or my underdog browser article from last month didn\\'t help their cause?! See you next month for a round-up of the major browser events of 2016.Browser Trends December 2016: Mobile Overtakes Desktop',\n",
       "       'Back in 2007, even before the iPhone was launched, giving us a powerful computer in our pockets or handbags, I started outlining a vision for Web 3.0. Tim Berners-Lee, a father of the World Wide Web, talks about the \"Semantic Web,\" a way that computers employ the meaning of words - not just pattern matching - along with logical rules to connect independent nuggets of data and so create more context for information. The formula that makes the most sense to me is this: Web 3.0 results from combining content, commerce, community and context, with personalization and vertical search. Or, to put it in a handy phrase: Web 3.0 = (4C + P + VS). Web 1.0 was all about driving online commerce and trying to find \"anything\" in the tangled jungle of the Web. It produced companies like Yahoo, Amazon.com, eBay, Netflix and Blue Nile. The rush for dollars also resulted in the dot-com meltdown. Even so, people\\'s habits of searching, buying and selling genuinely changed. Today, you will find hundreds of thousands of merchants selling everything from cable organizers, window blinds, clothes, water filters, and everything else under the sun through specialized online stores. Specialty retail, in other words, has made a decisive transition to the web. Web 2.0 has been primarily focused on social networking through online communities. Facebook, Twitter and LinkedIn, have been the most notable companies to emerge. But there are a plethora of others where you can \"meet,\" \"connect\" and \"make friends\" online these days - habits no longer considered weird. At the same time, we\\'ve seen a great deal of investment in vertical search companies. If you are looking for a job, you can go to a site like Indeed.com and search across various job portals and career sites. Or go to Kayak if you\\'ve got travel questions, or TheFind if you\\'re seeking shopping advice. In each case, the sites have carefully customized search parameters (job seekers, for instance, can search on salary ranges, locations, job levels and so on). Therein lies the big difference with Google, a generic horizontal search engine. Finally, Web 2.0 has brought an onslaught of user-generated content in the form of blogs, podcasts, appending comments at the bottom of articles, posting reviews of restaurants, movies, stores, and hotels. Media has become truly interactive, as opposed to the one-way world we were used to. Many more voices are being raised, and heard. The media industry, as we have known it, has been shaken to its roots. The next wave - Web 3.0 - will organize itself around two different elements: context and the user.By \"context,\" I mean the intent that brings you to the Web, your reason for surfing. Looking for a job is \"context,\" as is planning a trip or shopping for clothes. Fundamental to context is the user. And when you fuse a specific user with genuine context, you wind up with truly personalized service. Imagine this: You are planning a trip to Rome. You are looking for a hotel around Piazza di Spagna, but not something large and impersonal - which rules out the Hassler Villa Medici. You like smaller bed-and-breakfasts, with charm, warmth, character. You want an online travel agent who can understand your needs and preferences, and find you not only the right hotel but really interesting restaurants, boutiques and shows all aligned with your taste. Normally, you use Guide du Routard as your travel guide, but today there is still a gulf between travel guides and online travel-booking sites - in other words, content and commerce are fragmented. In Web 3.0, you will see content and commerce finally come together in a big way, no longer forcing you to hop from site to site to get one job done. On this same trip, you would love to meet local people who share your interests - say, cooking, jazz, opera. In Web 3.0, you will see the community elements of Web 2.0 pulled into context, making it as easy to find new friends with common interests, even in a distant city, as it is to book a hotel room. Some user-generated content is already evolving into an integral part of travel planning today. At TripAdviser, for instance, travelers report back on their experiences at hotels around the world. The missing element, however, is the notion of the individual user and his or her personal needs. You don\\'t want to read reviews from anyone. You want to read reviews by people whose taste and judgment you trust. In a Web 3.0 world, then, a personalized travel agent will help you find and book a highly customized itinerary, leveraging all the power of previous generations of Web technology -searching (both generic and vertical), community building, content and commerce. That\\'s how I get Web 3.0 = (4C+P+VS) - the sum of content, commerce, community and context, with personalization and vertical search. This is complex technology, requiring sophisticated artificial-intelligence algorithms. After all, your Web 3.0 travel agent will not be a \"person\" but a \"bot\", or intelligent agent. But I suspect you will like your travel bot. And your career bot. And your shopping bot. Let\\'s look at a shopping bot, in fact. I am a petite woman, dark-skinned, dark-haired, brown-eyed. I have a distinct personal style, and only certain designers resonate with it (Context). I want my personal SAKS Fifth Avenue which carries clothes by those designers, in my size (Commerce). I want my personal Vogue, which covers articles about that style, those designers, and other emerging ones like them (Content). And I want to exchange notes with others of my size-shape-style-psychographic and discover what else looks good. I also want the recommendation system tell me what they\\'re buying (Community). There are also some basic principles of what looks good based on skin tone, body shape, hair color, eye color ... I want the search engine to be able to filter and match based on an algorithm that builds in this knowledge base (Personalization, Vertical Search). Now, imagine the same for a short, plump, white, red-haired man, who doesn\\'t really have a sense of what to wear. And he doesn\\'t have a wife or a girlfriend. Before Web 3.0, he could go to the personal shopper at Nordstrom. With Web 3.0, the Internet will be his personal shopper. Aided with ubiquitous, mobile presence, these digital shoppers will anticipate all his needs, all of each of our needs. So be patient with the technology entrepreneurs around the world, who are working through these generations of the evolving Web, trying to bring about a dramatically better user experience. After all, they - and their bots - are working for you. Sramana Mitra is the founder of One Million by One Million (1M/1M), a global virtual incubator. This post was excerpted from her new book, From E-Commerce to Web 3.0: Entrepreneur Journeys .From E-Commerce to Web 3.0: Let the Bots Do the Shopping',\n",
       "       ...,\n",
       "       'Summary: This list isn\\'t just about what is new and innovative. It is about what will be adopted at scale. The beginning of a new year is usually the time to predict key trends for the year to come, and so it goes with the insurtech sector as well. Most lists focus on the latest sexy technologies and applications. But, after a year, we find these have hardly gained any traction and so cannot really be considered \"trends\" in our view. To call something a key trend, new and innovative is not enough. It requires adoption at scale. We, therefore, decided to take a different approach, resulting in quite a different kind of list. Being consultants for several blue chip insurers, speaking at conferences and attending boardroom meetings, we meet insurance executives on a daily basis. Consequently we have a fairly good idea about what\\'s at the top of their agenda as well as the pace in which change will take place, and in turn what insurtech solutions are most likely to fit into those plans. These insights resulted in our Top 10 Insurtech Trends for 2017, illustrated by some awesome insurtechs that joined us at the previous DIA event. Trend 1. Massive cost savers in claims, operations and customer acquisition Already a major trend, of course, but one that will gain even more importance in 2017. Quite a few insurers face combined ratios that are close to 100, or even exceed that number. Digitizing current processes is absolutely necessary, for operational excellence and to cut costs. Digital transformation of insurance carriers started in 2015, really took off in 2016 and will be mainstream by 2017 and beyond. Virtually every insurer, big or small, that takes itself seriously will continue to look for ways to operate more efficiently in every major part of the costs column: in claims expenses, costs of operations and customer acquisition costs. Technology purchases and investments by insurance carriers will further explode in these areas, as will the number and growth of insurtechs that cater to that need. With OutShared\\'s CynoClaim solution more than 60% of all claims can be managed automatically, resulting in lower costs as well as increased customer satisfaction. Results of the first implementations: as much as 50% decrease in costs, 40% increase in customer satisfaction. The solution takes six to nine months to implement, whether it is from scratch or a migration of established operations to the platform, which is quite spectacular in the insurance industry. Check this out. See also: How Insurtechs Will Affect Agents in 2017 Trend 2. A new face on digital transformation: engagement innovation At the end of the day, digitized processes and a lower cost base are table stakes. It is simply not enough to stay in sync with fast changing customer behavior, new market dynamics and increasing competitiveness. No insurer ever succeeded in turning operational excellence into a competitive advantage that is sustainable over the long term. More and more carriers realize that engagement innovation is the next level of digital transformation. From a customer point of view, this is not about a new lipstick or a nose job but about a real makeover. Engagement innovation not only includes customer experience, but customer-centric products, new added value services and new business models, as well. Insurtechs that really innovate customer engagement for incumbents have a great 2017 ahead. Amodo connects insurance companies with the new generation of customers. With Amodo\\'s connected customer suite, insurers leverage on digital channels and connected devices such as smartphones, connected cars and wearables to acquire and engage new customers. Amodo collects data from smartphones and a number of different connected consumer devices to build holistic customer profiles, providing better insights into customer risk exposure and customer product needs. Following the analysis, risk prevention programs, individual pricing as well as personalized and \"on the spot\" insurance products can be placed on the market, increasing the customer\\'s loyalty and lifetime value. Trend 3. Next-level data analytics capabilities and AI, to really unlock the potential of IoT Many insurance carriers have started IoT initiatives in the last few years. In particular, in car insurance it is already becoming mainstream, with Italy leading the pack. Home insurance is lagging, and health and life insurance is even more behind. All pilots and experiments have taught insurers that they lack the right data management capabilities to cope with all these new data streams - not just to deal with the volume and new data sets, but more importantly to turn this data into new insights, and to turn these insights into relevant and distinctive value propositions and customer engagement. Insurtechs that operate in the advanced analytics space, machine learning and artificial intelligence hold the keys to unlock the potential of IoT. 2016 DIAmond Award winner BigML has built a machine-learning platform that democratizes advanced analytics for companies of all sizes. You don\\'t have to be a PhD to use its collection of scalable and proven algorithms thanks to an intuitive web interface and end-to-end automation. Check this out. Trend 4. Addressing the privacy concerns To many consumers, big data equals big brother, and insurers that think of using personal data are not immediately trusted. Quite understandable. Most data initiatives of insurers are about sophisticated pricing and risk reduction really. Cost savers for the insurer. However, the added value of current initiatives for customers is limited. A chance on a lower premium, that\\'s it. To really reap the benefits of connected devices and the data that comes with it, insurers need to tackle these data privacy concerns. On the one hand, insurers need to give more than they take. Much more added value, relative to the personal data used. On the other hand, insurers need to empower customers to manage their own data. Because at the end of the day, it is their data. Expect fast growth of insurtechs that help insurers to cope with privacy issues. Traity (another 2016 DIAmond Award winner) enables consumers to own their own reputation. Traity uses all sorts of new data sources, such as Facebook, AirBnB and Linkedin, to help customers to prove their trustworthiness. Munich Re\\'s legal protection brand DAS has partnered with Traity to offer new kinds of services. Check this out. See also: 10 Predictions for Insurtech in 2017 Trend 5. Contextual pull platforms Markets have shifted from push to pull. But so far most insurers have made hardly any adjustments to their customer engagement strategies and required capabilities. In 2017, we will see the shift to pull platforms, as part of the shift to engagement innovation. Whereas push is about force-feeding products to the customer, pull is about understanding and solving the need behind the insurance solution and being present in that context. Risk considerations made by customers usually don\\'t take place at the office of an insurance broker. Insurers need to be present in the context of daily life, specific life events and decisions, and offer new services on top of the traditional products. Insurtechs that provide a platform or give access to these broader contexts and ecosystems help insurers to become much more a part of customers\\' lives, be part of the ecosystem in that context and add much more value to customers. VitalHealth Software, founded among others by Mayo Clinic, has developed e-health solutions, in particular for people with chronic diseases such as diabetes, cancer and Alzheimer\\'s. Features include all sorts of remote services for patients, insurers and care providers collaborating in health networks, access to protocol-driven disease management support. All seamlessly integrated with electronic health records. VitalHealth Software is used by insurers that are looking to improve care as well as reduce costs. Among other OSDE, the largest health insurer in Argentina and Chunyu Yisheng Mobile Health, a fast-growing Chinese eHealth pioneer with around 100 million registered users that is closely linked to People\\'s Insurance Company of China (PICC). Trend 6. The marketplace model will find its way to insurance Marketplaces: We already see the model emerging in banking, and insurance will follow fast. Virtually every insurer offers a suite of its own products. Everything is developed in-house. More and more carriers realize that you simply cannot be the best at everything, and that resources are too scarce to keep up with every new development or cater to each specific segment. In the marketplace model, the insurers basically give their customers access to third parties with the best products, the most pleasant customer experience and the lowest costs. The marketplace business model cuts both ways. Customers get continuous access to the best products and services in the market. And costs can be kept at a minimum through connecting (or disconnecting) parties almost in real time to key in on new customer wishes and anticipate other market developments. In 2017, we will witness all sorts of partnerships between insurtechs and incumbents that fit the marketplace model. AXA teamed up with the much-praised 2016 DIAmond Award winner Trōv to target U.K. millennials. Trōv offers customized home insurances by allowing coverage of individual key items rather than a one-size-fits-all coverage set with average amounts. Check this out. Trend 7. Open architecture A new ecosystem emerges, with parties that capture data (think connected devices suppliers) and parties that develop new value propositions based on the data. Insurers will have to cooperate even more than they are currently doing with other companies that are part of the ecosystem. When an insurer wants to seize these opportunities in a structural way, it is no longer only about efficiently and effectively organizing business processes, but it is also about easy ways to facilitate interactions between possibly very different users who are dealing with each other in one way or another. Again, banking is ahead of insurance. For our new book, \"Reinventing Customer Engagement: The next level of digital transformation for banks and insurers,\" we spoke to many executives in banking, as well. German Fidor Bank has set up an open API architecture called fidorOS, enabling fintechs to develop financial services themselves on top of an existing legacy system. Citi says that \"any financial institution that doesn\\'t want to rapidly lose market share needs to start working in a more open architecture structure.\" The Backbase omnichannel platform is based on open architecture principles. It leverages existing policy administration systems capabilities and adds a modern customer experience layer on top, creating direct-to-consumer portals and giving the opportunity to integrate best-of-breed apps as well as improving agent and employee portals. Swiss Re, Hiscox and Legal & General are some of the insurers that use the Backbase platform. Check this out. Trend 8. Blockchain will come out of the experimentation stage When Goldman Sachs, Morgan Stanley and Banco Santander decided to leave the R3 Blockchain Group many thought this was proof that blockchain technology apparently was not as promising as initially expected. The contrary is true. It is not uncommon to join a consortium to speed up the learning curve, and then drop out and use the newly acquired knowledge to build your own plans and gain some competitive advantage, especially with a technology as powerful as blockchain. We believe a similar scenario will not take place in the B3i initiative launched by AEGON, Allianz, Munich Re, Swiss Re and Zurich. Thinking cooperation and ecosystems are just much more in the veins of the insurance industry. Plus there are plenty of use cases that cut both ways: improve operational excellence and cost efficiency as well as customer engagement. That is good news for the insurtech forerunners in blockchain technology. Everledger tackles the diamond industry\\'s expensive fraud and theft problem. The company provides an immutable ledger for diamond ownership and related transaction history verification for insurance companies, and uses blockchain technology to continuously track objects. Everledger has partnered with all institutions across the diamond value chain, including insurers, law enforcement agencies and diamond certification houses across the world. Through Everledger\\'s API, each of them can access and supply data around the status of a stone, including police reports and insurance claims. Check this out. See also: 5 Predictions for the IoT in 2017 Trend 9. Use of algorithms for front-liner empowerment Algorithms that are displacing human advisers generate headlines. Robo advice will for sure affect the labor market\\'s landscape. For a costs perspective, this may seem attractive. But from a customer engagement perspective this may be different. To relate to their customers, financial institutions need to build in emotion. Humans inject emotion, empathy, passion and creativity and can deviate from procedure, if needed. Banks and insurers need to create a similar connection digitally. With so many people working at financial institutions, there is also an opportunity to create the best of both worlds. We see the first insurers that deploy robo advice to empower human front-liners. This is resulting in better conversations, higher conversion and, finally, greater solutions for customers. AdviceRobo provides insurers with preventive solutions combining data from structured and unstructured sources and machine learning to score and predict risk behavior of consumers - for instance, predictions on default, bad debt, prepayments and customer churn. Predictions are actionable, because they\\'re on an individual customer level and support front-liners while speaking to customers. Trend 10. Symbiotic relationship with insurtechs Relationships between insurers and insurtechs will become much more intense. All the examples included in the previous nine trends make this quite clear. Insurers will also look for ways to learn much more from the insurtechs they are investing in - whether it is about specific capabilities or concrete instruments they can use in the incumbent organization, or whether it is about the culture at insurtechs and the way of working. We see an increasing number of insurers that are now using lean startup methodologies and that have created in-house accelerators and incubators to accelerate innovation in the mothership. The Aviva Digital Garages in London and Singapore are perfect examples. They are not idea labs, but the place where Aviva runs its digital businesses, varying from MyAviva to some of the startups Aviva Ventures invests in - all under one roof to build an ecosystem and create synergies on multiple levels. This Top 10 of Insurtech trends that we will witness in 2017 sets the stage for the Digital Insurance Agenda. It reinforces the need to connect insurance executives with insurtech leaders, which is basically our mission. It helps us to create an agenda for DIA 2017 Amsterdam that is in sync with what insurers need and what the latest technologies can provide. Check Digital Insurance Agenda for more info.Top 10 Insurtech Trends for 2017 - Insurance Thought Leadership',\n",
       "       'Big IT rising An overview of Lean, Agile and DevOps New Ways of Working The lunch of big corporate IT is being stolen by smaller, nimbler companies. Big IT, with its greater resources, should have crushed the competition. Rather it is playing catch-up. But things are changing. There is a quiet revolution in corporate IT. Big organisations are learning from small companies and are beginning to use it at scale. Goliath is back but acting like David. All this change leaves the corporate manager at a loss as to what tools to use. Big IT, especially banks, is stuck in a world of waterfall development where plans are rather rigid, risk management is paramount and new functionality to the customer is few and far between. The aim of this article is to provide a toolbox of different methodologies that can be used to transform Big IT. For the sake of simplicity, let\\'s refer to our toolbox of methodologies as the \"New Ways of Working\". Our starting point is an exploration of the different elements of the New Ways of Working (Figure 1). This was adapted from Gartner\\'s framework for DevOps. Social Psychology Probably the biggest shift away from the traditional command and control culture in Big IT is the new focus on Social Psychology. If we can figure out what drives people and keeps them motivated and then lets them work in small self-organising teams, we have a recipe for success. Social Psychology forms the foundation of the success of almost all the other tools. It seems that people do their best work when they work in a small team of not more than 10-12 people. Jess Bezos famously said that a team should not need more than two pizzas to be fed. Unfortunately really big pieces of work cannot be done by one small team. The anthropologist Robert Dunbar figured out that the number of people in a stable social group is 150. In the IT domain this means that at most 150 individuals should work together on a product or in a larger domain. My primary group is therefore a small team and these small teams together form a larger domain or grouping. Individual motivation within these teams is as important. Dan Pink thinks that people are motivated by a sense of mastery, some autonomy and purpose . All of us want to feel that we are really good at something. That is why we pursue hobbies that take up our time and energy. We steadily get better and get enjoyment out of it. Performance management systems are changing to the Dreyfus model of skill acquisition that reflects this need for mastery. Small empowered teams give a sense of autonomy. If the work my teams does contributes to something larger that the team or myself, it adds to purpose. Agile Approaches The next area we want to highlight is the role of the Agile movement in the New Ways of Working. Agile is the standard approach for small companies. The challenge for Big IT is to scale an Agile methodology like Scrum for large organisations. Scrum has its roots in Takeuchi and Nonaka\\'s Harvard Business Review article \"The New Product Development Game\", where they compared their approach to the sport of Rugby. In Rugby the team \"tries to go to the distance as a unit, passing the ball back and forth\". Managers had to realize that the traditional, sequential approach to developing new products will not work. Development teams must work as a unit to reach a common goal. Steve Denning summarised Scrum nicely as: Organising work in short cycles. The management doesn\\'t interrupt the team during a work cycle. The team reports to the client , not the manager. The team estimates how much time work will take. The team decides how much work it can do in an iteration. The team decides how to do the work in the iteration. The team measures its own performance. Defining work goals before each cycle starts. Defining work goals through user stories. Systematically removing impediments. Traditionally Agile was used for software development, but now it is being used for total organisational transformation. The DevOps Movement DevOps is the proverbial new kid on the block. It is not a methodology or a framework and builds on Lean and Agile methodologies. It emphasises the following aspects: Developers and Operations people working together in a cross-functional team . The team that develops the software also maintains the software in production. Originally Agile focused on bringing testing and developers [replace with: development] together. DevOps adds the operational dimension. There is a focus on automated deployment pipelines . Manual configuration of environments and the manual movement of code between environments are seen as anti-patterns. Continuous deployment is central as the emphasis is shifting to smaller releases to the production environment quicker. This minimizes risk inherent in big production releases to service outages. Automation is the name of the game in DevOps. Lean Thinking Another lens of the software development process is Lean thinking. Within Lean there are many different schools of thought. The underlying principles that unite these methodologies are: Value gets defined by the customer. The value stream generates value to the customer and spans organisational silos. Requirements are pulled rather than pushed through the system with the consequence that features are not built before they are needed. The process flows continuously. We strive to get better all the time. What started off as a manufacturing methodology is starting to influence the world of software development. In the waterfall software development process different development phases are separated by gates. These gates are mutually exclusive. Work cannot move to the next phase until the work of the previous phases is completed. In the waterfall process this typically means that requirements need to be finalised before detail design work can start. When design is finished we can move to coding and deployment. The term Waterfall Software Development is a misnomer as there is very little emphasis on \"Flow\" as implied by the name. Kanban is a great Lean tool that help to emphasise flow and to make work visible. Putting it together Our discussion so far has given a brief outline of the New Ways of Working. We have focused on the Social Psychology aspects, Lean, DevOps and Agile. Agile will continue to be the prevalent paradigm to deliver software and it will be enhanced by Lean Thinking and the contributions of DevOps. The real challenge is how to enable this thinking in the IT departments of very large organisations. Informal surveys done by Scrum Alliance show that most Agile teams report tension between the way the teams operate and the way the rest of the organisation is run. Large cultural changes are necessary to overcome this. The organisational processes around budgets, people management and performance management also need to change radically to support these New Ways of Working. Very few people know how to do this well and at scale, and this is a fertile field for research and consulting. A suggestion for a simple heuristic on where to start these New Ways of Working in a large corporate with Big IT: Define what culture you want in the organisation and start living, talking and acting in accordance with this culture. If, for example, you want to move the focus away from a management culture to craftmanship, start wearing sneakers and jeans. You can\\'t roll up your sleeves in an Italian suit. Use the Lean tools for the non-product development areas of the organisation. Automate as much as possible. Use Agile and DevOps for the product development areas maturing towards continuous delivery. Steps 2 and 3 can be done simultaneously. Using the tools in Figure 1 is a great start to wake Big IT from its slumber. In other posts we will unpack the diagram in more detail. When Big IT starts punching above or even at it weight again I don\\'t want to stand in their way. Join the movement and let\\'s start the revolution. Missing something? If you feel we missed something in the discussion or diagram let us know in the responses below. Thanks for reading. Originally published at langerman.co.za If you enjoyed this and think others will too, will you please \"Recommend\" or share with a friend?Big IT Rising',\n",
       "       'O Google anunciou que a versão 55 do Chrome vai incluir um novo motor JavaScript que irá reduz significativamente o consumo de memória no navegador. A empresa afirma que seus testes internos, que incluem páginas populares como o New York Times, Twitter, Reddit e YouTube, irão utilizar 50% menos RAM, em média, do que a atual versão 53 do Chrome. O upgrade está programado para acontecer no dia 06 de dezembro para a versão estável do Chrome, mas os usuários de versões Beta, Canary e DEV poderão desfrutar em primeira mão. A equipe do Chromium espera tornar o Chrome mais funcional em dispositivos menos sofisticados, principalmente aqueles com menos de 1 GB de memória.Google vai reduzir em 50% consumo de memória do Chrome | Google Discovery'],\n",
       "      dtype=object)"
      ]
     },
     "execution_count": 74,
     "metadata": {},
     "output_type": "execute_result"
    }
   ],
   "source": [
    "keyword_array"
   ]
  },
  {
   "cell_type": "code",
   "execution_count": 75,
   "metadata": {},
   "outputs": [],
   "source": [
    "# Creating a list of words from the keyword_array\n",
    "keyword_list = []\n",
    "\n",
    "for keyword in keyword_array:\n",
    "    \n",
    "    splitted_words = str(keyword).lower().split()\n",
    "    \n",
    "    keyword_list.append(splitted_words)"
   ]
  },
  {
   "cell_type": "code",
   "execution_count": 76,
   "metadata": {},
   "outputs": [
    {
     "data": {
      "text/plain": [
       "34399"
      ]
     },
     "execution_count": 76,
     "metadata": {},
     "output_type": "execute_result"
    }
   ],
   "source": [
    "len(keyword_list)"
   ]
  },
  {
   "cell_type": "code",
   "execution_count": 77,
   "metadata": {},
   "outputs": [],
   "source": [
    "keyword_list_final = []"
   ]
  },
  {
   "cell_type": "code",
   "execution_count": 78,
   "metadata": {},
   "outputs": [],
   "source": [
    "# Removing the stopwords\n",
    "\n",
    "for word in keyword_list:\n",
    "    if word not in stopwords_list:\n",
    "        keyword_list_final.append(word)"
   ]
  },
  {
   "cell_type": "markdown",
   "metadata": {},
   "source": [
    "### Creating Dictionary, Bag of Words, tfidf Model and Similarity Matrix"
   ]
  },
  {
   "cell_type": "code",
   "execution_count": 79,
   "metadata": {},
   "outputs": [],
   "source": [
    "from gensim.corpora.dictionary import Dictionary"
   ]
  },
  {
   "cell_type": "code",
   "execution_count": 80,
   "metadata": {},
   "outputs": [],
   "source": [
    "# creating a dictionary from the words list \n",
    "dictionary = Dictionary(keyword_list_final)"
   ]
  },
  {
   "cell_type": "code",
   "execution_count": 81,
   "metadata": {},
   "outputs": [],
   "source": [
    "# creating the corpus\n",
    "corpus = [dictionary.doc2bow(doc) for doc in keyword_list_final]"
   ]
  },
  {
   "cell_type": "code",
   "execution_count": 82,
   "metadata": {},
   "outputs": [],
   "source": [
    "from gensim.models.tfidfmodel import TfidfModel"
   ]
  },
  {
   "cell_type": "code",
   "execution_count": 83,
   "metadata": {},
   "outputs": [],
   "source": [
    "# creating a tfidf model of the corpus\n",
    "tfidf = TfidfModel(corpus)"
   ]
  },
  {
   "cell_type": "code",
   "execution_count": 84,
   "metadata": {},
   "outputs": [],
   "source": [
    "from gensim.similarities import MatrixSimilarity"
   ]
  },
  {
   "cell_type": "code",
   "execution_count": 85,
   "metadata": {},
   "outputs": [],
   "source": [
    "# creating the similarity matrix to get the similarity between items\n",
    "sims = MatrixSimilarity(tfidf[corpus], num_features=len(dictionary))"
   ]
  },
  {
   "cell_type": "code",
   "execution_count": 86,
   "metadata": {},
   "outputs": [
    {
     "name": "stdout",
     "output_type": "stream",
     "text": [
      "MatrixSimilarity<34399 docs, 136078 features>\n"
     ]
    }
   ],
   "source": [
    "print(sims)"
   ]
  },
  {
   "cell_type": "markdown",
   "metadata": {},
   "source": [
    "### For input item, looking for recommended items"
   ]
  },
  {
   "cell_type": "code",
   "execution_count": 87,
   "metadata": {},
   "outputs": [
    {
     "data": {
      "text/plain": [
       "'From E-Commerce to Web 3.0: Let the Bots Do the Shopping'"
      ]
     },
     "execution_count": 87,
     "metadata": {},
     "output_type": "execute_result"
    }
   ],
   "source": [
    "train['title'].iloc[2]"
   ]
  },
  {
   "cell_type": "code",
   "execution_count": 143,
   "metadata": {},
   "outputs": [],
   "source": [
    "def item_recommendation(title):\n",
    "    \n",
    "    # getting the item row\n",
    "    item = train.loc[train.title==title] \n",
    "    \n",
    "    #splitting the keywords\n",
    "    keywords = train['text_description'].iloc[11].split() \n",
    "\n",
    "    #setting the list of words to query_doc\n",
    "    query_doc = keywords \n",
    "    \n",
    "    # getting a bag of words from the query_doc\n",
    "    query_doc_bow = dictionary.doc2bow(query_doc) \n",
    "\n",
    "    #converting the regular bag of words model to a tf-idf model\n",
    "    query_doc_tfidf = tfidf[query_doc_bow] \n",
    "\n",
    "    # getting similarity values between input item and all other item\n",
    "    similarity_array = sims[query_doc_tfidf] \n",
    "\n",
    "    # converting to a Series\n",
    "    similarity_series = pd.Series(similarity_array.tolist(), index=train.title.values) \n",
    "\n",
    "    #getting the most similar items \n",
    "    similarity_output = similarity_series.sort_values(ascending=False)\n",
    "    \n",
    "    return similarity_output"
   ]
  },
  {
   "cell_type": "code",
   "execution_count": 89,
   "metadata": {},
   "outputs": [],
   "source": [
    "content_output = item_recommendation('Setting Up HTTP(S) Load Balancing')"
   ]
  },
  {
   "cell_type": "code",
   "execution_count": 90,
   "metadata": {},
   "outputs": [
    {
     "data": {
      "text/plain": [
       "32182"
      ]
     },
     "execution_count": 90,
     "metadata": {},
     "output_type": "execute_result"
    }
   ],
   "source": [
    "content_output.duplicated().sum()"
   ]
  },
  {
   "cell_type": "code",
   "execution_count": 91,
   "metadata": {},
   "outputs": [],
   "source": [
    "content_output = content_output.drop_duplicates()"
   ]
  },
  {
   "cell_type": "code",
   "execution_count": 92,
   "metadata": {},
   "outputs": [
    {
     "data": {
      "text/plain": [
       "O homofóbico dentro de cada um                                                 0.949535\n",
       "[Books] Biblioteca FIXE: Sugestões de Leitura                                  0.324373\n",
       "SINAIS do FUTURO imediato: #1, internet das coisas                             0.309699\n",
       "Por dentro do Nubank, conheça os segredos da fintech mais festejada do país    0.286833\n",
       "A saga do jovem CEO da Dasa                                                    0.284552\n",
       "dtype: float64"
      ]
     },
     "execution_count": 92,
     "metadata": {},
     "output_type": "execute_result"
    }
   ],
   "source": [
    "content_output.head()"
   ]
  },
  {
   "cell_type": "code",
   "execution_count": 93,
   "metadata": {},
   "outputs": [],
   "source": [
    "content_df = pd.DataFrame(content_output)"
   ]
  },
  {
   "cell_type": "code",
   "execution_count": 94,
   "metadata": {},
   "outputs": [
    {
     "data": {
      "text/html": [
       "<div>\n",
       "<style scoped>\n",
       "    .dataframe tbody tr th:only-of-type {\n",
       "        vertical-align: middle;\n",
       "    }\n",
       "\n",
       "    .dataframe tbody tr th {\n",
       "        vertical-align: top;\n",
       "    }\n",
       "\n",
       "    .dataframe thead th {\n",
       "        text-align: right;\n",
       "    }\n",
       "</style>\n",
       "<table border=\"1\" class=\"dataframe\">\n",
       "  <thead>\n",
       "    <tr style=\"text-align: right;\">\n",
       "      <th></th>\n",
       "      <th>0</th>\n",
       "    </tr>\n",
       "  </thead>\n",
       "  <tbody>\n",
       "    <tr>\n",
       "      <th>O homofóbico dentro de cada um</th>\n",
       "      <td>0.949535</td>\n",
       "    </tr>\n",
       "    <tr>\n",
       "      <th>[Books] Biblioteca FIXE: Sugestões de Leitura</th>\n",
       "      <td>0.324373</td>\n",
       "    </tr>\n",
       "    <tr>\n",
       "      <th>SINAIS do FUTURO imediato: #1, internet das coisas</th>\n",
       "      <td>0.309699</td>\n",
       "    </tr>\n",
       "    <tr>\n",
       "      <th>Por dentro do Nubank, conheça os segredos da fintech mais festejada do país</th>\n",
       "      <td>0.286833</td>\n",
       "    </tr>\n",
       "    <tr>\n",
       "      <th>A saga do jovem CEO da Dasa</th>\n",
       "      <td>0.284552</td>\n",
       "    </tr>\n",
       "  </tbody>\n",
       "</table>\n",
       "</div>"
      ],
      "text/plain": [
       "                                                           0\n",
       "O homofóbico dentro de cada um                      0.949535\n",
       "[Books] Biblioteca FIXE: Sugestões de Leitura       0.324373\n",
       "SINAIS do FUTURO imediato: #1, internet das coisas  0.309699\n",
       "Por dentro do Nubank, conheça os segredos da fi...  0.286833\n",
       "A saga do jovem CEO da Dasa                         0.284552"
      ]
     },
     "execution_count": 94,
     "metadata": {},
     "output_type": "execute_result"
    }
   ],
   "source": [
    "content_df.head()"
   ]
  },
  {
   "cell_type": "code",
   "execution_count": 95,
   "metadata": {},
   "outputs": [],
   "source": [
    "content_df.reset_index(inplace=True)"
   ]
  },
  {
   "cell_type": "code",
   "execution_count": 96,
   "metadata": {},
   "outputs": [],
   "source": [
    "content_df.columns = ['title', 'score']"
   ]
  },
  {
   "cell_type": "code",
   "execution_count": 97,
   "metadata": {},
   "outputs": [
    {
     "data": {
      "text/html": [
       "<div>\n",
       "<style scoped>\n",
       "    .dataframe tbody tr th:only-of-type {\n",
       "        vertical-align: middle;\n",
       "    }\n",
       "\n",
       "    .dataframe tbody tr th {\n",
       "        vertical-align: top;\n",
       "    }\n",
       "\n",
       "    .dataframe thead th {\n",
       "        text-align: right;\n",
       "    }\n",
       "</style>\n",
       "<table border=\"1\" class=\"dataframe\">\n",
       "  <thead>\n",
       "    <tr style=\"text-align: right;\">\n",
       "      <th></th>\n",
       "      <th>title</th>\n",
       "      <th>score</th>\n",
       "    </tr>\n",
       "  </thead>\n",
       "  <tbody>\n",
       "    <tr>\n",
       "      <th>0</th>\n",
       "      <td>O homofóbico dentro de cada um</td>\n",
       "      <td>0.949535</td>\n",
       "    </tr>\n",
       "    <tr>\n",
       "      <th>1</th>\n",
       "      <td>[Books] Biblioteca FIXE: Sugestões de Leitura</td>\n",
       "      <td>0.324373</td>\n",
       "    </tr>\n",
       "    <tr>\n",
       "      <th>2</th>\n",
       "      <td>SINAIS do FUTURO imediato: #1, internet das co...</td>\n",
       "      <td>0.309699</td>\n",
       "    </tr>\n",
       "    <tr>\n",
       "      <th>3</th>\n",
       "      <td>Por dentro do Nubank, conheça os segredos da f...</td>\n",
       "      <td>0.286833</td>\n",
       "    </tr>\n",
       "    <tr>\n",
       "      <th>4</th>\n",
       "      <td>A saga do jovem CEO da Dasa</td>\n",
       "      <td>0.284552</td>\n",
       "    </tr>\n",
       "  </tbody>\n",
       "</table>\n",
       "</div>"
      ],
      "text/plain": [
       "                                               title     score\n",
       "0                     O homofóbico dentro de cada um  0.949535\n",
       "1      [Books] Biblioteca FIXE: Sugestões de Leitura  0.324373\n",
       "2  SINAIS do FUTURO imediato: #1, internet das co...  0.309699\n",
       "3  Por dentro do Nubank, conheça os segredos da f...  0.286833\n",
       "4                        A saga do jovem CEO da Dasa  0.284552"
      ]
     },
     "execution_count": 97,
     "metadata": {},
     "output_type": "execute_result"
    }
   ],
   "source": [
    "content_df.head()"
   ]
  },
  {
   "cell_type": "code",
   "execution_count": 98,
   "metadata": {},
   "outputs": [],
   "source": [
    "content_df['content_score_normalized'] = (content_df['score']-min(content_df['score'])) / (max(content_df['score']) - min(content_df['score']))"
   ]
  },
  {
   "cell_type": "code",
   "execution_count": 99,
   "metadata": {},
   "outputs": [
    {
     "data": {
      "text/html": [
       "<div>\n",
       "<style scoped>\n",
       "    .dataframe tbody tr th:only-of-type {\n",
       "        vertical-align: middle;\n",
       "    }\n",
       "\n",
       "    .dataframe tbody tr th {\n",
       "        vertical-align: top;\n",
       "    }\n",
       "\n",
       "    .dataframe thead th {\n",
       "        text-align: right;\n",
       "    }\n",
       "</style>\n",
       "<table border=\"1\" class=\"dataframe\">\n",
       "  <thead>\n",
       "    <tr style=\"text-align: right;\">\n",
       "      <th></th>\n",
       "      <th>title</th>\n",
       "      <th>score</th>\n",
       "      <th>content_score_normalized</th>\n",
       "    </tr>\n",
       "  </thead>\n",
       "  <tbody>\n",
       "    <tr>\n",
       "      <th>0</th>\n",
       "      <td>O homofóbico dentro de cada um</td>\n",
       "      <td>0.949535</td>\n",
       "      <td>1.000000</td>\n",
       "    </tr>\n",
       "    <tr>\n",
       "      <th>1</th>\n",
       "      <td>[Books] Biblioteca FIXE: Sugestões de Leitura</td>\n",
       "      <td>0.324373</td>\n",
       "      <td>0.341612</td>\n",
       "    </tr>\n",
       "    <tr>\n",
       "      <th>2</th>\n",
       "      <td>SINAIS do FUTURO imediato: #1, internet das co...</td>\n",
       "      <td>0.309699</td>\n",
       "      <td>0.326158</td>\n",
       "    </tr>\n",
       "    <tr>\n",
       "      <th>3</th>\n",
       "      <td>Por dentro do Nubank, conheça os segredos da f...</td>\n",
       "      <td>0.286833</td>\n",
       "      <td>0.302077</td>\n",
       "    </tr>\n",
       "    <tr>\n",
       "      <th>4</th>\n",
       "      <td>A saga do jovem CEO da Dasa</td>\n",
       "      <td>0.284552</td>\n",
       "      <td>0.299675</td>\n",
       "    </tr>\n",
       "  </tbody>\n",
       "</table>\n",
       "</div>"
      ],
      "text/plain": [
       "                                               title     score  \\\n",
       "0                     O homofóbico dentro de cada um  0.949535   \n",
       "1      [Books] Biblioteca FIXE: Sugestões de Leitura  0.324373   \n",
       "2  SINAIS do FUTURO imediato: #1, internet das co...  0.309699   \n",
       "3  Por dentro do Nubank, conheça os segredos da f...  0.286833   \n",
       "4                        A saga do jovem CEO da Dasa  0.284552   \n",
       "\n",
       "   content_score_normalized  \n",
       "0                  1.000000  \n",
       "1                  0.341612  \n",
       "2                  0.326158  \n",
       "3                  0.302077  \n",
       "4                  0.299675  "
      ]
     },
     "execution_count": 99,
     "metadata": {},
     "output_type": "execute_result"
    }
   ],
   "source": [
    "content_df.head()"
   ]
  },
  {
   "cell_type": "code",
   "execution_count": 100,
   "metadata": {},
   "outputs": [
    {
     "data": {
      "text/plain": [
       "(2217, 3)"
      ]
     },
     "execution_count": 100,
     "metadata": {},
     "output_type": "execute_result"
    }
   ],
   "source": [
    "content_df.shape"
   ]
  },
  {
   "cell_type": "markdown",
   "metadata": {},
   "source": [
    "## Collaborative Recommendation"
   ]
  },
  {
   "cell_type": "markdown",
   "metadata": {},
   "source": [
    "### User item profile"
   ]
  },
  {
   "cell_type": "code",
   "execution_count": 101,
   "metadata": {},
   "outputs": [],
   "source": [
    "data_matrix = train.pivot_table(\n",
    "    index='item_no',\n",
    "    columns='consumer_no',\n",
    "    values='interaction_type'\n",
    ").fillna(0)"
   ]
  },
  {
   "cell_type": "code",
   "execution_count": 102,
   "metadata": {},
   "outputs": [
    {
     "data": {
      "text/html": [
       "<div>\n",
       "<style scoped>\n",
       "    .dataframe tbody tr th:only-of-type {\n",
       "        vertical-align: middle;\n",
       "    }\n",
       "\n",
       "    .dataframe tbody tr th {\n",
       "        vertical-align: top;\n",
       "    }\n",
       "\n",
       "    .dataframe thead th {\n",
       "        text-align: right;\n",
       "    }\n",
       "</style>\n",
       "<table border=\"1\" class=\"dataframe\">\n",
       "  <thead>\n",
       "    <tr style=\"text-align: right;\">\n",
       "      <th>consumer_no</th>\n",
       "      <th>0</th>\n",
       "      <th>1</th>\n",
       "      <th>2</th>\n",
       "      <th>3</th>\n",
       "      <th>4</th>\n",
       "      <th>5</th>\n",
       "      <th>6</th>\n",
       "      <th>7</th>\n",
       "      <th>8</th>\n",
       "      <th>9</th>\n",
       "      <th>...</th>\n",
       "      <th>1881</th>\n",
       "      <th>1882</th>\n",
       "      <th>1883</th>\n",
       "      <th>1885</th>\n",
       "      <th>1886</th>\n",
       "      <th>1887</th>\n",
       "      <th>1890</th>\n",
       "      <th>1891</th>\n",
       "      <th>1893</th>\n",
       "      <th>1894</th>\n",
       "    </tr>\n",
       "    <tr>\n",
       "      <th>item_no</th>\n",
       "      <th></th>\n",
       "      <th></th>\n",
       "      <th></th>\n",
       "      <th></th>\n",
       "      <th></th>\n",
       "      <th></th>\n",
       "      <th></th>\n",
       "      <th></th>\n",
       "      <th></th>\n",
       "      <th></th>\n",
       "      <th></th>\n",
       "      <th></th>\n",
       "      <th></th>\n",
       "      <th></th>\n",
       "      <th></th>\n",
       "      <th></th>\n",
       "      <th></th>\n",
       "      <th></th>\n",
       "      <th></th>\n",
       "      <th></th>\n",
       "      <th></th>\n",
       "    </tr>\n",
       "  </thead>\n",
       "  <tbody>\n",
       "    <tr>\n",
       "      <th>3</th>\n",
       "      <td>0.0</td>\n",
       "      <td>3.0</td>\n",
       "      <td>0.0</td>\n",
       "      <td>0.0</td>\n",
       "      <td>0.0</td>\n",
       "      <td>0.0</td>\n",
       "      <td>0.0</td>\n",
       "      <td>0.0</td>\n",
       "      <td>0.0</td>\n",
       "      <td>0.0</td>\n",
       "      <td>...</td>\n",
       "      <td>0.0</td>\n",
       "      <td>0.0</td>\n",
       "      <td>0.0</td>\n",
       "      <td>0.0</td>\n",
       "      <td>0.0</td>\n",
       "      <td>0.0</td>\n",
       "      <td>0.0</td>\n",
       "      <td>0.0</td>\n",
       "      <td>0.0</td>\n",
       "      <td>0.0</td>\n",
       "    </tr>\n",
       "    <tr>\n",
       "      <th>11</th>\n",
       "      <td>0.0</td>\n",
       "      <td>0.0</td>\n",
       "      <td>0.0</td>\n",
       "      <td>0.0</td>\n",
       "      <td>0.0</td>\n",
       "      <td>0.0</td>\n",
       "      <td>5.0</td>\n",
       "      <td>0.0</td>\n",
       "      <td>0.0</td>\n",
       "      <td>0.0</td>\n",
       "      <td>...</td>\n",
       "      <td>0.0</td>\n",
       "      <td>0.0</td>\n",
       "      <td>0.0</td>\n",
       "      <td>0.0</td>\n",
       "      <td>0.0</td>\n",
       "      <td>0.0</td>\n",
       "      <td>0.0</td>\n",
       "      <td>0.0</td>\n",
       "      <td>0.0</td>\n",
       "      <td>0.0</td>\n",
       "    </tr>\n",
       "    <tr>\n",
       "      <th>12</th>\n",
       "      <td>0.0</td>\n",
       "      <td>5.0</td>\n",
       "      <td>0.0</td>\n",
       "      <td>0.0</td>\n",
       "      <td>0.0</td>\n",
       "      <td>0.0</td>\n",
       "      <td>5.0</td>\n",
       "      <td>0.0</td>\n",
       "      <td>0.0</td>\n",
       "      <td>0.0</td>\n",
       "      <td>...</td>\n",
       "      <td>0.0</td>\n",
       "      <td>0.0</td>\n",
       "      <td>0.0</td>\n",
       "      <td>0.0</td>\n",
       "      <td>0.0</td>\n",
       "      <td>0.0</td>\n",
       "      <td>0.0</td>\n",
       "      <td>0.0</td>\n",
       "      <td>0.0</td>\n",
       "      <td>0.0</td>\n",
       "    </tr>\n",
       "    <tr>\n",
       "      <th>13</th>\n",
       "      <td>0.0</td>\n",
       "      <td>0.0</td>\n",
       "      <td>0.0</td>\n",
       "      <td>0.0</td>\n",
       "      <td>0.0</td>\n",
       "      <td>0.0</td>\n",
       "      <td>0.0</td>\n",
       "      <td>0.0</td>\n",
       "      <td>0.0</td>\n",
       "      <td>0.0</td>\n",
       "      <td>...</td>\n",
       "      <td>0.0</td>\n",
       "      <td>0.0</td>\n",
       "      <td>0.0</td>\n",
       "      <td>0.0</td>\n",
       "      <td>0.0</td>\n",
       "      <td>0.0</td>\n",
       "      <td>0.0</td>\n",
       "      <td>0.0</td>\n",
       "      <td>0.0</td>\n",
       "      <td>0.0</td>\n",
       "    </tr>\n",
       "    <tr>\n",
       "      <th>14</th>\n",
       "      <td>0.0</td>\n",
       "      <td>5.0</td>\n",
       "      <td>0.0</td>\n",
       "      <td>0.0</td>\n",
       "      <td>0.0</td>\n",
       "      <td>0.0</td>\n",
       "      <td>0.0</td>\n",
       "      <td>0.0</td>\n",
       "      <td>0.0</td>\n",
       "      <td>0.0</td>\n",
       "      <td>...</td>\n",
       "      <td>0.0</td>\n",
       "      <td>0.0</td>\n",
       "      <td>0.0</td>\n",
       "      <td>0.0</td>\n",
       "      <td>0.0</td>\n",
       "      <td>0.0</td>\n",
       "      <td>0.0</td>\n",
       "      <td>0.0</td>\n",
       "      <td>0.0</td>\n",
       "      <td>0.0</td>\n",
       "    </tr>\n",
       "  </tbody>\n",
       "</table>\n",
       "<p>5 rows × 1779 columns</p>\n",
       "</div>"
      ],
      "text/plain": [
       "consumer_no  0     1     2     3     4     5     6     7     8     9     ...  \\\n",
       "item_no                                                                  ...   \n",
       "3             0.0   3.0   0.0   0.0   0.0   0.0   0.0   0.0   0.0   0.0  ...   \n",
       "11            0.0   0.0   0.0   0.0   0.0   0.0   5.0   0.0   0.0   0.0  ...   \n",
       "12            0.0   5.0   0.0   0.0   0.0   0.0   5.0   0.0   0.0   0.0  ...   \n",
       "13            0.0   0.0   0.0   0.0   0.0   0.0   0.0   0.0   0.0   0.0  ...   \n",
       "14            0.0   5.0   0.0   0.0   0.0   0.0   0.0   0.0   0.0   0.0  ...   \n",
       "\n",
       "consumer_no  1881  1882  1883  1885  1886  1887  1890  1891  1893  1894  \n",
       "item_no                                                                  \n",
       "3             0.0   0.0   0.0   0.0   0.0   0.0   0.0   0.0   0.0   0.0  \n",
       "11            0.0   0.0   0.0   0.0   0.0   0.0   0.0   0.0   0.0   0.0  \n",
       "12            0.0   0.0   0.0   0.0   0.0   0.0   0.0   0.0   0.0   0.0  \n",
       "13            0.0   0.0   0.0   0.0   0.0   0.0   0.0   0.0   0.0   0.0  \n",
       "14            0.0   0.0   0.0   0.0   0.0   0.0   0.0   0.0   0.0   0.0  \n",
       "\n",
       "[5 rows x 1779 columns]"
      ]
     },
     "execution_count": 102,
     "metadata": {},
     "output_type": "execute_result"
    }
   ],
   "source": [
    "data_matrix.head()"
   ]
  },
  {
   "cell_type": "code",
   "execution_count": 103,
   "metadata": {},
   "outputs": [
    {
     "data": {
      "text/plain": [
       "(2240, 1779)"
      ]
     },
     "execution_count": 103,
     "metadata": {},
     "output_type": "execute_result"
    }
   ],
   "source": [
    "data_matrix.shape"
   ]
  },
  {
   "cell_type": "markdown",
   "metadata": {},
   "source": [
    "### Pairwise Distance"
   ]
  },
  {
   "cell_type": "code",
   "execution_count": 104,
   "metadata": {},
   "outputs": [],
   "source": [
    "from sklearn.metrics.pairwise import pairwise_distances "
   ]
  },
  {
   "cell_type": "code",
   "execution_count": 105,
   "metadata": {},
   "outputs": [],
   "source": [
    "item_similarity = 1 - pairwise_distances(data_matrix, metric = 'cosine')"
   ]
  },
  {
   "cell_type": "code",
   "execution_count": 106,
   "metadata": {},
   "outputs": [
    {
     "data": {
      "text/plain": [
       "array([[1.        , 0.        , 0.11572751, ..., 0.        , 0.        ,\n",
       "        0.        ],\n",
       "       [0.        , 1.        , 0.2236068 , ..., 0.11439056, 0.        ,\n",
       "        0.1490712 ],\n",
       "       [0.11572751, 0.2236068 , 1.        , ..., 0.12789253, 0.19148936,\n",
       "        0.16666667],\n",
       "       ...,\n",
       "       [0.        , 0.11439056, 0.12789253, ..., 1.        , 0.        ,\n",
       "        0.17052337],\n",
       "       [0.        , 0.        , 0.19148936, ..., 0.        , 1.        ,\n",
       "        0.        ],\n",
       "       [0.        , 0.1490712 , 0.16666667, ..., 0.17052337, 0.        ,\n",
       "        1.        ]])"
      ]
     },
     "execution_count": 106,
     "metadata": {},
     "output_type": "execute_result"
    }
   ],
   "source": [
    "item_similarity"
   ]
  },
  {
   "cell_type": "code",
   "execution_count": 107,
   "metadata": {},
   "outputs": [
    {
     "data": {
      "text/plain": [
       "(2240, 2240)"
      ]
     },
     "execution_count": 107,
     "metadata": {},
     "output_type": "execute_result"
    }
   ],
   "source": [
    "item_similarity.shape"
   ]
  },
  {
   "cell_type": "markdown",
   "metadata": {},
   "source": [
    "### Getting similar items to recommend"
   ]
  },
  {
   "cell_type": "code",
   "execution_count": 108,
   "metadata": {},
   "outputs": [],
   "source": [
    "item_index = 11"
   ]
  },
  {
   "cell_type": "code",
   "execution_count": 109,
   "metadata": {},
   "outputs": [],
   "source": [
    "item_prediction = pd.DataFrame(item_similarity)"
   ]
  },
  {
   "cell_type": "code",
   "execution_count": 110,
   "metadata": {},
   "outputs": [
    {
     "data": {
      "text/html": [
       "<div>\n",
       "<style scoped>\n",
       "    .dataframe tbody tr th:only-of-type {\n",
       "        vertical-align: middle;\n",
       "    }\n",
       "\n",
       "    .dataframe tbody tr th {\n",
       "        vertical-align: top;\n",
       "    }\n",
       "\n",
       "    .dataframe thead th {\n",
       "        text-align: right;\n",
       "    }\n",
       "</style>\n",
       "<table border=\"1\" class=\"dataframe\">\n",
       "  <thead>\n",
       "    <tr style=\"text-align: right;\">\n",
       "      <th></th>\n",
       "      <th>0</th>\n",
       "      <th>1</th>\n",
       "      <th>2</th>\n",
       "      <th>3</th>\n",
       "      <th>4</th>\n",
       "      <th>5</th>\n",
       "      <th>6</th>\n",
       "      <th>7</th>\n",
       "      <th>8</th>\n",
       "      <th>9</th>\n",
       "      <th>...</th>\n",
       "      <th>2230</th>\n",
       "      <th>2231</th>\n",
       "      <th>2232</th>\n",
       "      <th>2233</th>\n",
       "      <th>2234</th>\n",
       "      <th>2235</th>\n",
       "      <th>2236</th>\n",
       "      <th>2237</th>\n",
       "      <th>2238</th>\n",
       "      <th>2239</th>\n",
       "    </tr>\n",
       "  </thead>\n",
       "  <tbody>\n",
       "    <tr>\n",
       "      <th>0</th>\n",
       "      <td>1.000000</td>\n",
       "      <td>0.000000</td>\n",
       "      <td>0.115728</td>\n",
       "      <td>0.0</td>\n",
       "      <td>0.151812</td>\n",
       "      <td>0.0</td>\n",
       "      <td>0.0</td>\n",
       "      <td>0.000000</td>\n",
       "      <td>0.135208</td>\n",
       "      <td>0.059984</td>\n",
       "      <td>...</td>\n",
       "      <td>0.015973</td>\n",
       "      <td>0.000000</td>\n",
       "      <td>0.157485</td>\n",
       "      <td>0.000000</td>\n",
       "      <td>0.000000</td>\n",
       "      <td>0.000000</td>\n",
       "      <td>0.0</td>\n",
       "      <td>0.000000</td>\n",
       "      <td>0.000000</td>\n",
       "      <td>0.000000</td>\n",
       "    </tr>\n",
       "    <tr>\n",
       "      <th>1</th>\n",
       "      <td>0.000000</td>\n",
       "      <td>1.000000</td>\n",
       "      <td>0.223607</td>\n",
       "      <td>0.0</td>\n",
       "      <td>0.000000</td>\n",
       "      <td>0.0</td>\n",
       "      <td>0.0</td>\n",
       "      <td>0.182574</td>\n",
       "      <td>0.266472</td>\n",
       "      <td>0.193167</td>\n",
       "      <td>...</td>\n",
       "      <td>0.092589</td>\n",
       "      <td>0.084980</td>\n",
       "      <td>0.000000</td>\n",
       "      <td>0.128711</td>\n",
       "      <td>0.200000</td>\n",
       "      <td>0.145172</td>\n",
       "      <td>0.0</td>\n",
       "      <td>0.114391</td>\n",
       "      <td>0.000000</td>\n",
       "      <td>0.149071</td>\n",
       "    </tr>\n",
       "    <tr>\n",
       "      <th>2</th>\n",
       "      <td>0.115728</td>\n",
       "      <td>0.223607</td>\n",
       "      <td>1.000000</td>\n",
       "      <td>0.0</td>\n",
       "      <td>0.327952</td>\n",
       "      <td>0.0</td>\n",
       "      <td>0.0</td>\n",
       "      <td>0.000000</td>\n",
       "      <td>0.175250</td>\n",
       "      <td>0.561514</td>\n",
       "      <td>...</td>\n",
       "      <td>0.103517</td>\n",
       "      <td>0.095011</td>\n",
       "      <td>0.000000</td>\n",
       "      <td>0.143904</td>\n",
       "      <td>0.223607</td>\n",
       "      <td>0.162307</td>\n",
       "      <td>0.0</td>\n",
       "      <td>0.127893</td>\n",
       "      <td>0.191489</td>\n",
       "      <td>0.166667</td>\n",
       "    </tr>\n",
       "    <tr>\n",
       "      <th>3</th>\n",
       "      <td>0.000000</td>\n",
       "      <td>0.000000</td>\n",
       "      <td>0.000000</td>\n",
       "      <td>1.0</td>\n",
       "      <td>0.000000</td>\n",
       "      <td>0.0</td>\n",
       "      <td>0.0</td>\n",
       "      <td>0.000000</td>\n",
       "      <td>0.000000</td>\n",
       "      <td>0.000000</td>\n",
       "      <td>...</td>\n",
       "      <td>0.051383</td>\n",
       "      <td>0.000000</td>\n",
       "      <td>0.101322</td>\n",
       "      <td>0.000000</td>\n",
       "      <td>0.000000</td>\n",
       "      <td>0.000000</td>\n",
       "      <td>0.0</td>\n",
       "      <td>0.105804</td>\n",
       "      <td>0.000000</td>\n",
       "      <td>0.000000</td>\n",
       "    </tr>\n",
       "    <tr>\n",
       "      <th>4</th>\n",
       "      <td>0.151812</td>\n",
       "      <td>0.000000</td>\n",
       "      <td>0.327952</td>\n",
       "      <td>0.0</td>\n",
       "      <td>1.000000</td>\n",
       "      <td>0.0</td>\n",
       "      <td>0.0</td>\n",
       "      <td>0.000000</td>\n",
       "      <td>0.000000</td>\n",
       "      <td>0.169984</td>\n",
       "      <td>...</td>\n",
       "      <td>0.000000</td>\n",
       "      <td>0.000000</td>\n",
       "      <td>0.000000</td>\n",
       "      <td>0.000000</td>\n",
       "      <td>0.000000</td>\n",
       "      <td>0.000000</td>\n",
       "      <td>0.0</td>\n",
       "      <td>0.000000</td>\n",
       "      <td>0.000000</td>\n",
       "      <td>0.000000</td>\n",
       "    </tr>\n",
       "  </tbody>\n",
       "</table>\n",
       "<p>5 rows × 2240 columns</p>\n",
       "</div>"
      ],
      "text/plain": [
       "       0         1         2     3         4     5     6         7     \\\n",
       "0  1.000000  0.000000  0.115728   0.0  0.151812   0.0   0.0  0.000000   \n",
       "1  0.000000  1.000000  0.223607   0.0  0.000000   0.0   0.0  0.182574   \n",
       "2  0.115728  0.223607  1.000000   0.0  0.327952   0.0   0.0  0.000000   \n",
       "3  0.000000  0.000000  0.000000   1.0  0.000000   0.0   0.0  0.000000   \n",
       "4  0.151812  0.000000  0.327952   0.0  1.000000   0.0   0.0  0.000000   \n",
       "\n",
       "       8         9     ...      2230      2231      2232      2233      2234  \\\n",
       "0  0.135208  0.059984  ...  0.015973  0.000000  0.157485  0.000000  0.000000   \n",
       "1  0.266472  0.193167  ...  0.092589  0.084980  0.000000  0.128711  0.200000   \n",
       "2  0.175250  0.561514  ...  0.103517  0.095011  0.000000  0.143904  0.223607   \n",
       "3  0.000000  0.000000  ...  0.051383  0.000000  0.101322  0.000000  0.000000   \n",
       "4  0.000000  0.169984  ...  0.000000  0.000000  0.000000  0.000000  0.000000   \n",
       "\n",
       "       2235  2236      2237      2238      2239  \n",
       "0  0.000000   0.0  0.000000  0.000000  0.000000  \n",
       "1  0.145172   0.0  0.114391  0.000000  0.149071  \n",
       "2  0.162307   0.0  0.127893  0.191489  0.166667  \n",
       "3  0.000000   0.0  0.105804  0.000000  0.000000  \n",
       "4  0.000000   0.0  0.000000  0.000000  0.000000  \n",
       "\n",
       "[5 rows x 2240 columns]"
      ]
     },
     "execution_count": 110,
     "metadata": {},
     "output_type": "execute_result"
    }
   ],
   "source": [
    "item_prediction.head()"
   ]
  },
  {
   "cell_type": "code",
   "execution_count": 111,
   "metadata": {},
   "outputs": [
    {
     "data": {
      "text/plain": [
       "(2240, 2240)"
      ]
     },
     "execution_count": 111,
     "metadata": {},
     "output_type": "execute_result"
    }
   ],
   "source": [
    "item_prediction.shape"
   ]
  },
  {
   "cell_type": "code",
   "execution_count": 112,
   "metadata": {},
   "outputs": [
    {
     "data": {
      "text/plain": [
       "0       0.000000\n",
       "1       0.000000\n",
       "2       0.000000\n",
       "3       0.413646\n",
       "4       0.000000\n",
       "          ...   \n",
       "2235    0.000000\n",
       "2236    0.000000\n",
       "2237    0.127893\n",
       "2238    0.000000\n",
       "2239    0.000000\n",
       "Name: 11, Length: 2240, dtype: float64"
      ]
     },
     "execution_count": 112,
     "metadata": {},
     "output_type": "execute_result"
    }
   ],
   "source": [
    "item_prediction.iloc[item_index]"
   ]
  },
  {
   "cell_type": "code",
   "execution_count": 113,
   "metadata": {},
   "outputs": [],
   "source": [
    "item_recommendation = pd.DataFrame(item_prediction.iloc[item_index].sort_values(ascending=False))"
   ]
  },
  {
   "cell_type": "code",
   "execution_count": 114,
   "metadata": {},
   "outputs": [
    {
     "data": {
      "text/html": [
       "<div>\n",
       "<style scoped>\n",
       "    .dataframe tbody tr th:only-of-type {\n",
       "        vertical-align: middle;\n",
       "    }\n",
       "\n",
       "    .dataframe tbody tr th {\n",
       "        vertical-align: top;\n",
       "    }\n",
       "\n",
       "    .dataframe thead th {\n",
       "        text-align: right;\n",
       "    }\n",
       "</style>\n",
       "<table border=\"1\" class=\"dataframe\">\n",
       "  <thead>\n",
       "    <tr style=\"text-align: right;\">\n",
       "      <th></th>\n",
       "      <th>11</th>\n",
       "    </tr>\n",
       "  </thead>\n",
       "  <tbody>\n",
       "    <tr>\n",
       "      <th>11</th>\n",
       "      <td>1.000000</td>\n",
       "    </tr>\n",
       "    <tr>\n",
       "      <th>2154</th>\n",
       "      <td>0.707107</td>\n",
       "    </tr>\n",
       "    <tr>\n",
       "      <th>720</th>\n",
       "      <td>0.608330</td>\n",
       "    </tr>\n",
       "    <tr>\n",
       "      <th>562</th>\n",
       "      <td>0.593732</td>\n",
       "    </tr>\n",
       "    <tr>\n",
       "      <th>987</th>\n",
       "      <td>0.582113</td>\n",
       "    </tr>\n",
       "  </tbody>\n",
       "</table>\n",
       "</div>"
      ],
      "text/plain": [
       "            11\n",
       "11    1.000000\n",
       "2154  0.707107\n",
       "720   0.608330\n",
       "562   0.593732\n",
       "987   0.582113"
      ]
     },
     "execution_count": 114,
     "metadata": {},
     "output_type": "execute_result"
    }
   ],
   "source": [
    "item_recommendation.head()"
   ]
  },
  {
   "cell_type": "code",
   "execution_count": 115,
   "metadata": {},
   "outputs": [],
   "source": [
    "item_recommendation.reset_index(inplace=True)"
   ]
  },
  {
   "cell_type": "code",
   "execution_count": 116,
   "metadata": {},
   "outputs": [],
   "source": [
    "item_recommendation.columns = ['item_no','score']"
   ]
  },
  {
   "cell_type": "code",
   "execution_count": 117,
   "metadata": {},
   "outputs": [
    {
     "data": {
      "text/html": [
       "<div>\n",
       "<style scoped>\n",
       "    .dataframe tbody tr th:only-of-type {\n",
       "        vertical-align: middle;\n",
       "    }\n",
       "\n",
       "    .dataframe tbody tr th {\n",
       "        vertical-align: top;\n",
       "    }\n",
       "\n",
       "    .dataframe thead th {\n",
       "        text-align: right;\n",
       "    }\n",
       "</style>\n",
       "<table border=\"1\" class=\"dataframe\">\n",
       "  <thead>\n",
       "    <tr style=\"text-align: right;\">\n",
       "      <th></th>\n",
       "      <th>item_no</th>\n",
       "      <th>score</th>\n",
       "    </tr>\n",
       "  </thead>\n",
       "  <tbody>\n",
       "    <tr>\n",
       "      <th>0</th>\n",
       "      <td>11</td>\n",
       "      <td>1.000000</td>\n",
       "    </tr>\n",
       "    <tr>\n",
       "      <th>1</th>\n",
       "      <td>2154</td>\n",
       "      <td>0.707107</td>\n",
       "    </tr>\n",
       "    <tr>\n",
       "      <th>2</th>\n",
       "      <td>720</td>\n",
       "      <td>0.608330</td>\n",
       "    </tr>\n",
       "    <tr>\n",
       "      <th>3</th>\n",
       "      <td>562</td>\n",
       "      <td>0.593732</td>\n",
       "    </tr>\n",
       "    <tr>\n",
       "      <th>4</th>\n",
       "      <td>987</td>\n",
       "      <td>0.582113</td>\n",
       "    </tr>\n",
       "    <tr>\n",
       "      <th>5</th>\n",
       "      <td>461</td>\n",
       "      <td>0.509478</td>\n",
       "    </tr>\n",
       "    <tr>\n",
       "      <th>6</th>\n",
       "      <td>1484</td>\n",
       "      <td>0.508710</td>\n",
       "    </tr>\n",
       "    <tr>\n",
       "      <th>7</th>\n",
       "      <td>1380</td>\n",
       "      <td>0.500000</td>\n",
       "    </tr>\n",
       "    <tr>\n",
       "      <th>8</th>\n",
       "      <td>1580</td>\n",
       "      <td>0.500000</td>\n",
       "    </tr>\n",
       "    <tr>\n",
       "      <th>9</th>\n",
       "      <td>894</td>\n",
       "      <td>0.500000</td>\n",
       "    </tr>\n",
       "  </tbody>\n",
       "</table>\n",
       "</div>"
      ],
      "text/plain": [
       "   item_no     score\n",
       "0       11  1.000000\n",
       "1     2154  0.707107\n",
       "2      720  0.608330\n",
       "3      562  0.593732\n",
       "4      987  0.582113\n",
       "5      461  0.509478\n",
       "6     1484  0.508710\n",
       "7     1380  0.500000\n",
       "8     1580  0.500000\n",
       "9      894  0.500000"
      ]
     },
     "execution_count": 117,
     "metadata": {},
     "output_type": "execute_result"
    }
   ],
   "source": [
    "item_recommendation.head(10)"
   ]
  },
  {
   "cell_type": "markdown",
   "metadata": {},
   "source": [
    "### Merging 'item_no' with item 'title'"
   ]
  },
  {
   "cell_type": "code",
   "execution_count": 118,
   "metadata": {},
   "outputs": [],
   "source": [
    "merged_one = pd.merge(item_recommendation, merged,  on='item_no', how='left')"
   ]
  },
  {
   "cell_type": "code",
   "execution_count": 119,
   "metadata": {},
   "outputs": [
    {
     "data": {
      "text/html": [
       "<div>\n",
       "<style scoped>\n",
       "    .dataframe tbody tr th:only-of-type {\n",
       "        vertical-align: middle;\n",
       "    }\n",
       "\n",
       "    .dataframe tbody tr th {\n",
       "        vertical-align: top;\n",
       "    }\n",
       "\n",
       "    .dataframe thead th {\n",
       "        text-align: right;\n",
       "    }\n",
       "</style>\n",
       "<table border=\"1\" class=\"dataframe\">\n",
       "  <thead>\n",
       "    <tr style=\"text-align: right;\">\n",
       "      <th></th>\n",
       "      <th>item_no</th>\n",
       "      <th>score</th>\n",
       "      <th>interaction_type</th>\n",
       "      <th>consumer_no</th>\n",
       "      <th>title</th>\n",
       "      <th>text_description</th>\n",
       "      <th>language</th>\n",
       "    </tr>\n",
       "  </thead>\n",
       "  <tbody>\n",
       "    <tr>\n",
       "      <th>0</th>\n",
       "      <td>11</td>\n",
       "      <td>1.000000</td>\n",
       "      <td>5.0</td>\n",
       "      <td>6.0</td>\n",
       "      <td>Setting Up HTTP(S) Load Balancing</td>\n",
       "      <td>HTTP(S) load balancing provides global load ba...</td>\n",
       "      <td>en</td>\n",
       "    </tr>\n",
       "    <tr>\n",
       "      <th>1</th>\n",
       "      <td>11</td>\n",
       "      <td>1.000000</td>\n",
       "      <td>5.0</td>\n",
       "      <td>72.0</td>\n",
       "      <td>Setting Up HTTP(S) Load Balancing</td>\n",
       "      <td>HTTP(S) load balancing provides global load ba...</td>\n",
       "      <td>en</td>\n",
       "    </tr>\n",
       "    <tr>\n",
       "      <th>2</th>\n",
       "      <td>11</td>\n",
       "      <td>1.000000</td>\n",
       "      <td>5.0</td>\n",
       "      <td>43.0</td>\n",
       "      <td>Setting Up HTTP(S) Load Balancing</td>\n",
       "      <td>HTTP(S) load balancing provides global load ba...</td>\n",
       "      <td>en</td>\n",
       "    </tr>\n",
       "    <tr>\n",
       "      <th>3</th>\n",
       "      <td>11</td>\n",
       "      <td>1.000000</td>\n",
       "      <td>5.0</td>\n",
       "      <td>75.0</td>\n",
       "      <td>Setting Up HTTP(S) Load Balancing</td>\n",
       "      <td>HTTP(S) load balancing provides global load ba...</td>\n",
       "      <td>en</td>\n",
       "    </tr>\n",
       "    <tr>\n",
       "      <th>4</th>\n",
       "      <td>11</td>\n",
       "      <td>1.000000</td>\n",
       "      <td>5.0</td>\n",
       "      <td>78.0</td>\n",
       "      <td>Setting Up HTTP(S) Load Balancing</td>\n",
       "      <td>HTTP(S) load balancing provides global load ba...</td>\n",
       "      <td>en</td>\n",
       "    </tr>\n",
       "    <tr>\n",
       "      <th>5</th>\n",
       "      <td>11</td>\n",
       "      <td>1.000000</td>\n",
       "      <td>5.0</td>\n",
       "      <td>1117.0</td>\n",
       "      <td>Setting Up HTTP(S) Load Balancing</td>\n",
       "      <td>HTTP(S) load balancing provides global load ba...</td>\n",
       "      <td>en</td>\n",
       "    </tr>\n",
       "    <tr>\n",
       "      <th>6</th>\n",
       "      <td>2154</td>\n",
       "      <td>0.707107</td>\n",
       "      <td>NaN</td>\n",
       "      <td>NaN</td>\n",
       "      <td>NaN</td>\n",
       "      <td>NaN</td>\n",
       "      <td>NaN</td>\n",
       "    </tr>\n",
       "    <tr>\n",
       "      <th>7</th>\n",
       "      <td>720</td>\n",
       "      <td>0.608330</td>\n",
       "      <td>NaN</td>\n",
       "      <td>NaN</td>\n",
       "      <td>NaN</td>\n",
       "      <td>NaN</td>\n",
       "      <td>NaN</td>\n",
       "    </tr>\n",
       "    <tr>\n",
       "      <th>8</th>\n",
       "      <td>562</td>\n",
       "      <td>0.593732</td>\n",
       "      <td>5.0</td>\n",
       "      <td>602.0</td>\n",
       "      <td>What exercise does to your bones</td>\n",
       "      <td>The force on a triple jumper's bones is 15 tim...</td>\n",
       "      <td>en</td>\n",
       "    </tr>\n",
       "    <tr>\n",
       "      <th>9</th>\n",
       "      <td>562</td>\n",
       "      <td>0.593732</td>\n",
       "      <td>1.0</td>\n",
       "      <td>602.0</td>\n",
       "      <td>What exercise does to your bones</td>\n",
       "      <td>The force on a triple jumper's bones is 15 tim...</td>\n",
       "      <td>en</td>\n",
       "    </tr>\n",
       "  </tbody>\n",
       "</table>\n",
       "</div>"
      ],
      "text/plain": [
       "   item_no     score  interaction_type  consumer_no  \\\n",
       "0       11  1.000000               5.0          6.0   \n",
       "1       11  1.000000               5.0         72.0   \n",
       "2       11  1.000000               5.0         43.0   \n",
       "3       11  1.000000               5.0         75.0   \n",
       "4       11  1.000000               5.0         78.0   \n",
       "5       11  1.000000               5.0       1117.0   \n",
       "6     2154  0.707107               NaN          NaN   \n",
       "7      720  0.608330               NaN          NaN   \n",
       "8      562  0.593732               5.0        602.0   \n",
       "9      562  0.593732               1.0        602.0   \n",
       "\n",
       "                               title  \\\n",
       "0  Setting Up HTTP(S) Load Balancing   \n",
       "1  Setting Up HTTP(S) Load Balancing   \n",
       "2  Setting Up HTTP(S) Load Balancing   \n",
       "3  Setting Up HTTP(S) Load Balancing   \n",
       "4  Setting Up HTTP(S) Load Balancing   \n",
       "5  Setting Up HTTP(S) Load Balancing   \n",
       "6                                NaN   \n",
       "7                                NaN   \n",
       "8   What exercise does to your bones   \n",
       "9   What exercise does to your bones   \n",
       "\n",
       "                                    text_description language  \n",
       "0  HTTP(S) load balancing provides global load ba...       en  \n",
       "1  HTTP(S) load balancing provides global load ba...       en  \n",
       "2  HTTP(S) load balancing provides global load ba...       en  \n",
       "3  HTTP(S) load balancing provides global load ba...       en  \n",
       "4  HTTP(S) load balancing provides global load ba...       en  \n",
       "5  HTTP(S) load balancing provides global load ba...       en  \n",
       "6                                                NaN      NaN  \n",
       "7                                                NaN      NaN  \n",
       "8  The force on a triple jumper's bones is 15 tim...       en  \n",
       "9  The force on a triple jumper's bones is 15 tim...       en  "
      ]
     },
     "execution_count": 119,
     "metadata": {},
     "output_type": "execute_result"
    }
   ],
   "source": [
    "merged_one.head(10)"
   ]
  },
  {
   "cell_type": "code",
   "execution_count": 120,
   "metadata": {},
   "outputs": [],
   "source": [
    "merged_one = merged_one[['item_no','title','consumer_no','score']]"
   ]
  },
  {
   "cell_type": "code",
   "execution_count": 121,
   "metadata": {},
   "outputs": [
    {
     "data": {
      "text/html": [
       "<div>\n",
       "<style scoped>\n",
       "    .dataframe tbody tr th:only-of-type {\n",
       "        vertical-align: middle;\n",
       "    }\n",
       "\n",
       "    .dataframe tbody tr th {\n",
       "        vertical-align: top;\n",
       "    }\n",
       "\n",
       "    .dataframe thead th {\n",
       "        text-align: right;\n",
       "    }\n",
       "</style>\n",
       "<table border=\"1\" class=\"dataframe\">\n",
       "  <thead>\n",
       "    <tr style=\"text-align: right;\">\n",
       "      <th></th>\n",
       "      <th>item_no</th>\n",
       "      <th>title</th>\n",
       "      <th>consumer_no</th>\n",
       "      <th>score</th>\n",
       "    </tr>\n",
       "  </thead>\n",
       "  <tbody>\n",
       "    <tr>\n",
       "      <th>0</th>\n",
       "      <td>11</td>\n",
       "      <td>Setting Up HTTP(S) Load Balancing</td>\n",
       "      <td>6.0</td>\n",
       "      <td>1.0</td>\n",
       "    </tr>\n",
       "    <tr>\n",
       "      <th>1</th>\n",
       "      <td>11</td>\n",
       "      <td>Setting Up HTTP(S) Load Balancing</td>\n",
       "      <td>72.0</td>\n",
       "      <td>1.0</td>\n",
       "    </tr>\n",
       "    <tr>\n",
       "      <th>2</th>\n",
       "      <td>11</td>\n",
       "      <td>Setting Up HTTP(S) Load Balancing</td>\n",
       "      <td>43.0</td>\n",
       "      <td>1.0</td>\n",
       "    </tr>\n",
       "    <tr>\n",
       "      <th>3</th>\n",
       "      <td>11</td>\n",
       "      <td>Setting Up HTTP(S) Load Balancing</td>\n",
       "      <td>75.0</td>\n",
       "      <td>1.0</td>\n",
       "    </tr>\n",
       "    <tr>\n",
       "      <th>4</th>\n",
       "      <td>11</td>\n",
       "      <td>Setting Up HTTP(S) Load Balancing</td>\n",
       "      <td>78.0</td>\n",
       "      <td>1.0</td>\n",
       "    </tr>\n",
       "  </tbody>\n",
       "</table>\n",
       "</div>"
      ],
      "text/plain": [
       "   item_no                              title  consumer_no  score\n",
       "0       11  Setting Up HTTP(S) Load Balancing          6.0    1.0\n",
       "1       11  Setting Up HTTP(S) Load Balancing         72.0    1.0\n",
       "2       11  Setting Up HTTP(S) Load Balancing         43.0    1.0\n",
       "3       11  Setting Up HTTP(S) Load Balancing         75.0    1.0\n",
       "4       11  Setting Up HTTP(S) Load Balancing         78.0    1.0"
      ]
     },
     "execution_count": 121,
     "metadata": {},
     "output_type": "execute_result"
    }
   ],
   "source": [
    "merged_one.head()"
   ]
  },
  {
   "cell_type": "code",
   "execution_count": 122,
   "metadata": {},
   "outputs": [
    {
     "data": {
      "text/plain": [
       "7348"
      ]
     },
     "execution_count": 122,
     "metadata": {},
     "output_type": "execute_result"
    }
   ],
   "source": [
    "merged_one.duplicated().sum()"
   ]
  },
  {
   "cell_type": "code",
   "execution_count": 123,
   "metadata": {},
   "outputs": [],
   "source": [
    "merged_one = merged_one.drop_duplicates()"
   ]
  },
  {
   "cell_type": "code",
   "execution_count": 124,
   "metadata": {},
   "outputs": [
    {
     "data": {
      "text/plain": [
       "(27964, 4)"
      ]
     },
     "execution_count": 124,
     "metadata": {},
     "output_type": "execute_result"
    }
   ],
   "source": [
    "merged_one.shape"
   ]
  },
  {
   "cell_type": "code",
   "execution_count": 125,
   "metadata": {},
   "outputs": [],
   "source": [
    "merged_one['collaborative_score_normalized'] = (merged_one['score']-min(merged_one['score']))/(max(merged_one['score'])-min(merged_one['score']))"
   ]
  },
  {
   "cell_type": "code",
   "execution_count": 126,
   "metadata": {},
   "outputs": [
    {
     "data": {
      "text/html": [
       "<div>\n",
       "<style scoped>\n",
       "    .dataframe tbody tr th:only-of-type {\n",
       "        vertical-align: middle;\n",
       "    }\n",
       "\n",
       "    .dataframe tbody tr th {\n",
       "        vertical-align: top;\n",
       "    }\n",
       "\n",
       "    .dataframe thead th {\n",
       "        text-align: right;\n",
       "    }\n",
       "</style>\n",
       "<table border=\"1\" class=\"dataframe\">\n",
       "  <thead>\n",
       "    <tr style=\"text-align: right;\">\n",
       "      <th></th>\n",
       "      <th>item_no</th>\n",
       "      <th>title</th>\n",
       "      <th>consumer_no</th>\n",
       "      <th>score</th>\n",
       "      <th>collaborative_score_normalized</th>\n",
       "    </tr>\n",
       "  </thead>\n",
       "  <tbody>\n",
       "    <tr>\n",
       "      <th>0</th>\n",
       "      <td>11</td>\n",
       "      <td>Setting Up HTTP(S) Load Balancing</td>\n",
       "      <td>6.0</td>\n",
       "      <td>1.0</td>\n",
       "      <td>1.0</td>\n",
       "    </tr>\n",
       "    <tr>\n",
       "      <th>1</th>\n",
       "      <td>11</td>\n",
       "      <td>Setting Up HTTP(S) Load Balancing</td>\n",
       "      <td>72.0</td>\n",
       "      <td>1.0</td>\n",
       "      <td>1.0</td>\n",
       "    </tr>\n",
       "    <tr>\n",
       "      <th>2</th>\n",
       "      <td>11</td>\n",
       "      <td>Setting Up HTTP(S) Load Balancing</td>\n",
       "      <td>43.0</td>\n",
       "      <td>1.0</td>\n",
       "      <td>1.0</td>\n",
       "    </tr>\n",
       "    <tr>\n",
       "      <th>3</th>\n",
       "      <td>11</td>\n",
       "      <td>Setting Up HTTP(S) Load Balancing</td>\n",
       "      <td>75.0</td>\n",
       "      <td>1.0</td>\n",
       "      <td>1.0</td>\n",
       "    </tr>\n",
       "    <tr>\n",
       "      <th>4</th>\n",
       "      <td>11</td>\n",
       "      <td>Setting Up HTTP(S) Load Balancing</td>\n",
       "      <td>78.0</td>\n",
       "      <td>1.0</td>\n",
       "      <td>1.0</td>\n",
       "    </tr>\n",
       "  </tbody>\n",
       "</table>\n",
       "</div>"
      ],
      "text/plain": [
       "   item_no                              title  consumer_no  score  \\\n",
       "0       11  Setting Up HTTP(S) Load Balancing          6.0    1.0   \n",
       "1       11  Setting Up HTTP(S) Load Balancing         72.0    1.0   \n",
       "2       11  Setting Up HTTP(S) Load Balancing         43.0    1.0   \n",
       "3       11  Setting Up HTTP(S) Load Balancing         75.0    1.0   \n",
       "4       11  Setting Up HTTP(S) Load Balancing         78.0    1.0   \n",
       "\n",
       "   collaborative_score_normalized  \n",
       "0                             1.0  \n",
       "1                             1.0  \n",
       "2                             1.0  \n",
       "3                             1.0  \n",
       "4                             1.0  "
      ]
     },
     "execution_count": 126,
     "metadata": {},
     "output_type": "execute_result"
    }
   ],
   "source": [
    "merged_one.head()"
   ]
  },
  {
   "cell_type": "markdown",
   "metadata": {},
   "source": [
    "## Hybrid : Combining the two Models"
   ]
  },
  {
   "cell_type": "code",
   "execution_count": 127,
   "metadata": {},
   "outputs": [],
   "source": [
    "hybrid = pd.merge(merged_one, content_df, on = 'title' , how = 'left')"
   ]
  },
  {
   "cell_type": "code",
   "execution_count": 128,
   "metadata": {},
   "outputs": [
    {
     "data": {
      "text/html": [
       "<div>\n",
       "<style scoped>\n",
       "    .dataframe tbody tr th:only-of-type {\n",
       "        vertical-align: middle;\n",
       "    }\n",
       "\n",
       "    .dataframe tbody tr th {\n",
       "        vertical-align: top;\n",
       "    }\n",
       "\n",
       "    .dataframe thead th {\n",
       "        text-align: right;\n",
       "    }\n",
       "</style>\n",
       "<table border=\"1\" class=\"dataframe\">\n",
       "  <thead>\n",
       "    <tr style=\"text-align: right;\">\n",
       "      <th></th>\n",
       "      <th>item_no</th>\n",
       "      <th>title</th>\n",
       "      <th>consumer_no</th>\n",
       "      <th>score_x</th>\n",
       "      <th>collaborative_score_normalized</th>\n",
       "      <th>score_y</th>\n",
       "      <th>content_score_normalized</th>\n",
       "    </tr>\n",
       "  </thead>\n",
       "  <tbody>\n",
       "    <tr>\n",
       "      <th>0</th>\n",
       "      <td>11</td>\n",
       "      <td>Setting Up HTTP(S) Load Balancing</td>\n",
       "      <td>6.0</td>\n",
       "      <td>1.000000</td>\n",
       "      <td>1.000000</td>\n",
       "      <td>0.000370</td>\n",
       "      <td>0.000390</td>\n",
       "    </tr>\n",
       "    <tr>\n",
       "      <th>1</th>\n",
       "      <td>11</td>\n",
       "      <td>Setting Up HTTP(S) Load Balancing</td>\n",
       "      <td>72.0</td>\n",
       "      <td>1.000000</td>\n",
       "      <td>1.000000</td>\n",
       "      <td>0.000370</td>\n",
       "      <td>0.000390</td>\n",
       "    </tr>\n",
       "    <tr>\n",
       "      <th>2</th>\n",
       "      <td>11</td>\n",
       "      <td>Setting Up HTTP(S) Load Balancing</td>\n",
       "      <td>43.0</td>\n",
       "      <td>1.000000</td>\n",
       "      <td>1.000000</td>\n",
       "      <td>0.000370</td>\n",
       "      <td>0.000390</td>\n",
       "    </tr>\n",
       "    <tr>\n",
       "      <th>3</th>\n",
       "      <td>11</td>\n",
       "      <td>Setting Up HTTP(S) Load Balancing</td>\n",
       "      <td>75.0</td>\n",
       "      <td>1.000000</td>\n",
       "      <td>1.000000</td>\n",
       "      <td>0.000370</td>\n",
       "      <td>0.000390</td>\n",
       "    </tr>\n",
       "    <tr>\n",
       "      <th>4</th>\n",
       "      <td>11</td>\n",
       "      <td>Setting Up HTTP(S) Load Balancing</td>\n",
       "      <td>78.0</td>\n",
       "      <td>1.000000</td>\n",
       "      <td>1.000000</td>\n",
       "      <td>0.000370</td>\n",
       "      <td>0.000390</td>\n",
       "    </tr>\n",
       "    <tr>\n",
       "      <th>5</th>\n",
       "      <td>11</td>\n",
       "      <td>Setting Up HTTP(S) Load Balancing</td>\n",
       "      <td>1117.0</td>\n",
       "      <td>1.000000</td>\n",
       "      <td>1.000000</td>\n",
       "      <td>0.000370</td>\n",
       "      <td>0.000390</td>\n",
       "    </tr>\n",
       "    <tr>\n",
       "      <th>6</th>\n",
       "      <td>2154</td>\n",
       "      <td>NaN</td>\n",
       "      <td>NaN</td>\n",
       "      <td>0.707107</td>\n",
       "      <td>0.707107</td>\n",
       "      <td>NaN</td>\n",
       "      <td>NaN</td>\n",
       "    </tr>\n",
       "    <tr>\n",
       "      <th>7</th>\n",
       "      <td>720</td>\n",
       "      <td>NaN</td>\n",
       "      <td>NaN</td>\n",
       "      <td>0.608330</td>\n",
       "      <td>0.608330</td>\n",
       "      <td>NaN</td>\n",
       "      <td>NaN</td>\n",
       "    </tr>\n",
       "    <tr>\n",
       "      <th>8</th>\n",
       "      <td>562</td>\n",
       "      <td>What exercise does to your bones</td>\n",
       "      <td>602.0</td>\n",
       "      <td>0.593732</td>\n",
       "      <td>0.593732</td>\n",
       "      <td>0.000318</td>\n",
       "      <td>0.000335</td>\n",
       "    </tr>\n",
       "    <tr>\n",
       "      <th>9</th>\n",
       "      <td>562</td>\n",
       "      <td>What exercise does to your bones</td>\n",
       "      <td>6.0</td>\n",
       "      <td>0.593732</td>\n",
       "      <td>0.593732</td>\n",
       "      <td>0.000318</td>\n",
       "      <td>0.000335</td>\n",
       "    </tr>\n",
       "  </tbody>\n",
       "</table>\n",
       "</div>"
      ],
      "text/plain": [
       "   item_no                              title  consumer_no   score_x  \\\n",
       "0       11  Setting Up HTTP(S) Load Balancing          6.0  1.000000   \n",
       "1       11  Setting Up HTTP(S) Load Balancing         72.0  1.000000   \n",
       "2       11  Setting Up HTTP(S) Load Balancing         43.0  1.000000   \n",
       "3       11  Setting Up HTTP(S) Load Balancing         75.0  1.000000   \n",
       "4       11  Setting Up HTTP(S) Load Balancing         78.0  1.000000   \n",
       "5       11  Setting Up HTTP(S) Load Balancing       1117.0  1.000000   \n",
       "6     2154                                NaN          NaN  0.707107   \n",
       "7      720                                NaN          NaN  0.608330   \n",
       "8      562   What exercise does to your bones        602.0  0.593732   \n",
       "9      562   What exercise does to your bones          6.0  0.593732   \n",
       "\n",
       "   collaborative_score_normalized   score_y  content_score_normalized  \n",
       "0                        1.000000  0.000370                  0.000390  \n",
       "1                        1.000000  0.000370                  0.000390  \n",
       "2                        1.000000  0.000370                  0.000390  \n",
       "3                        1.000000  0.000370                  0.000390  \n",
       "4                        1.000000  0.000370                  0.000390  \n",
       "5                        1.000000  0.000370                  0.000390  \n",
       "6                        0.707107       NaN                       NaN  \n",
       "7                        0.608330       NaN                       NaN  \n",
       "8                        0.593732  0.000318                  0.000335  \n",
       "9                        0.593732  0.000318                  0.000335  "
      ]
     },
     "execution_count": 128,
     "metadata": {},
     "output_type": "execute_result"
    }
   ],
   "source": [
    "hybrid.head(10)"
   ]
  },
  {
   "cell_type": "code",
   "execution_count": 129,
   "metadata": {},
   "outputs": [
    {
     "data": {
      "text/plain": [
       "(28241, 7)"
      ]
     },
     "execution_count": 129,
     "metadata": {},
     "output_type": "execute_result"
    }
   ],
   "source": [
    "hybrid.shape"
   ]
  },
  {
   "cell_type": "code",
   "execution_count": 130,
   "metadata": {},
   "outputs": [],
   "source": [
    "hybrid['final_score'] = (hybrid['collaborative_score_normalized'] + hybrid['content_score_normalized'])/2"
   ]
  },
  {
   "cell_type": "code",
   "execution_count": 131,
   "metadata": {},
   "outputs": [
    {
     "data": {
      "text/html": [
       "<div>\n",
       "<style scoped>\n",
       "    .dataframe tbody tr th:only-of-type {\n",
       "        vertical-align: middle;\n",
       "    }\n",
       "\n",
       "    .dataframe tbody tr th {\n",
       "        vertical-align: top;\n",
       "    }\n",
       "\n",
       "    .dataframe thead th {\n",
       "        text-align: right;\n",
       "    }\n",
       "</style>\n",
       "<table border=\"1\" class=\"dataframe\">\n",
       "  <thead>\n",
       "    <tr style=\"text-align: right;\">\n",
       "      <th></th>\n",
       "      <th>item_no</th>\n",
       "      <th>title</th>\n",
       "      <th>consumer_no</th>\n",
       "      <th>score_x</th>\n",
       "      <th>collaborative_score_normalized</th>\n",
       "      <th>score_y</th>\n",
       "      <th>content_score_normalized</th>\n",
       "      <th>final_score</th>\n",
       "    </tr>\n",
       "  </thead>\n",
       "  <tbody>\n",
       "    <tr>\n",
       "      <th>0</th>\n",
       "      <td>11</td>\n",
       "      <td>Setting Up HTTP(S) Load Balancing</td>\n",
       "      <td>6.0</td>\n",
       "      <td>1.0</td>\n",
       "      <td>1.0</td>\n",
       "      <td>0.00037</td>\n",
       "      <td>0.00039</td>\n",
       "      <td>0.500195</td>\n",
       "    </tr>\n",
       "    <tr>\n",
       "      <th>1</th>\n",
       "      <td>11</td>\n",
       "      <td>Setting Up HTTP(S) Load Balancing</td>\n",
       "      <td>72.0</td>\n",
       "      <td>1.0</td>\n",
       "      <td>1.0</td>\n",
       "      <td>0.00037</td>\n",
       "      <td>0.00039</td>\n",
       "      <td>0.500195</td>\n",
       "    </tr>\n",
       "    <tr>\n",
       "      <th>2</th>\n",
       "      <td>11</td>\n",
       "      <td>Setting Up HTTP(S) Load Balancing</td>\n",
       "      <td>43.0</td>\n",
       "      <td>1.0</td>\n",
       "      <td>1.0</td>\n",
       "      <td>0.00037</td>\n",
       "      <td>0.00039</td>\n",
       "      <td>0.500195</td>\n",
       "    </tr>\n",
       "    <tr>\n",
       "      <th>3</th>\n",
       "      <td>11</td>\n",
       "      <td>Setting Up HTTP(S) Load Balancing</td>\n",
       "      <td>75.0</td>\n",
       "      <td>1.0</td>\n",
       "      <td>1.0</td>\n",
       "      <td>0.00037</td>\n",
       "      <td>0.00039</td>\n",
       "      <td>0.500195</td>\n",
       "    </tr>\n",
       "    <tr>\n",
       "      <th>4</th>\n",
       "      <td>11</td>\n",
       "      <td>Setting Up HTTP(S) Load Balancing</td>\n",
       "      <td>78.0</td>\n",
       "      <td>1.0</td>\n",
       "      <td>1.0</td>\n",
       "      <td>0.00037</td>\n",
       "      <td>0.00039</td>\n",
       "      <td>0.500195</td>\n",
       "    </tr>\n",
       "  </tbody>\n",
       "</table>\n",
       "</div>"
      ],
      "text/plain": [
       "   item_no                              title  consumer_no  score_x  \\\n",
       "0       11  Setting Up HTTP(S) Load Balancing          6.0      1.0   \n",
       "1       11  Setting Up HTTP(S) Load Balancing         72.0      1.0   \n",
       "2       11  Setting Up HTTP(S) Load Balancing         43.0      1.0   \n",
       "3       11  Setting Up HTTP(S) Load Balancing         75.0      1.0   \n",
       "4       11  Setting Up HTTP(S) Load Balancing         78.0      1.0   \n",
       "\n",
       "   collaborative_score_normalized  score_y  content_score_normalized  \\\n",
       "0                             1.0  0.00037                   0.00039   \n",
       "1                             1.0  0.00037                   0.00039   \n",
       "2                             1.0  0.00037                   0.00039   \n",
       "3                             1.0  0.00037                   0.00039   \n",
       "4                             1.0  0.00037                   0.00039   \n",
       "\n",
       "   final_score  \n",
       "0     0.500195  \n",
       "1     0.500195  \n",
       "2     0.500195  \n",
       "3     0.500195  \n",
       "4     0.500195  "
      ]
     },
     "execution_count": 131,
     "metadata": {},
     "output_type": "execute_result"
    }
   ],
   "source": [
    "hybrid.head()"
   ]
  },
  {
   "cell_type": "code",
   "execution_count": 132,
   "metadata": {},
   "outputs": [],
   "source": [
    "hybrid = hybrid[['item_no','title','consumer_no','final_score']]"
   ]
  },
  {
   "cell_type": "code",
   "execution_count": 133,
   "metadata": {},
   "outputs": [
    {
     "data": {
      "text/html": [
       "<div>\n",
       "<style scoped>\n",
       "    .dataframe tbody tr th:only-of-type {\n",
       "        vertical-align: middle;\n",
       "    }\n",
       "\n",
       "    .dataframe tbody tr th {\n",
       "        vertical-align: top;\n",
       "    }\n",
       "\n",
       "    .dataframe thead th {\n",
       "        text-align: right;\n",
       "    }\n",
       "</style>\n",
       "<table border=\"1\" class=\"dataframe\">\n",
       "  <thead>\n",
       "    <tr style=\"text-align: right;\">\n",
       "      <th></th>\n",
       "      <th>item_no</th>\n",
       "      <th>title</th>\n",
       "      <th>consumer_no</th>\n",
       "      <th>final_score</th>\n",
       "    </tr>\n",
       "  </thead>\n",
       "  <tbody>\n",
       "    <tr>\n",
       "      <th>0</th>\n",
       "      <td>11</td>\n",
       "      <td>Setting Up HTTP(S) Load Balancing</td>\n",
       "      <td>6.0</td>\n",
       "      <td>0.500195</td>\n",
       "    </tr>\n",
       "    <tr>\n",
       "      <th>1</th>\n",
       "      <td>11</td>\n",
       "      <td>Setting Up HTTP(S) Load Balancing</td>\n",
       "      <td>72.0</td>\n",
       "      <td>0.500195</td>\n",
       "    </tr>\n",
       "    <tr>\n",
       "      <th>2</th>\n",
       "      <td>11</td>\n",
       "      <td>Setting Up HTTP(S) Load Balancing</td>\n",
       "      <td>43.0</td>\n",
       "      <td>0.500195</td>\n",
       "    </tr>\n",
       "    <tr>\n",
       "      <th>3</th>\n",
       "      <td>11</td>\n",
       "      <td>Setting Up HTTP(S) Load Balancing</td>\n",
       "      <td>75.0</td>\n",
       "      <td>0.500195</td>\n",
       "    </tr>\n",
       "    <tr>\n",
       "      <th>4</th>\n",
       "      <td>11</td>\n",
       "      <td>Setting Up HTTP(S) Load Balancing</td>\n",
       "      <td>78.0</td>\n",
       "      <td>0.500195</td>\n",
       "    </tr>\n",
       "  </tbody>\n",
       "</table>\n",
       "</div>"
      ],
      "text/plain": [
       "   item_no                              title  consumer_no  final_score\n",
       "0       11  Setting Up HTTP(S) Load Balancing          6.0     0.500195\n",
       "1       11  Setting Up HTTP(S) Load Balancing         72.0     0.500195\n",
       "2       11  Setting Up HTTP(S) Load Balancing         43.0     0.500195\n",
       "3       11  Setting Up HTTP(S) Load Balancing         75.0     0.500195\n",
       "4       11  Setting Up HTTP(S) Load Balancing         78.0     0.500195"
      ]
     },
     "execution_count": 133,
     "metadata": {},
     "output_type": "execute_result"
    }
   ],
   "source": [
    "hybrid.head()"
   ]
  },
  {
   "cell_type": "markdown",
   "metadata": {},
   "source": [
    "## Final Recommendations"
   ]
  },
  {
   "cell_type": "code",
   "execution_count": 134,
   "metadata": {},
   "outputs": [],
   "source": [
    "final = hybrid[['item_no','title','final_score']]"
   ]
  },
  {
   "cell_type": "code",
   "execution_count": 135,
   "metadata": {},
   "outputs": [
    {
     "data": {
      "text/plain": [
       "25981"
      ]
     },
     "execution_count": 135,
     "metadata": {},
     "output_type": "execute_result"
    }
   ],
   "source": [
    "final.duplicated().sum()"
   ]
  },
  {
   "cell_type": "code",
   "execution_count": 136,
   "metadata": {},
   "outputs": [],
   "source": [
    "final = final.drop_duplicates()"
   ]
  },
  {
   "cell_type": "code",
   "execution_count": 137,
   "metadata": {},
   "outputs": [],
   "source": [
    "final = final.sort_values(by = 'final_score', ascending= False)"
   ]
  },
  {
   "cell_type": "code",
   "execution_count": 138,
   "metadata": {},
   "outputs": [
    {
     "data": {
      "text/html": [
       "<div>\n",
       "<style scoped>\n",
       "    .dataframe tbody tr th:only-of-type {\n",
       "        vertical-align: middle;\n",
       "    }\n",
       "\n",
       "    .dataframe tbody tr th {\n",
       "        vertical-align: top;\n",
       "    }\n",
       "\n",
       "    .dataframe thead th {\n",
       "        text-align: right;\n",
       "    }\n",
       "</style>\n",
       "<table border=\"1\" class=\"dataframe\">\n",
       "  <thead>\n",
       "    <tr style=\"text-align: right;\">\n",
       "      <th></th>\n",
       "      <th>item_no</th>\n",
       "      <th>title</th>\n",
       "      <th>final_score</th>\n",
       "    </tr>\n",
       "  </thead>\n",
       "  <tbody>\n",
       "    <tr>\n",
       "      <th>0</th>\n",
       "      <td>11</td>\n",
       "      <td>Setting Up HTTP(S) Load Balancing</td>\n",
       "      <td>0.500195</td>\n",
       "    </tr>\n",
       "    <tr>\n",
       "      <th>15522</th>\n",
       "      <td>1704</td>\n",
       "      <td>O homofóbico dentro de cada um</td>\n",
       "      <td>0.500000</td>\n",
       "    </tr>\n",
       "    <tr>\n",
       "      <th>14</th>\n",
       "      <td>987</td>\n",
       "      <td>Nokia vai voltar ao mercado de smartphones</td>\n",
       "      <td>0.354475</td>\n",
       "    </tr>\n",
       "    <tr>\n",
       "      <th>143</th>\n",
       "      <td>21</td>\n",
       "      <td>O potencial do bitcoin na América Latina</td>\n",
       "      <td>0.297856</td>\n",
       "    </tr>\n",
       "    <tr>\n",
       "      <th>8</th>\n",
       "      <td>562</td>\n",
       "      <td>What exercise does to your bones</td>\n",
       "      <td>0.297034</td>\n",
       "    </tr>\n",
       "  </tbody>\n",
       "</table>\n",
       "</div>"
      ],
      "text/plain": [
       "       item_no                                       title  final_score\n",
       "0           11           Setting Up HTTP(S) Load Balancing     0.500195\n",
       "15522     1704              O homofóbico dentro de cada um     0.500000\n",
       "14         987  Nokia vai voltar ao mercado de smartphones     0.354475\n",
       "143         21    O potencial do bitcoin na América Latina     0.297856\n",
       "8          562            What exercise does to your bones     0.297034"
      ]
     },
     "execution_count": 138,
     "metadata": {},
     "output_type": "execute_result"
    }
   ],
   "source": [
    "# These are the top 5 recommendations \n",
    "final.head(5)"
   ]
  },
  {
   "cell_type": "code",
   "execution_count": 139,
   "metadata": {},
   "outputs": [
    {
     "data": {
      "text/html": [
       "<div>\n",
       "<style scoped>\n",
       "    .dataframe tbody tr th:only-of-type {\n",
       "        vertical-align: middle;\n",
       "    }\n",
       "\n",
       "    .dataframe tbody tr th {\n",
       "        vertical-align: top;\n",
       "    }\n",
       "\n",
       "    .dataframe thead th {\n",
       "        text-align: right;\n",
       "    }\n",
       "</style>\n",
       "<table border=\"1\" class=\"dataframe\">\n",
       "  <thead>\n",
       "    <tr style=\"text-align: right;\">\n",
       "      <th></th>\n",
       "      <th>item_no</th>\n",
       "      <th>title</th>\n",
       "      <th>final_score</th>\n",
       "    </tr>\n",
       "  </thead>\n",
       "  <tbody>\n",
       "    <tr>\n",
       "      <th>0</th>\n",
       "      <td>11</td>\n",
       "      <td>Setting Up HTTP(S) Load Balancing</td>\n",
       "      <td>0.500195</td>\n",
       "    </tr>\n",
       "    <tr>\n",
       "      <th>15522</th>\n",
       "      <td>1704</td>\n",
       "      <td>O homofóbico dentro de cada um</td>\n",
       "      <td>0.500000</td>\n",
       "    </tr>\n",
       "    <tr>\n",
       "      <th>14</th>\n",
       "      <td>987</td>\n",
       "      <td>Nokia vai voltar ao mercado de smartphones</td>\n",
       "      <td>0.354475</td>\n",
       "    </tr>\n",
       "    <tr>\n",
       "      <th>143</th>\n",
       "      <td>21</td>\n",
       "      <td>O potencial do bitcoin na América Latina</td>\n",
       "      <td>0.297856</td>\n",
       "    </tr>\n",
       "    <tr>\n",
       "      <th>8</th>\n",
       "      <td>562</td>\n",
       "      <td>What exercise does to your bones</td>\n",
       "      <td>0.297034</td>\n",
       "    </tr>\n",
       "    <tr>\n",
       "      <th>18</th>\n",
       "      <td>461</td>\n",
       "      <td>Finally, CSS In JavaScript! Meet CSSX - Smashi...</td>\n",
       "      <td>0.254928</td>\n",
       "    </tr>\n",
       "    <tr>\n",
       "      <th>33</th>\n",
       "      <td>1711</td>\n",
       "      <td>Land Rover's lead engineer explains autonomous...</td>\n",
       "      <td>0.239847</td>\n",
       "    </tr>\n",
       "    <tr>\n",
       "      <th>837</th>\n",
       "      <td>1218</td>\n",
       "      <td>TEDxSãoPaulo</td>\n",
       "      <td>0.239752</td>\n",
       "    </tr>\n",
       "    <tr>\n",
       "      <th>784</th>\n",
       "      <td>1669</td>\n",
       "      <td>Pequeno guia para entender as línguas de sinais</td>\n",
       "      <td>0.238943</td>\n",
       "    </tr>\n",
       "    <tr>\n",
       "      <th>236</th>\n",
       "      <td>338</td>\n",
       "      <td>Campanha do Dicionário Houaiss pretende mudar ...</td>\n",
       "      <td>0.237804</td>\n",
       "    </tr>\n",
       "  </tbody>\n",
       "</table>\n",
       "</div>"
      ],
      "text/plain": [
       "       item_no                                              title  final_score\n",
       "0           11                  Setting Up HTTP(S) Load Balancing     0.500195\n",
       "15522     1704                     O homofóbico dentro de cada um     0.500000\n",
       "14         987         Nokia vai voltar ao mercado de smartphones     0.354475\n",
       "143         21           O potencial do bitcoin na América Latina     0.297856\n",
       "8          562                   What exercise does to your bones     0.297034\n",
       "18         461  Finally, CSS In JavaScript! Meet CSSX - Smashi...     0.254928\n",
       "33        1711  Land Rover's lead engineer explains autonomous...     0.239847\n",
       "837       1218                                       TEDxSãoPaulo     0.239752\n",
       "784       1669    Pequeno guia para entender as línguas de sinais     0.238943\n",
       "236        338  Campanha do Dicionário Houaiss pretende mudar ...     0.237804"
      ]
     },
     "execution_count": 139,
     "metadata": {},
     "output_type": "execute_result"
    }
   ],
   "source": [
    "# These are the top top recommendations\n",
    "final.head(10)"
   ]
  },
  {
   "cell_type": "markdown",
   "metadata": {},
   "source": [
    "## Model Evaluation"
   ]
  },
  {
   "cell_type": "markdown",
   "metadata": {},
   "source": [
    "### Model Evaluation on Train Set"
   ]
  },
  {
   "cell_type": "code",
   "execution_count": 140,
   "metadata": {},
   "outputs": [
    {
     "data": {
      "text/plain": [
       "{'recall_top_five': 0.37, 'recall_top_ten': 0.68}"
      ]
     },
     "execution_count": 140,
     "metadata": {},
     "output_type": "execute_result"
    }
   ],
   "source": [
    "# Checking the recommendation accuracies for the train set\n",
    "model_evaluation(11,hybrid)"
   ]
  },
  {
   "cell_type": "markdown",
   "metadata": {},
   "source": [
    "### Making recommendations on the test set"
   ]
  },
  {
   "cell_type": "code",
   "execution_count": 144,
   "metadata": {},
   "outputs": [],
   "source": [
    "content_output_test = item_recommendation('The Broken Window Theory')"
   ]
  },
  {
   "cell_type": "code",
   "execution_count": 145,
   "metadata": {},
   "outputs": [],
   "source": [
    "content_output_test= content_output_test.drop_duplicates()"
   ]
  },
  {
   "cell_type": "code",
   "execution_count": 146,
   "metadata": {},
   "outputs": [],
   "source": [
    "content_df_test = pd.DataFrame(content_output_test)"
   ]
  },
  {
   "cell_type": "code",
   "execution_count": 147,
   "metadata": {},
   "outputs": [],
   "source": [
    "content_df_test.reset_index(inplace=True)"
   ]
  },
  {
   "cell_type": "code",
   "execution_count": 148,
   "metadata": {},
   "outputs": [],
   "source": [
    "content_df_test.columns = ['title', 'score']"
   ]
  },
  {
   "cell_type": "code",
   "execution_count": 149,
   "metadata": {},
   "outputs": [],
   "source": [
    "content_df_test['content_score_normalized'] = (content_df_test['score']-min(content_df_test['score'])) / (max(content_df_test['score']) - min(content_df_test['score']))"
   ]
  },
  {
   "cell_type": "code",
   "execution_count": 150,
   "metadata": {},
   "outputs": [
    {
     "data": {
      "text/html": [
       "<div>\n",
       "<style scoped>\n",
       "    .dataframe tbody tr th:only-of-type {\n",
       "        vertical-align: middle;\n",
       "    }\n",
       "\n",
       "    .dataframe tbody tr th {\n",
       "        vertical-align: top;\n",
       "    }\n",
       "\n",
       "    .dataframe thead th {\n",
       "        text-align: right;\n",
       "    }\n",
       "</style>\n",
       "<table border=\"1\" class=\"dataframe\">\n",
       "  <thead>\n",
       "    <tr style=\"text-align: right;\">\n",
       "      <th></th>\n",
       "      <th>title</th>\n",
       "      <th>score</th>\n",
       "      <th>content_score_normalized</th>\n",
       "    </tr>\n",
       "  </thead>\n",
       "  <tbody>\n",
       "    <tr>\n",
       "      <th>0</th>\n",
       "      <td>O homofóbico dentro de cada um</td>\n",
       "      <td>0.949535</td>\n",
       "      <td>1.000000</td>\n",
       "    </tr>\n",
       "    <tr>\n",
       "      <th>1</th>\n",
       "      <td>[Books] Biblioteca FIXE: Sugestões de Leitura</td>\n",
       "      <td>0.324373</td>\n",
       "      <td>0.341612</td>\n",
       "    </tr>\n",
       "    <tr>\n",
       "      <th>2</th>\n",
       "      <td>SINAIS do FUTURO imediato: #1, internet das co...</td>\n",
       "      <td>0.309699</td>\n",
       "      <td>0.326158</td>\n",
       "    </tr>\n",
       "    <tr>\n",
       "      <th>3</th>\n",
       "      <td>Por dentro do Nubank, conheça os segredos da f...</td>\n",
       "      <td>0.286833</td>\n",
       "      <td>0.302077</td>\n",
       "    </tr>\n",
       "    <tr>\n",
       "      <th>4</th>\n",
       "      <td>A saga do jovem CEO da Dasa</td>\n",
       "      <td>0.284552</td>\n",
       "      <td>0.299675</td>\n",
       "    </tr>\n",
       "  </tbody>\n",
       "</table>\n",
       "</div>"
      ],
      "text/plain": [
       "                                               title     score  \\\n",
       "0                     O homofóbico dentro de cada um  0.949535   \n",
       "1      [Books] Biblioteca FIXE: Sugestões de Leitura  0.324373   \n",
       "2  SINAIS do FUTURO imediato: #1, internet das co...  0.309699   \n",
       "3  Por dentro do Nubank, conheça os segredos da f...  0.286833   \n",
       "4                        A saga do jovem CEO da Dasa  0.284552   \n",
       "\n",
       "   content_score_normalized  \n",
       "0                  1.000000  \n",
       "1                  0.341612  \n",
       "2                  0.326158  \n",
       "3                  0.302077  \n",
       "4                  0.299675  "
      ]
     },
     "execution_count": 150,
     "metadata": {},
     "output_type": "execute_result"
    }
   ],
   "source": [
    "content_df_test.head()"
   ]
  },
  {
   "cell_type": "markdown",
   "metadata": {},
   "source": [
    "### Collaborative Recommendation"
   ]
  },
  {
   "cell_type": "code",
   "execution_count": 169,
   "metadata": {},
   "outputs": [],
   "source": [
    "item_index_test = 1951"
   ]
  },
  {
   "cell_type": "code",
   "execution_count": 170,
   "metadata": {},
   "outputs": [
    {
     "data": {
      "text/plain": [
       "0       0.094987\n",
       "1       0.000000\n",
       "2       0.205196\n",
       "3       0.127317\n",
       "4       0.269177\n",
       "          ...   \n",
       "2235    0.000000\n",
       "2236    0.000000\n",
       "2237    0.000000\n",
       "2238    0.000000\n",
       "2239    0.000000\n",
       "Name: 1951, Length: 2240, dtype: float64"
      ]
     },
     "execution_count": 170,
     "metadata": {},
     "output_type": "execute_result"
    }
   ],
   "source": [
    "item_prediction.iloc[item_index_test]"
   ]
  },
  {
   "cell_type": "code",
   "execution_count": 171,
   "metadata": {},
   "outputs": [],
   "source": [
    "item_recommendation_test = pd.DataFrame(item_prediction.iloc[item_index].sort_values(ascending=False))"
   ]
  },
  {
   "cell_type": "code",
   "execution_count": 172,
   "metadata": {},
   "outputs": [],
   "source": [
    "item_recommendation_test.reset_index(inplace=True)"
   ]
  },
  {
   "cell_type": "code",
   "execution_count": 173,
   "metadata": {},
   "outputs": [],
   "source": [
    "item_recommendation_test.columns = ['item_no','score']"
   ]
  },
  {
   "cell_type": "code",
   "execution_count": 174,
   "metadata": {},
   "outputs": [],
   "source": [
    "merged_test = pd.merge(item_recommendation_test, merged,  on='item_no', how='left')"
   ]
  },
  {
   "cell_type": "code",
   "execution_count": 175,
   "metadata": {},
   "outputs": [
    {
     "data": {
      "text/html": [
       "<div>\n",
       "<style scoped>\n",
       "    .dataframe tbody tr th:only-of-type {\n",
       "        vertical-align: middle;\n",
       "    }\n",
       "\n",
       "    .dataframe tbody tr th {\n",
       "        vertical-align: top;\n",
       "    }\n",
       "\n",
       "    .dataframe thead th {\n",
       "        text-align: right;\n",
       "    }\n",
       "</style>\n",
       "<table border=\"1\" class=\"dataframe\">\n",
       "  <thead>\n",
       "    <tr style=\"text-align: right;\">\n",
       "      <th></th>\n",
       "      <th>item_no</th>\n",
       "      <th>score</th>\n",
       "      <th>interaction_type</th>\n",
       "      <th>consumer_no</th>\n",
       "      <th>title</th>\n",
       "      <th>text_description</th>\n",
       "      <th>language</th>\n",
       "    </tr>\n",
       "  </thead>\n",
       "  <tbody>\n",
       "    <tr>\n",
       "      <th>0</th>\n",
       "      <td>11</td>\n",
       "      <td>1.0</td>\n",
       "      <td>5.0</td>\n",
       "      <td>6.0</td>\n",
       "      <td>Setting Up HTTP(S) Load Balancing</td>\n",
       "      <td>HTTP(S) load balancing provides global load ba...</td>\n",
       "      <td>en</td>\n",
       "    </tr>\n",
       "    <tr>\n",
       "      <th>1</th>\n",
       "      <td>11</td>\n",
       "      <td>1.0</td>\n",
       "      <td>5.0</td>\n",
       "      <td>72.0</td>\n",
       "      <td>Setting Up HTTP(S) Load Balancing</td>\n",
       "      <td>HTTP(S) load balancing provides global load ba...</td>\n",
       "      <td>en</td>\n",
       "    </tr>\n",
       "    <tr>\n",
       "      <th>2</th>\n",
       "      <td>11</td>\n",
       "      <td>1.0</td>\n",
       "      <td>5.0</td>\n",
       "      <td>43.0</td>\n",
       "      <td>Setting Up HTTP(S) Load Balancing</td>\n",
       "      <td>HTTP(S) load balancing provides global load ba...</td>\n",
       "      <td>en</td>\n",
       "    </tr>\n",
       "    <tr>\n",
       "      <th>3</th>\n",
       "      <td>11</td>\n",
       "      <td>1.0</td>\n",
       "      <td>5.0</td>\n",
       "      <td>75.0</td>\n",
       "      <td>Setting Up HTTP(S) Load Balancing</td>\n",
       "      <td>HTTP(S) load balancing provides global load ba...</td>\n",
       "      <td>en</td>\n",
       "    </tr>\n",
       "    <tr>\n",
       "      <th>4</th>\n",
       "      <td>11</td>\n",
       "      <td>1.0</td>\n",
       "      <td>5.0</td>\n",
       "      <td>78.0</td>\n",
       "      <td>Setting Up HTTP(S) Load Balancing</td>\n",
       "      <td>HTTP(S) load balancing provides global load ba...</td>\n",
       "      <td>en</td>\n",
       "    </tr>\n",
       "  </tbody>\n",
       "</table>\n",
       "</div>"
      ],
      "text/plain": [
       "   item_no  score  interaction_type  consumer_no  \\\n",
       "0       11    1.0               5.0          6.0   \n",
       "1       11    1.0               5.0         72.0   \n",
       "2       11    1.0               5.0         43.0   \n",
       "3       11    1.0               5.0         75.0   \n",
       "4       11    1.0               5.0         78.0   \n",
       "\n",
       "                               title  \\\n",
       "0  Setting Up HTTP(S) Load Balancing   \n",
       "1  Setting Up HTTP(S) Load Balancing   \n",
       "2  Setting Up HTTP(S) Load Balancing   \n",
       "3  Setting Up HTTP(S) Load Balancing   \n",
       "4  Setting Up HTTP(S) Load Balancing   \n",
       "\n",
       "                                    text_description language  \n",
       "0  HTTP(S) load balancing provides global load ba...       en  \n",
       "1  HTTP(S) load balancing provides global load ba...       en  \n",
       "2  HTTP(S) load balancing provides global load ba...       en  \n",
       "3  HTTP(S) load balancing provides global load ba...       en  \n",
       "4  HTTP(S) load balancing provides global load ba...       en  "
      ]
     },
     "execution_count": 175,
     "metadata": {},
     "output_type": "execute_result"
    }
   ],
   "source": [
    "merged_test.head()"
   ]
  },
  {
   "cell_type": "code",
   "execution_count": 176,
   "metadata": {},
   "outputs": [],
   "source": [
    "merged_test = merged_test.drop(['text_description','language'], axis =1)"
   ]
  },
  {
   "cell_type": "code",
   "execution_count": 179,
   "metadata": {},
   "outputs": [],
   "source": [
    "merged_test['collaborative_score_normalized'] = (merged_test['score']-min(merged_test['score']))/(max(merged_test['score'])-min(merged_test['score']))"
   ]
  },
  {
   "cell_type": "code",
   "execution_count": 180,
   "metadata": {},
   "outputs": [
    {
     "data": {
      "text/html": [
       "<div>\n",
       "<style scoped>\n",
       "    .dataframe tbody tr th:only-of-type {\n",
       "        vertical-align: middle;\n",
       "    }\n",
       "\n",
       "    .dataframe tbody tr th {\n",
       "        vertical-align: top;\n",
       "    }\n",
       "\n",
       "    .dataframe thead th {\n",
       "        text-align: right;\n",
       "    }\n",
       "</style>\n",
       "<table border=\"1\" class=\"dataframe\">\n",
       "  <thead>\n",
       "    <tr style=\"text-align: right;\">\n",
       "      <th></th>\n",
       "      <th>item_no</th>\n",
       "      <th>score</th>\n",
       "      <th>interaction_type</th>\n",
       "      <th>consumer_no</th>\n",
       "      <th>title</th>\n",
       "      <th>collaborative_score_normalized</th>\n",
       "    </tr>\n",
       "  </thead>\n",
       "  <tbody>\n",
       "    <tr>\n",
       "      <th>0</th>\n",
       "      <td>11</td>\n",
       "      <td>1.0</td>\n",
       "      <td>5.0</td>\n",
       "      <td>6.0</td>\n",
       "      <td>Setting Up HTTP(S) Load Balancing</td>\n",
       "      <td>1.0</td>\n",
       "    </tr>\n",
       "    <tr>\n",
       "      <th>1</th>\n",
       "      <td>11</td>\n",
       "      <td>1.0</td>\n",
       "      <td>5.0</td>\n",
       "      <td>72.0</td>\n",
       "      <td>Setting Up HTTP(S) Load Balancing</td>\n",
       "      <td>1.0</td>\n",
       "    </tr>\n",
       "    <tr>\n",
       "      <th>2</th>\n",
       "      <td>11</td>\n",
       "      <td>1.0</td>\n",
       "      <td>5.0</td>\n",
       "      <td>43.0</td>\n",
       "      <td>Setting Up HTTP(S) Load Balancing</td>\n",
       "      <td>1.0</td>\n",
       "    </tr>\n",
       "    <tr>\n",
       "      <th>3</th>\n",
       "      <td>11</td>\n",
       "      <td>1.0</td>\n",
       "      <td>5.0</td>\n",
       "      <td>75.0</td>\n",
       "      <td>Setting Up HTTP(S) Load Balancing</td>\n",
       "      <td>1.0</td>\n",
       "    </tr>\n",
       "    <tr>\n",
       "      <th>4</th>\n",
       "      <td>11</td>\n",
       "      <td>1.0</td>\n",
       "      <td>5.0</td>\n",
       "      <td>78.0</td>\n",
       "      <td>Setting Up HTTP(S) Load Balancing</td>\n",
       "      <td>1.0</td>\n",
       "    </tr>\n",
       "  </tbody>\n",
       "</table>\n",
       "</div>"
      ],
      "text/plain": [
       "   item_no  score  interaction_type  consumer_no  \\\n",
       "0       11    1.0               5.0          6.0   \n",
       "1       11    1.0               5.0         72.0   \n",
       "2       11    1.0               5.0         43.0   \n",
       "3       11    1.0               5.0         75.0   \n",
       "4       11    1.0               5.0         78.0   \n",
       "\n",
       "                               title  collaborative_score_normalized  \n",
       "0  Setting Up HTTP(S) Load Balancing                             1.0  \n",
       "1  Setting Up HTTP(S) Load Balancing                             1.0  \n",
       "2  Setting Up HTTP(S) Load Balancing                             1.0  \n",
       "3  Setting Up HTTP(S) Load Balancing                             1.0  \n",
       "4  Setting Up HTTP(S) Load Balancing                             1.0  "
      ]
     },
     "execution_count": 180,
     "metadata": {},
     "output_type": "execute_result"
    }
   ],
   "source": [
    "merged_test.head()"
   ]
  },
  {
   "cell_type": "code",
   "execution_count": 181,
   "metadata": {},
   "outputs": [],
   "source": [
    "hybrid_test = pd.merge(merged_test, content_df_test, on = 'title' , how = 'left')"
   ]
  },
  {
   "cell_type": "code",
   "execution_count": 182,
   "metadata": {},
   "outputs": [],
   "source": [
    "hybrid_test['final_score'] = (hybrid_test['collaborative_score_normalized'] + hybrid_test['content_score_normalized'])/2"
   ]
  },
  {
   "cell_type": "code",
   "execution_count": 183,
   "metadata": {},
   "outputs": [],
   "source": [
    "hybrid_test = hybrid_test[['item_no','title','consumer_no','final_score']]"
   ]
  },
  {
   "cell_type": "markdown",
   "metadata": {},
   "source": [
    "### Model Evaluation on Test Set"
   ]
  },
  {
   "cell_type": "code",
   "execution_count": 186,
   "metadata": {},
   "outputs": [
    {
     "data": {
      "text/plain": [
       "{'recall_top_five': 0.35, 'recall_top_ten': 0.63}"
      ]
     },
     "execution_count": 186,
     "metadata": {},
     "output_type": "execute_result"
    }
   ],
   "source": [
    "# Checking the recommendation accuracies for item_no 1951 from the test set\n",
    "model_evaluation(1951,hybrid_test)"
   ]
  }
 ],
 "metadata": {
  "kernelspec": {
   "display_name": "Python 3",
   "language": "python",
   "name": "python3"
  },
  "language_info": {
   "codemirror_mode": {
    "name": "ipython",
    "version": 3
   },
   "file_extension": ".py",
   "mimetype": "text/x-python",
   "name": "python",
   "nbconvert_exporter": "python",
   "pygments_lexer": "ipython3",
   "version": "3.8.5"
  }
 },
 "nbformat": 4,
 "nbformat_minor": 4
}
